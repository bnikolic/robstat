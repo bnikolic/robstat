{
 "cells": [
  {
   "cell_type": "markdown",
   "id": "e2f35afc",
   "metadata": {},
   "source": [
    "<center><strong><font size=+3>Gaussian Process Interpolation of HERA data</font></center>\n",
    "<br><br>\n",
    "</center>\n",
    "<center><strong><font size=+2>Matyas Molnar and Bojan Nikolic</font><br></strong></center>\n",
    "<br><center><strong><font size=+1>Astrophysics Group, Cavendish Laboratory, University of Cambridge</font></strong></center>"
   ]
  },
  {
   "cell_type": "code",
   "execution_count": null,
   "id": "56158610",
   "metadata": {},
   "outputs": [],
   "source": [
    "import itertools\n",
    "import os\n",
    "\n",
    "import matplotlib as mpl\n",
    "import numpy as np\n",
    "from matplotlib import cm, colors, ticker\n",
    "from matplotlib import pyplot as plt\n",
    "from scipy import signal\n",
    "from scipy.interpolate import griddata, interp1d\n",
    "from sklearn import gaussian_process as gp\n",
    "from sklearn import preprocessing\n",
    "\n",
    "from robstat.ml import extrem_nans, nan_interp2d\n",
    "from robstat.utils import DATAPATH, decomposeCArray"
   ]
  },
  {
   "cell_type": "code",
   "execution_count": null,
   "id": "23587bed",
   "metadata": {},
   "outputs": [],
   "source": [
    "%matplotlib inline"
   ]
  },
  {
   "cell_type": "code",
   "execution_count": null,
   "id": "a995c4a8",
   "metadata": {},
   "outputs": [],
   "source": [
    "mpl.rcParams['figure.dpi'] = 175\n",
    "mpl.rcParams['figure.figsize'] = (5, 3)"
   ]
  },
  {
   "cell_type": "markdown",
   "id": "b476abdc",
   "metadata": {},
   "source": [
    "### Load HERA dataset"
   ]
  },
  {
   "cell_type": "code",
   "execution_count": null,
   "id": "d7350659",
   "metadata": {},
   "outputs": [],
   "source": [
    "xd_vis_file = os.path.join(DATAPATH, 'xd_vis_extd_rph.npz')\n",
    "sample_xd_data = np.load(xd_vis_file)"
   ]
  },
  {
   "cell_type": "code",
   "execution_count": null,
   "id": "2fff03bb",
   "metadata": {},
   "outputs": [],
   "source": [
    "xd_data = sample_xd_data['data'] # dimensions (days, freqs, times, bls)\n",
    "xd_flags = sample_xd_data['flags']\n",
    "xd_data[xd_flags] *= np.nan # multiply to also hit the imag part\n",
    "\n",
    "xd_redg = sample_xd_data['redg']\n",
    "xd_times = sample_xd_data['times']\n",
    "xd_pol = sample_xd_data['pol'].item()\n",
    "JDs = sample_xd_data['JDs']\n",
    "\n",
    "freqs = sample_xd_data['freqs']\n",
    "chans = sample_xd_data['chans']\n",
    "\n",
    "f_resolution = np.median(np.ediff1d(freqs))"
   ]
  },
  {
   "cell_type": "code",
   "execution_count": null,
   "id": "49d164c7",
   "metadata": {},
   "outputs": [],
   "source": [
    "bl_grp = 0 # only look at 0th baseline group\n",
    "\n",
    "slct_bl_idxs = np.where(xd_redg[:, 0] == bl_grp)[0]\n",
    "data = xd_data[..., slct_bl_idxs]\n",
    "flags = xd_flags[..., slct_bl_idxs]\n",
    "slct_red_bl = xd_redg[slct_bl_idxs[0], :][1:]\n",
    "xd_data_bls = xd_data[..., slct_bl_idxs]\n",
    "no_bls = slct_bl_idxs.size\n",
    "print('Looking at baselines redundant to ({}, {}, \\'{}\\')'.\\\n",
    "      format(*slct_red_bl, xd_pol))"
   ]
  },
  {
   "cell_type": "markdown",
   "id": "721a6cf3",
   "metadata": {},
   "source": [
    "### Format & clean dataset"
   ]
  },
  {
   "cell_type": "code",
   "execution_count": null,
   "id": "932eea4e",
   "metadata": {},
   "outputs": [],
   "source": [
    "# remove baselines with only nan entries\n",
    "nan_bls = np.where(np.isnan(xd_data_bls).all(axis=(0, 1, 2)))[0]\n",
    "no_bls = no_bls - nan_bls.size\n",
    "xd_data_bls = np.delete(xd_data_bls, nan_bls, axis=3)"
   ]
  },
  {
   "cell_type": "code",
   "execution_count": null,
   "id": "266efa94",
   "metadata": {},
   "outputs": [],
   "source": [
    "# percentage of data flagged\n",
    "print(round(np.isnan(xd_data_bls).sum() / xd_data_bls.size * 100, 3))"
   ]
  },
  {
   "cell_type": "code",
   "execution_count": null,
   "id": "e1b9570b",
   "metadata": {},
   "outputs": [],
   "source": [
    "# find data slice with few nan values\n",
    "sum_nans = np.isnan(xd_data_bls).sum(axis=(1, 2))\n",
    "ok = np.unravel_index(sum_nans.argmin(), sum_nans.shape)\n",
    "\n",
    "test_data = xd_data_bls[ok[0], ..., ok[1]]"
   ]
  },
  {
   "cell_type": "code",
   "execution_count": null,
   "id": "627e9ded",
   "metadata": {},
   "outputs": [],
   "source": [
    "# remove frequencies at extremities with only nan entries\n",
    "nan_chans = extrem_nans(np.isnan(test_data).all(axis=(1)))\n",
    "if nan_chans.size != 0:\n",
    "    flt_chans = np.delete(chans, nan_chans)\n",
    "    flt_freqs = np.delete(freqs, nan_chans)\n",
    "    test_data = np.delete(test_data, nan_chans, axis=0)\n",
    "    \n",
    "# remove time integrations at extremities with only nan entries\n",
    "nan_tints = extrem_nans(np.isnan(test_data).all(axis=(0)))\n",
    "if nan_tints.size != 0:\n",
    "    flt_times = np.delete(xd_times, nan_tints)\n",
    "    test_data = np.delete(test_data, nan_tints, axis=1)"
   ]
  },
  {
   "cell_type": "markdown",
   "id": "25c609a7",
   "metadata": {},
   "source": [
    "### Gaussian Process regression"
   ]
  },
  {
   "cell_type": "markdown",
   "id": "93c2c176",
   "metadata": {},
   "source": [
    "#### 1D real valued GP"
   ]
  },
  {
   "cell_type": "code",
   "execution_count": null,
   "id": "abf6b3ab",
   "metadata": {},
   "outputs": [],
   "source": [
    "sample_data = np.abs(test_data[:, 0])\n",
    "print('Flagged data points at channels {}'.format(flt_chans[np.where(np.isnan(sample_data))[0]].tolist()))\n",
    "\n",
    "nans = np.isnan(sample_data)\n",
    "nan_loc = lambda z: z.nonzero()[0]\n",
    "\n",
    "# interpolate nan values just for this plot and for noise estimate\n",
    "f_vis = interp1d(flt_freqs[~nans], sample_data[~nans], kind='cubic')\n",
    "sample_data_i = sample_data.copy()\n",
    "sample_data_i[nans] = f_vis(flt_freqs[nans])\n",
    "\n",
    "plt.figure()\n",
    "plt.scatter(flt_freqs, sample_data, s=3)\n",
    "plt.scatter(flt_freqs[nans], sample_data_i[nans], s=3, label='interp values')\n",
    "plt.xlabel('Frequency')\n",
    "plt.ylabel(r'$\\left| V \\right|$')\n",
    "plt.legend(loc='upper right', prop={'size': 6})\n",
    "plt.tight_layout()\n",
    "plt.show()"
   ]
  },
  {
   "cell_type": "code",
   "execution_count": null,
   "id": "9d73edf4",
   "metadata": {},
   "outputs": [],
   "source": [
    "# quick & dirty noise estimate - can get better values from the data files\n",
    "noise_dest = np.var(np.abs(np.ediff1d(sample_data_i)))\n",
    "print('Dirty noise estimate: {}'.format(round(noise_dest, 3)))"
   ]
  },
  {
   "cell_type": "code",
   "execution_count": null,
   "id": "12d062c5",
   "metadata": {},
   "outputs": [],
   "source": [
    "const_min = 10**np.floor(np.log10(sample_data[~nans].min()))\n",
    "const_max = 10**(np.ceil(np.log10(sample_data[~nans].max()))+1)\n",
    "\n",
    "kernel = gp.kernels.RBF(length_scale=f_resolution*20, length_scale_bounds=(1e5, 1e8)) * \\\n",
    "         gp.kernels.ConstantKernel(constant_value=np.nanmean(sample_data)**2, \\\n",
    "                                   constant_value_bounds=(const_min, const_max)) + \\\n",
    "         gp.kernels.WhiteKernel(noise_level=5e0, noise_level_bounds=(1e-1, 2e+1))\n",
    "\n",
    "model = gp.GaussianProcessRegressor(kernel=kernel, n_restarts_optimizer=100, normalize_y=False)\n",
    "\n",
    "model.fit(flt_freqs[~nans].reshape(-1, 1), sample_data[~nans])\n",
    "print(model.kernel_)"
   ]
  },
  {
   "cell_type": "code",
   "execution_count": null,
   "id": "428df765",
   "metadata": {},
   "outputs": [],
   "source": [
    "model.kernel_.get_params()['k1'].get_params()['k1'].get_params()"
   ]
  },
  {
   "cell_type": "code",
   "execution_count": null,
   "id": "6827ca49",
   "metadata": {},
   "outputs": [],
   "source": [
    "freq_pred = np.linspace(flt_freqs[0], flt_freqs[-1], 1000)\n",
    "y_pred, std = model.predict(freq_pred[:, np.newaxis], return_std=True)"
   ]
  },
  {
   "cell_type": "code",
   "execution_count": null,
   "id": "76246678",
   "metadata": {},
   "outputs": [],
   "source": [
    "plt.figure()\n",
    "plt.fill_between(freq_pred, y_pred-3*std, y_pred+3*std, color='lightgray')\n",
    "plt.fill_between(freq_pred, y_pred-2*std, y_pred+2*std, color='darkgray')\n",
    "plt.fill_between(freq_pred, y_pred-1*std, y_pred+1*std, color='gray')\n",
    "plt.scatter(flt_freqs, sample_data, s=2, color='orange', zorder=3)\n",
    "plt.plot(freq_pred, y_pred, zorder=2)\n",
    "plt.xlabel('Frequency')\n",
    "plt.ylabel(r'$\\left| V \\right|$')\n",
    "plt.tight_layout()\n",
    "plt.show()"
   ]
  },
  {
   "cell_type": "markdown",
   "id": "264587f0",
   "metadata": {},
   "source": [
    "##### Explore hyperparameter space"
   ]
  },
  {
   "cell_type": "code",
   "execution_count": null,
   "id": "c331df24",
   "metadata": {},
   "outputs": [],
   "source": [
    "# make a grid of different hyperparameter values to explore the marginal likelihood landscape\n",
    "lsv_log_min = np.log10(f_resolution)\n",
    "lsv_log_max = np.log10(flt_freqs[-1] - flt_freqs[0])\n",
    "\n",
    "nlv_log_min = np.log10(noise_dest) + 1\n",
    "nlv_log_max = np.log10(noise_dest) - 1\n",
    "\n",
    "lsv = np.logspace(lsv_log_min, lsv_log_max, 100)\n",
    "nlv = np.logspace(nlv_log_min, nlv_log_max, 100)\n",
    "cv = np.nanmean(sample_data)**2 # fix this\n",
    "\n",
    "margloglik = np.empty((lsv.size, nlv.size))\n",
    "\n",
    "for i, l in enumerate(lsv):\n",
    "    for j, n in enumerate(nlv):\n",
    "        kernel = gp.kernels.RBF(length_scale=l) * \\\n",
    "                 gp.kernels.ConstantKernel(constant_value=cv) + \\\n",
    "                 gp.kernels.WhiteKernel(noise_level=n)\n",
    "\n",
    "        model_ij = gp.GaussianProcessRegressor(kernel=kernel, optimizer=None)\n",
    "        model_ij.fit(flt_freqs[~nans].reshape(-1, 1), sample_data[~nans])\n",
    "\n",
    "        margloglik[i, j] = model_ij.log_marginal_likelihood()"
   ]
  },
  {
   "cell_type": "code",
   "execution_count": null,
   "id": "892d2824",
   "metadata": {},
   "outputs": [],
   "source": [
    "L, N = np.meshgrid(lsv, nlv)\n",
    "\n",
    "fig, ax = plt.subplots()\n",
    "\n",
    "levels = np.logspace(np.log10(-margloglik.max()), np.log10(-margloglik.min()), 30)\n",
    "cp = ax.contour(L, N, -margloglik.T, levels=levels, cmap='viridis')\n",
    "\n",
    "idx_max = np.unravel_index(np.argmax(margloglik), margloglik.shape)\n",
    "ax.scatter(lsv[idx_max[0]], nlv[idx_max[1]], color='orange')\n",
    "\n",
    "norm = colors.Normalize(vmin=cp.cvalues.min(), vmax=cp.cvalues.max())\n",
    "sm = plt.cm.ScalarMappable(norm=norm, cmap=cp.cmap)\n",
    "# sm.set_array([])\n",
    "cb = fig.colorbar(sm)\n",
    "cb.ax.invert_yaxis()\n",
    "\n",
    "ax.set_xscale('log')\n",
    "ax.set_yscale('log')\n",
    "\n",
    "ax.set_title('NMLL')\n",
    "ax.set_xlabel('Length scale')\n",
    "ax.set_ylabel('Noise level')\n",
    "\n",
    "plt.tight_layout()\n",
    "plt.show()"
   ]
  },
  {
   "cell_type": "code",
   "execution_count": null,
   "id": "9cff76c1",
   "metadata": {},
   "outputs": [],
   "source": [
    "# cubic interpolation of MLL space to get finer detail\n",
    "no_interp_points = 1000\n",
    "l_log_i = np.logspace(lsv_log_min, lsv_log_max, no_interp_points)\n",
    "n_log_i = np.logspace(nlv_log_min, nlv_log_max, no_interp_points)\n",
    "L_i, N_i = np.meshgrid(l_log_i, n_log_i)\n",
    "grid_z = griddata((L.ravel(), N.ravel()), margloglik.ravel(), (L_i, N_i), method='cubic', rescale=True)"
   ]
  },
  {
   "cell_type": "code",
   "execution_count": null,
   "id": "e4faca6f",
   "metadata": {},
   "outputs": [],
   "source": [
    "fig, ax = plt.subplots(ncols=2, sharey=True)\n",
    "ax[0].imshow(-margloglik, cmap='viridis', interpolation=None, \\\n",
    "             extent=[lsv.min(), lsv.max(), nlv.min(), nlv.max()], aspect='auto')\n",
    "ax[1].imshow(-grid_z, cmap='viridis', interpolation=None, \\\n",
    "             extent=[l_log_i.min(), l_log_i.max(), n_log_i.min(), n_log_i.max()], aspect='auto')\n",
    "ax[0].set_title('Original points', size=9)\n",
    "ax[1].set_title('Cubic interpolation', size=9)\n",
    "ax[0].set_xlabel('Length scale', size=8)\n",
    "ax[1].set_xlabel('Length scale', size=8)\n",
    "ax[0].set_ylabel('Noise level', size=8)\n",
    "plt.tight_layout()\n",
    "plt.show()"
   ]
  },
  {
   "cell_type": "code",
   "execution_count": null,
   "id": "4cfd0478",
   "metadata": {},
   "outputs": [],
   "source": [
    "# hyperparameters with highest MLLs\n",
    "interp_max_idx = np.unravel_index(np.argmax(grid_z), grid_z.shape)\n",
    "print('{:e} {:e}'.format(l_log_i[interp_max_idx[0]], n_log_i[interp_max_idx[1]]))"
   ]
  },
  {
   "cell_type": "code",
   "execution_count": null,
   "id": "58e00f23",
   "metadata": {},
   "outputs": [],
   "source": [
    "# compare to ones found from optimization\n",
    "model.kernel_"
   ]
  },
  {
   "cell_type": "code",
   "execution_count": null,
   "id": "54e22c57",
   "metadata": {},
   "outputs": [],
   "source": [
    "%matplotlib notebook\n",
    "fig = plt.figure(figsize=(8, 6))\n",
    "ax = plt.axes(projection='3d')\n",
    "ax.plot_surface(L, N, -margloglik.T, cmap='plasma_r')\n",
    "ax.set_xlabel('Length scale')\n",
    "ax.set_ylabel('Noise level')\n",
    "ax.set_zlabel('NMLL', rotation=90)\n",
    "plt.tight_layout()\n",
    "plt.show()"
   ]
  },
  {
   "cell_type": "code",
   "execution_count": null,
   "id": "315f7b53",
   "metadata": {},
   "outputs": [],
   "source": [
    "# back to original settings\n",
    "%matplotlib inline\n",
    "mpl.rcParams['figure.dpi'] = 175\n",
    "mpl.rcParams['figure.figsize'] = (5, 3)"
   ]
  },
  {
   "cell_type": "markdown",
   "id": "ecb576f3",
   "metadata": {},
   "source": [
    "#### Complex GP"
   ]
  },
  {
   "cell_type": "code",
   "execution_count": null,
   "id": "58fe2fd2",
   "metadata": {},
   "outputs": [],
   "source": [
    "c_tdata = decomposeCArray(test_data[:, 0]) # multiple target for complex numbers\n",
    "c_nans = np.isnan(sample_data)"
   ]
  },
  {
   "cell_type": "code",
   "execution_count": null,
   "id": "174759a4",
   "metadata": {},
   "outputs": [],
   "source": [
    "const_min = np.max(10**np.floor(np.log10(np.max([np.nanmin(c_tdata), 1]))))\n",
    "const_max = 10**(np.ceil(np.log10(np.nanmax(c_tdata)))+1)\n",
    "\n",
    "kernel = gp.kernels.RBF(length_scale=f_resolution*20, length_scale_bounds=(1e5, 1e8)) * \\\n",
    "         gp.kernels.ConstantKernel(constant_value=np.nanmean(c_tdata)**2, \\\n",
    "                                   constant_value_bounds=(const_min, const_max)) + \\\n",
    "         gp.kernels.WhiteKernel(noise_level=5e0, noise_level_bounds=(1e-1, 2e+1))\n",
    "\n",
    "model = gp.GaussianProcessRegressor(kernel=kernel, n_restarts_optimizer=100, normalize_y=False)\n",
    "\n",
    "model.fit(flt_freqs[~nans].reshape(-1, 1), c_tdata[~nans])\n",
    "print(model.kernel_)"
   ]
  },
  {
   "cell_type": "code",
   "execution_count": null,
   "id": "32439cc8",
   "metadata": {},
   "outputs": [],
   "source": [
    "y_c_pred, c_std = model.predict(freq_pred[:, np.newaxis], return_std=True)\n",
    "y_c_pred = y_c_pred[:, 0] + 1j*y_c_pred[:, 1]"
   ]
  },
  {
   "cell_type": "code",
   "execution_count": null,
   "id": "5f14ba0d",
   "metadata": {},
   "outputs": [],
   "source": [
    "plt.figure()\n",
    "\n",
    "real_lab = r'$\\mathfrak{Re} \\; (V)$'\n",
    "imag_lab = r'$\\mathfrak{Im} \\; (V)$'\n",
    "\n",
    "# real\n",
    "plt.fill_between(freq_pred, y_c_pred.real-3*std, y_c_pred.real+3*std, color='lightgray', alpha=0.5)\n",
    "plt.fill_between(freq_pred, y_c_pred.real-2*std, y_c_pred.real+2*std, color='darkgray', alpha=0.5)\n",
    "plt.fill_between(freq_pred, y_c_pred.real-1*std, y_c_pred.real+1*std, color='gray', alpha=0.5)\n",
    "plt.plot(freq_pred, y_c_pred.real, zorder=2, color='orange', label=real_lab)\n",
    "plt.scatter(flt_freqs[~nans], c_tdata[:, 0][~nans], s=2, color='blue', zorder=3)\n",
    "\n",
    "# imag\n",
    "plt.fill_between(freq_pred, y_c_pred.imag-3*std, y_c_pred.imag+3*std, color='lightgray', alpha=0.5)\n",
    "plt.fill_between(freq_pred, y_c_pred.imag-2*std, y_c_pred.imag+2*std, color='darkgray', alpha=0.5)\n",
    "plt.fill_between(freq_pred, y_c_pred.imag-1*std, y_c_pred.imag+1*std, color='gray', alpha=0.5)\n",
    "plt.plot(freq_pred, y_c_pred.imag, zorder=2, color='purple', label=imag_lab)\n",
    "plt.scatter(flt_freqs[~nans], c_tdata[:, 1][~nans], s=2, color='red', zorder=3)\n",
    "\n",
    "plt.xlabel('Frequency')\n",
    "plt.legend(prop={'size': 6})\n",
    "plt.tight_layout()\n",
    "plt.show()"
   ]
  },
  {
   "cell_type": "markdown",
   "id": "92594f9f",
   "metadata": {},
   "source": [
    "#### Add time as a feature"
   ]
  },
  {
   "cell_type": "code",
   "execution_count": null,
   "id": "acf5c33e",
   "metadata": {},
   "outputs": [],
   "source": [
    "test_data_r = test_data[:30, :20] # reduce size of dataset f\n",
    "flt_freqs_r = flt_freqs[:test_data_r.shape[0]]"
   ]
  },
  {
   "cell_type": "code",
   "execution_count": null,
   "id": "c6b2d99d",
   "metadata": {},
   "outputs": [],
   "source": [
    "if test_data_r.shape[0] >= test_data_r.shape[1]:\n",
    "    ncols = 1\n",
    "    nrows = 2\n",
    "    sharex = True\n",
    "    sharey = False\n",
    "else:\n",
    "    ncols = 2\n",
    "    nrows = 1\n",
    "    sharex = False\n",
    "    sharey = True\n",
    "\n",
    "fig, ax = plt.subplots(ncols=ncols, nrows=nrows, sharex=sharex, sharey=sharey)\n",
    "extent_r = [flt_freqs_r.min()/1e6, flt_freqs_r.max()/1e6, test_data_r.shape[1], 0]\n",
    "ax[0].imshow(test_data_r.real.T, extent=extent_r, aspect='auto', interpolation='none')\n",
    "ax[1].imshow(test_data_r.imag.T, extent=extent_r, aspect='auto', interpolation='none')\n",
    "\n",
    "ax[0].set_title(real_lab, size=8)\n",
    "ax[1].set_title(imag_lab, size=8)\n",
    "ax[0].set_ylabel('Time integration', size=8)\n",
    "ax[1].set_xlabel('Frequency (MHz)', size=8)\n",
    "if sharex:\n",
    "    ax[1].set_ylabel('Time integration', size=8)\n",
    "else:\n",
    "    ax[0].set_xlabel('Frequency (MHz)', size=8)\n",
    "\n",
    "plt.tight_layout()\n",
    "plt.show()"
   ]
  },
  {
   "cell_type": "code",
   "execution_count": null,
   "id": "3cd6154a",
   "metadata": {},
   "outputs": [],
   "source": [
    "X_us = np.array(np.meshgrid(flt_freqs[:test_data_r.shape[0]], \\\n",
    "                            np.arange(test_data_r.shape[1]))).T.reshape(-1, 2)\n",
    "scaler = preprocessing.StandardScaler().fit(X_us)\n",
    "X_s = scaler.transform(X_us)\n",
    "\n",
    "Y = decomposeCArray(test_data_r.ravel(order='C'))\n",
    "\n",
    "nans_a = np.isnan(test_data_r.ravel(order='C'))\n",
    "X, Y = X_s[~nans_a, :], Y[~nans_a, :]"
   ]
  },
  {
   "cell_type": "code",
   "execution_count": null,
   "id": "2a0f66e0",
   "metadata": {},
   "outputs": [],
   "source": [
    "const_min = np.max(10**np.floor(np.log10(np.nanmax([np.nanmin(Y), 1]))))\n",
    "const_max = 10**(np.ceil(np.log10(np.nanmax(Y)))+1)\n",
    "ls_init = np.mean(np.ediff1d(X.ravel()))\n",
    "noise_est = np.nanstd(test_data_r)\n",
    "\n",
    "kernel = gp.kernels.RBF(length_scale=ls_init, length_scale_bounds=(1e-2, 2e1)) * \\\n",
    "         gp.kernels.ConstantKernel(constant_value=np.nanmean(Y)**2, \\\n",
    "                                   constant_value_bounds=(const_min, const_max)) + \\\n",
    "         gp.kernels.WhiteKernel(noise_level=noise_est, noise_level_bounds=(1e-1, 1e+2))\n",
    "\n",
    "model = gp.GaussianProcessRegressor(kernel=kernel, n_restarts_optimizer=5, normalize_y=False)\n",
    "\n",
    "model.fit(X, Y)\n",
    "print(model.kernel_)"
   ]
  },
  {
   "cell_type": "code",
   "execution_count": null,
   "id": "01692292",
   "metadata": {},
   "outputs": [],
   "source": [
    "f_min, f_max = np.min(np.min(X[:, 0])), np.max(np.max(X[:, 0]))\n",
    "t_min, t_max = np.min(np.min(X[:, 1])), np.max(np.max(X[:, 1]))\n",
    "dim_pred = np.array(np.meshgrid(np.linspace(f_min, f_max, 100), \\\n",
    "                                np.linspace(t_min, t_max, 100))).T.reshape(-1, 2)"
   ]
  },
  {
   "cell_type": "code",
   "execution_count": null,
   "id": "26421b9f",
   "metadata": {},
   "outputs": [],
   "source": [
    "y_ir_pred, c_std = model.predict(dim_pred, return_std=True)"
   ]
  },
  {
   "cell_type": "code",
   "execution_count": null,
   "id": "6a1d6efb",
   "metadata": {},
   "outputs": [],
   "source": [
    "dim_pred_itr = scaler.inverse_transform(dim_pred)\n",
    "coords = dim_pred_itr.reshape(100, 100, -1)\n",
    "\n",
    "pdata = (y_ir_pred[:, 0] + 1j*y_ir_pred[:, 1]).reshape(100, 100)"
   ]
  },
  {
   "cell_type": "code",
   "execution_count": null,
   "id": "6f93b28c",
   "metadata": {},
   "outputs": [],
   "source": [
    "# look at a time slice\n",
    "plt.figure()\n",
    "plt.plot(coords[:, 0, 0], pdata.real[:, 0], color='orange', label=real_lab)\n",
    "plt.plot(coords[:, 0, 0], pdata.imag[:, 0], color='purple', label=imag_lab)\n",
    "plt.scatter(flt_freqs[:test_data_r.shape[0]], test_data_r[:, 0].real, s=2, color='blue')\n",
    "plt.scatter(flt_freqs[:test_data_r.shape[0]], test_data_r[:, 0].imag, s=2, color='red')\n",
    "plt.xlabel('Frequency')\n",
    "plt.legend(prop={'size': 6})\n",
    "plt.tight_layout()\n",
    "plt.show()"
   ]
  },
  {
   "cell_type": "code",
   "execution_count": null,
   "id": "591711e6",
   "metadata": {},
   "outputs": [],
   "source": [
    "# look at a frequency slice\n",
    "plt.figure()\n",
    "plt.plot(coords[0, :, 1], pdata.real[0, :], color='orange', label=real_lab)\n",
    "plt.plot(coords[0, :, 1], pdata.imag[0, :], color='purple', label=imag_lab)\n",
    "plt.scatter(np.arange(test_data_r.shape[1]), test_data_r[0, :].real, s=2, color='blue')\n",
    "plt.scatter(np.arange(test_data_r.shape[1]), test_data_r[0, :].imag, s=2, color='red')\n",
    "plt.xlabel('Time integration')\n",
    "plt.legend(prop={'size': 6})\n",
    "plt.tight_layout()\n",
    "plt.show()"
   ]
  },
  {
   "cell_type": "code",
   "execution_count": null,
   "id": "df087af6",
   "metadata": {},
   "outputs": [],
   "source": [
    "# GP interpolation of nan data\n",
    "Y_nan = model.predict(X_s[nans_a, :])\n",
    "Y_nan = Y_nan[:, 0] + 1j*Y_nan[:, 1]\n",
    "\n",
    "test_data_r_filled = test_data_r.ravel(order='C')\n",
    "test_data_r_filled[nans_a] = Y_nan\n",
    "test_data_r_filled = test_data_r_filled.reshape(test_data_r.shape)"
   ]
  },
  {
   "cell_type": "code",
   "execution_count": null,
   "id": "2b7e6497",
   "metadata": {},
   "outputs": [],
   "source": [
    "# compare to 2D cubic interpolation\n",
    "test_data_r_ci = nan_interp2d(test_data_r)"
   ]
  },
  {
   "cell_type": "code",
   "execution_count": null,
   "id": "95ca31ce",
   "metadata": {},
   "outputs": [],
   "source": [
    "fig, axes = plt.subplots(ncols=2, nrows=2, sharex=True, sharey=True)\n",
    "\n",
    "# cubic interpolation\n",
    "axes[0][0].imshow(test_data_r_ci.real.T, extent=extent_r, aspect='auto')\n",
    "axes[1][0].imshow(test_data_r_ci.imag.T, extent=extent_r, aspect='auto')\n",
    "\n",
    "# GP\n",
    "axes[0][1].imshow(test_data_r_filled.real.T, extent=extent_r, aspect='auto')\n",
    "axes[1][1].imshow(test_data_r_filled.imag.T, extent=extent_r, aspect='auto')\n",
    "\n",
    "for ax, col in zip(axes[0], ['Cubic interpolation', 'GP interpolation']):\n",
    "    ax.set_title(col, size=8)\n",
    "    \n",
    "for ax, col in zip(axes, [real_lab, imag_lab]):\n",
    "    ax[0].set_ylabel(col+'\\n\\nTime integration', size=8)\n",
    "    \n",
    "axes[1][0].set_xlabel('Frequency (MHz)', size=8)\n",
    "axes[1][1].set_xlabel('Frequency (MHz)', size=8)\n",
    "\n",
    "plt.tight_layout()\n",
    "plt.show()"
   ]
  },
  {
   "cell_type": "markdown",
   "id": "b7a764de",
   "metadata": {},
   "source": [
    "##### Performance against cubic interpolation"
   ]
  },
  {
   "cell_type": "code",
   "execution_count": null,
   "id": "8b6e55cc",
   "metadata": {},
   "outputs": [],
   "source": [
    "# sample non-nan data that has been median averaged across JDs\n",
    "nn_chan_idxs = np.unique(np.where(np.isnan(xd_data_bls[..., 0]).all(axis=(0)))[0])\n",
    "largest_gap = np.argmax(np.ediff1d(nn_chan_idxs))\n",
    "chan_se = nn_chan_idxs[[largest_gap, largest_gap+1]]\n",
    "\n",
    "chans_m = np.arange(chan_se[0]+1, chan_se[1])\n",
    "test_data_m = np.nanmedian(xd_data_bls[:, chan_se[0]+1:chan_se[1], \\\n",
    "                                       :, 0], axis=0)\n",
    "\n",
    "test_data_m = test_data_m[:30, :20]\n",
    "flt_freqs_m = flt_freqs[:test_data_m.shape[0]]"
   ]
  },
  {
   "cell_type": "code",
   "execution_count": null,
   "id": "b8258b77",
   "metadata": {},
   "outputs": [],
   "source": [
    "if test_data_m.shape[0] >= test_data_m.shape[1]:\n",
    "    ncols = 1\n",
    "    nrows = 2\n",
    "    sharex = True\n",
    "    sharey = False\n",
    "else:\n",
    "    ncols = 2\n",
    "    nrows = 1\n",
    "    sharex = False\n",
    "    sharey = True\n",
    "\n",
    "fig, ax = plt.subplots(ncols=ncols, nrows=nrows, sharex=sharex, sharey=sharey)\n",
    "extent_m = [flt_freqs_m.min()/1e6, flt_freqs_m.max()/1e6, test_data_m.shape[1], 0]\n",
    "ax[0].imshow(test_data_m.real.T, extent=extent_m, aspect='auto')\n",
    "ax[1].imshow(test_data_m.imag.T, extent=extent_m, aspect='auto')\n",
    "\n",
    "ax[0].set_title(real_lab, size=8)\n",
    "ax[1].set_title(imag_lab, size=8)\n",
    "ax[0].set_ylabel('Time integration', size=8)\n",
    "ax[1].set_xlabel('Frequency (MHz)', size=8)\n",
    "if sharex:\n",
    "    ax[1].set_ylabel('Time integration', size=8)\n",
    "else:\n",
    "    ax[0].set_xlabel('Frequency (MHz)', size=8)\n",
    "\n",
    "plt.tight_layout()\n",
    "plt.show()"
   ]
  },
  {
   "cell_type": "code",
   "execution_count": null,
   "id": "c5e72eb9",
   "metadata": {},
   "outputs": [],
   "source": [
    "# artifically add holes in data\n",
    "flg_no_point = test_data_m.size//10\n",
    "flg_no_chans = test_data_m.shape[0]//10\n",
    "flg_no_tints = test_data_m.shape[1]//10\n",
    "\n",
    "test_data_m_n = test_data_m.copy()\n",
    "\n",
    "np.random.seed(0)\n",
    "# random flagged slices\n",
    "rnd_idx = np.sort(np.random.choice(np.arange(test_data_m.size), flg_no_point, replace=False))\n",
    "rnd_idxs = np.unravel_index(rnd_idx, test_data_m.shape)\n",
    "test_data_m_n[rnd_idxs] *= np.nan\n",
    "\n",
    "# random flagged freq rows and tint cols\n",
    "flg_chans = np.random.choice(np.arange(test_data_m.shape[0]), flg_no_chans, replace=False)\n",
    "flg_tints = np.random.choice(np.arange(test_data_m.shape[1]), flg_no_tints, replace=False)\n",
    "test_data_m_n[flg_chans, :] *= np.nan\n",
    "test_data_m_n[:, flg_tints] *= np.nan"
   ]
  },
  {
   "cell_type": "code",
   "execution_count": null,
   "id": "aee74cad",
   "metadata": {},
   "outputs": [],
   "source": [
    "# randomly nan'd data points \n",
    "fig, ax = plt.subplots(ncols=ncols, nrows=nrows)\n",
    "ax[0].imshow(test_data_m_n.real.T, extent=extent_m, aspect='auto', interpolation='none')\n",
    "ax[1].imshow(test_data_m_n.imag.T, extent=extent_m, aspect='auto', interpolation='none')\n",
    "\n",
    "ax[0].set_title(real_lab, size=8)\n",
    "ax[1].set_title(imag_lab, size=8)\n",
    "ax[0].set_ylabel('Time integration', size=8)\n",
    "ax[1].set_xlabel('Frequency (MHz)', size=8)\n",
    "if sharex:\n",
    "    ax[1].set_ylabel('Time integration', size=8)\n",
    "else:\n",
    "    ax[0].set_xlabel('Frequency (MHz)', size=8)\n",
    "\n",
    "plt.tight_layout()\n",
    "plt.show()"
   ]
  },
  {
   "cell_type": "code",
   "execution_count": null,
   "id": "9fecb241",
   "metadata": {},
   "outputs": [],
   "source": [
    "# cubic interpolation\n",
    "# note that if a flagged data point is in a corner, this method cannot extrapolate to that point\n",
    "test_data_m_n_ci = nan_interp2d(test_data_m_n, kind='cubic')"
   ]
  },
  {
   "cell_type": "code",
   "execution_count": null,
   "id": "bd40a854",
   "metadata": {},
   "outputs": [],
   "source": [
    "# GP interpolation\n",
    "X_us = np.array(np.meshgrid(flt_freqs[chan_se[0]:chan_se[1]][:test_data_m.shape[0]], \\\n",
    "                            np.arange(test_data_m_n.shape[1]))).T.reshape(-1, 2)\n",
    "scaler = preprocessing.StandardScaler().fit(X_us)\n",
    "X_s = scaler.transform(X_us)\n",
    "\n",
    "Y = decomposeCArray(test_data_m_n.ravel(order='C'))\n",
    "\n",
    "nans_a = np.isnan(test_data_m_n.ravel(order='C'))\n",
    "X, Y = X_s[~nans_a, :], Y[~nans_a, :]\n",
    "\n",
    "\n",
    "const_min = np.max(10**np.floor(np.log10(np.nanmax([np.nanmin(Y), 1]))))\n",
    "const_max = 10**(np.ceil(np.log10(np.nanmax(Y)))+1)\n",
    "ls_init = np.mean(np.ediff1d(X.ravel()))\n",
    "noise_est = np.nanstd(test_data_m_n)\n",
    "\n",
    "kernel = gp.kernels.RBF(length_scale=ls_init, length_scale_bounds=(1e-2, 1e1)) * \\\n",
    "         gp.kernels.ConstantKernel(constant_value=np.nanmean(Y)**2, \\\n",
    "                                   constant_value_bounds=(const_min, const_max)) + \\\n",
    "         gp.kernels.WhiteKernel(noise_level=noise_est, noise_level_bounds=(1e-1, 1e+2))\n",
    "\n",
    "# normalize target values by removing mean and scaling to unit-variance with normalize_y=True \n",
    "model_i = gp.GaussianProcessRegressor(kernel=kernel, n_restarts_optimizer=5, normalize_y=True)\n",
    "model_i.fit(X, Y)\n",
    "print(model_i.kernel_)\n",
    "\n",
    "y_ir_pred, c_std = model_i.predict(X_s[nans_a, :], return_std=True)\n",
    "\n",
    "pdata = (y_ir_pred[:, 0] + 1j*y_ir_pred[:, 1])"
   ]
  },
  {
   "cell_type": "code",
   "execution_count": null,
   "id": "de0185ba",
   "metadata": {},
   "outputs": [],
   "source": [
    "test_data_m_n_gpi = test_data_m_n.copy()\n",
    "test_data_m_n_gpi[np.where(np.isnan(test_data_m_n))] = pdata"
   ]
  },
  {
   "cell_type": "code",
   "execution_count": null,
   "id": "777e4da3",
   "metadata": {},
   "outputs": [],
   "source": [
    "# results\n",
    "fig, axes = plt.subplots(ncols=2, nrows=2, sharex=True, sharey=True)\n",
    "\n",
    "# cubic interpolation\n",
    "axes[0][0].imshow(test_data_m_n_ci.real.T, extent=extent_m, aspect='auto')\n",
    "axes[1][0].imshow(test_data_m_n_ci.imag.T, extent=extent_m, aspect='auto')\n",
    "\n",
    "# GP\n",
    "axes[0][1].imshow(test_data_m_n_gpi.real.T, extent=extent_m, aspect='auto')\n",
    "axes[1][1].imshow(test_data_m_n_gpi.imag.T, extent=extent_m, aspect='auto')\n",
    "\n",
    "for ax, col in zip(axes[0], ['Cubic interpolation', 'GP interpolation']):\n",
    "    ax.set_title(col, size=8)\n",
    "    \n",
    "for ax, col in zip(axes, [real_lab, imag_lab]):\n",
    "    ax[0].set_ylabel(col+'\\n\\nTime integration', size=8)\n",
    "    \n",
    "axes[1][0].set_xlabel('Frequency (MHz)', size=8)\n",
    "axes[1][1].set_xlabel('Frequency (MHz)', size=8)\n",
    "\n",
    "plt.tight_layout()\n",
    "plt.show()"
   ]
  },
  {
   "cell_type": "code",
   "execution_count": null,
   "id": "08822bcc",
   "metadata": {},
   "outputs": [],
   "source": [
    "# residuals for the flagged data points\n",
    "plt.figure()\n",
    "ci_res = np.abs(test_data_m[rnd_idxs] - test_data_m_n_ci[rnd_idxs])\n",
    "gpi_res = np.abs(test_data_m[rnd_idxs] - test_data_m_n_gpi[rnd_idxs])\n",
    "plt.plot(ci_res, label='Cubic interp', lw=1.5, alpha=0.7)\n",
    "plt.plot(gpi_res, label='GP interp', lw=1.5, alpha=0.7, color='orange')\n",
    "plt.axhline(np.nanmean(ci_res), ls='--')\n",
    "plt.axhline(gpi_res.mean(), ls='--', color='orange')\n",
    "plt.ylabel(r'$\\left| \\Delta V \\right|$')\n",
    "plt.legend(loc='upper right', prop={'size': 8})\n",
    "plt.tight_layout()\n",
    "plt.show()"
   ]
  },
  {
   "cell_type": "code",
   "execution_count": null,
   "id": "db1be65a",
   "metadata": {},
   "outputs": [],
   "source": [
    "# cross-PS between all time integrations pairs\n",
    "\n",
    "# don't want fully flagged time integrations\n",
    "ps_data = np.delete(test_data_m, flg_tints, axis=1)\n",
    "gpi_ps_data = np.delete(test_data_m_n_gpi, flg_tints, axis=1)\n",
    "\n",
    "tint_pairs = list(itertools.product(np.arange(ps_data.shape[1]), repeat=2))\n",
    "tints1 = [i[0] for i in tint_pairs]\n",
    "tints2 = [i[1] for i in tint_pairs]\n",
    "\n",
    "delay, pspec = signal.csd(ps_data[..., tints1], ps_data[..., tints2], \\\n",
    "    fs=1/f_resolution, window='hann', scaling='spectrum', nfft=None, detrend=False, \\\n",
    "    return_onesided=False, nperseg=ps_data.shape[0], axis=0)\n",
    "\n",
    "delay_sort = np.argsort(delay)\n",
    "delay = delay[delay_sort]\n",
    "pspec = pspec[delay_sort, :]\n",
    "\n",
    "gpi_delay, gpi_pspec = signal.csd(gpi_ps_data[..., tints1], gpi_ps_data[..., tints2], \\\n",
    "    fs=1/f_resolution, window='hann', scaling='spectrum', nfft=None, detrend=False, \\\n",
    "    return_onesided=False, nperseg=gpi_ps_data.shape[0], axis=0)\n",
    "\n",
    "delay_sort = np.argsort(gpi_delay)\n",
    "gpi_delay = gpi_delay[delay_sort]\n",
    "gpi_pspec = gpi_pspec[delay_sort, :]\n",
    "\n",
    "pspec_mean = np.nanmean(pspec, axis=1)\n",
    "gpi_pspec_mean = np.nanmean(gpi_pspec, axis=1)"
   ]
  },
  {
   "cell_type": "code",
   "execution_count": null,
   "id": "6319ef78",
   "metadata": {},
   "outputs": [],
   "source": [
    "fig, axes = plt.subplots(ncols=3, figsize=(10, 6), sharey=True)\n",
    "\n",
    "axes[0].plot(delay, np.abs(pspec), alpha=0.3)\n",
    "axes[0].plot(delay, np.abs(pspec_mean), alpha=1, color='orange')\n",
    "axes[0].set_ylabel('Power spectrum')\n",
    "\n",
    "axes[1].plot(delay, np.abs(gpi_pspec), alpha=0.3)\n",
    "axes[1].plot(delay, np.abs(gpi_pspec_mean), alpha=1, color='purple')\n",
    "\n",
    "axes[2].plot(delay, np.abs(pspec_mean), alpha=0.6, color='orange', label='Actual')\n",
    "axes[2].plot(delay, np.abs(gpi_pspec_mean), alpha=0.6, color='purple', label='Interpolated')\n",
    "\n",
    "for ax in axes:\n",
    "    ax.set_yscale('log')\n",
    "    ax.set_xlabel('Delay')\n",
    "    \n",
    "axes[0].set_title('Actual data')\n",
    "axes[1].set_title('Interpolated data')\n",
    "axes[2].set_title('Comparison')\n",
    "axes[2].legend(loc='best')\n",
    "\n",
    "plt.show()"
   ]
  }
 ],
 "metadata": {
  "kernelspec": {
   "display_name": "Python 3 (ipykernel)",
   "language": "python",
   "name": "python3"
  },
  "language_info": {
   "codemirror_mode": {
    "name": "ipython",
    "version": 3
   },
   "file_extension": ".py",
   "mimetype": "text/x-python",
   "name": "python",
   "nbconvert_exporter": "python",
   "pygments_lexer": "ipython3",
   "version": "3.9.7"
  },
  "toc": {
   "base_numbering": 1,
   "nav_menu": {},
   "number_sections": true,
   "sideBar": true,
   "skip_h1_title": false,
   "title_cell": "Table of Contents",
   "title_sidebar": "Contents",
   "toc_cell": false,
   "toc_position": {},
   "toc_section_display": true,
   "toc_window_display": false
  }
 },
 "nbformat": 4,
 "nbformat_minor": 5
}
