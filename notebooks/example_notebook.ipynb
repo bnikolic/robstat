{
 "cells": [
  {
   "cell_type": "code",
   "execution_count": null,
   "id": "changed-fellow",
   "metadata": {},
   "outputs": [],
   "source": [
    "import numpy as np\n",
    "from scipy import stats\n",
    "\n",
    "from matplotlib import pyplot as plt\n",
    "from scipy.stats.mstats import gmean as geometric_mean\n",
    "\n",
    "from robstat.robstat import circ_mean_dev, geometric_median, mardia_median, \\\n",
    "mv_median, tukey_median"
   ]
  },
  {
   "cell_type": "code",
   "execution_count": null,
   "id": "dangerous-praise",
   "metadata": {},
   "outputs": [],
   "source": [
    "%matplotlib inline"
   ]
  },
  {
   "cell_type": "code",
   "execution_count": null,
   "id": "pleased-crest",
   "metadata": {},
   "outputs": [],
   "source": [
    "# create sample angular data\n",
    "angle_center = 0.5\n",
    "angles = angle_center + np.random.normal(loc=0, scale=0.2, size=200)\n",
    "\n",
    "x_coords = np.cos(angles)\n",
    "y_coords = np.sin(angles)"
   ]
  },
  {
   "cell_type": "code",
   "execution_count": null,
   "id": "provincial-jumping",
   "metadata": {},
   "outputs": [],
   "source": [
    "fig, ax = plt.subplots(figsize=(6, 6), dpi=100)\n",
    "\n",
    "circ_rad = 1\n",
    "lim_rng = circ_rad * 1.25\n",
    "\n",
    "ax.set(xlim=(-lim_rng, lim_rng), ylim = (-lim_rng, lim_rng))\n",
    "\n",
    "a_circle = plt.Circle((0, 0), 1, fill=False, color='blue', alpha=0.5)\n",
    "ax.add_artist(a_circle)\n",
    "\n",
    "ax.axhline(0, color='grey', ls='--', lw=0.5)\n",
    "ax.axvline(0, color='grey', ls='--', lw=0.5)\n",
    "ax.plot(x_coords, y_coords, 'o', color='orange', markersize=4, alpha=0.5)\n",
    "\n",
    "plt.show()"
   ]
  },
  {
   "cell_type": "code",
   "execution_count": null,
   "id": "bearing-tackle",
   "metadata": {},
   "outputs": [],
   "source": [
    "fig, ax = plt.subplots(figsize=(6, 6), dpi=100, subplot_kw={'projection': 'polar'})\n",
    "\n",
    "ax.set(rlim=(0, lim_rng))\n",
    "ax.set_rlabel_position(-90)\n",
    "\n",
    "ax.plot(np.linspace(0, 2*np.pi, 1000), np.ones(1000), color='blue', linestyle='-', alpha=0.5)\n",
    "\n",
    "ax.plot(angles, np.ones_like(angles), 'o', color='orange', markersize=4, alpha=0.5)\n",
    "\n",
    "plt.show()"
   ]
  },
  {
   "cell_type": "code",
   "execution_count": null,
   "id": "designing-hearing",
   "metadata": {},
   "outputs": [],
   "source": [
    "# circular mean deviation\n",
    "np.array([circ_mean_dev(angles, angle_center)]).item()"
   ]
  },
  {
   "cell_type": "markdown",
   "id": "novel-shelter",
   "metadata": {},
   "source": [
    "### Mardia Median\n",
    "\n",
    "Mardia median given by the angle that the circular mean deviation:\n",
    "\n",
    "$$ d(\\tilde\\theta) = \\pi - \\frac{1}{n} \\sum_{i=1}^{n} \\left| \\pi - \\left| \\theta_i - \\tilde\\theta \\right| \\right| $$\n",
    "\n",
    "where $\\tilde\\theta$ is the estimate of the preferred direction, and it is used as a measure of dispersion.\n",
    "\n",
    "The Mardia median occasionally leads to a non-unique estimate of the circular median since there can sometimes be two or more diameters that divide the data equally and have the same circular mean deviation.\n",
    "\n",
    "Weighted Mardia median:\n",
    "\n",
    "$$ d(\\tilde\\theta) = \\pi - \\frac{1}{\\sum \\eta_i} \\sum_{i=1}^{n} \\eta_i \\left| \\pi - \\left| \\theta_i - \\tilde\\theta \\right| \\right| $$"
   ]
  },
  {
   "cell_type": "code",
   "execution_count": null,
   "id": "facial-adapter",
   "metadata": {},
   "outputs": [],
   "source": [
    "# checking uniqueness of Mardia Median\n",
    "\n",
    "x = mardia_median(angles, init_guess=angle_center-0.3)\n",
    "y = mardia_median(angles, init_guess=angle_center+0.3)\n",
    "\n",
    "print('Mardia Medians found:')\n",
    "print(x)\n",
    "print(y, '\\n')\n",
    "\n",
    "print('Circular mean: \\n{}\\n'.format(stats.circmean(angles)))\n",
    "\n",
    "cmd_x = circ_mean_dev(angles, x).item()\n",
    "cmd_y = circ_mean_dev(angles, y).item()\n",
    "print('Circular mean deviations for the Mardia Medians (check):')\n",
    "print(cmd_x)\n",
    "print(cmd_y, '\\n')\n",
    "\n",
    "if ~np.isclose(x, y):\n",
    "    print('The Mardia Median in this example is not unique')"
   ]
  },
  {
   "cell_type": "markdown",
   "id": "9e7a633b",
   "metadata": {},
   "source": [
    "### Geometric Median\n",
    "\n",
    "The geometric median is defined as the value of the argument $y$ that minimizes the sum of Euclidian distances between $y$ and all points $x_i$:\n",
    "\n",
    "$$ \\underset{y \\in \\mathbb{R}^d}{\\mathrm{arg\\,min}} \\sum_{i=1}^n || x_i - y ||_2  $$\n",
    "\n",
    "Properties & asides:\n",
    " - The geometric median has a breakdown point of 0.5: up to half of the sample data may be arbitrarily corrupted, and the median of the samples will still provide a robust estimator for the location of the uncorrupted data\n",
    " - The geometric median is unique whenever the points are not collinear https://ui.adsabs.harvard.edu/abs/2000PNAS...97.1423V/abstract\n",
    " - Weiszfeld's algorithm for faster computation\n",
    " \n",
    "We can also weight the geometric median:\n",
    "\n",
    "$$ \\underset{y \\in \\mathbb{R}^d}{\\mathrm{arg\\,min}} \\sum_{i=1}^n \\eta_i || x_i - y ||_2  $$"
   ]
  },
  {
   "cell_type": "markdown",
   "id": "43952b2e",
   "metadata": {},
   "source": [
    "### Tukey Median\n",
    "\n",
    "Tukey (1975) proposed the halfspace depth as a tool to visually describe bivariate datasets.\n",
    "\n",
    "For a finite set of data points $X_n = \\{x_1, ..., x_n\\}$ in $\\mathbb{R}^d$, the Tukey depth, or halfspace depth of any point $y \\in \\mathbb{R}^d$ determines how central the point is inside the data cloud.\n",
    "\n",
    "The halfspace depth of $y$ is defined as the minimal number of data points in any closed halfspace determined by a hyperplane through $y$:\n",
    "\n",
    "$$ hdepth(y; X_n) = \\underset{|| u || = 1}{\\mathrm{min}} \\# \\{i; u^{\\tau} x_i \\geq u^{\\tau} y \\} $$\n",
    "\n",
    "The set of all points with depth > k is called the kth depth region Dk. The halfspace depth regions form a sequence of nested polyhedra."
   ]
  },
  {
   "cell_type": "code",
   "execution_count": null,
   "id": "selected-international",
   "metadata": {},
   "outputs": [],
   "source": [
    "points = np.random.random(500).reshape(250, 2)\n",
    "points[:, 0] += 2\n",
    "points[:, 1] += 2\n",
    "points_c = points[:, 0] + points[:, 1]*1j\n",
    "sample_gmean = geometric_mean(points_c)\n",
    "sample_gmed = geometric_median(points, weights=None)\n",
    "sample_tmed = tukey_median(points)['barycenter']"
   ]
  },
  {
   "cell_type": "code",
   "execution_count": null,
   "id": "exact-season",
   "metadata": {},
   "outputs": [],
   "source": [
    "fig, ax = plt.subplots(figsize=(6, 6), dpi=100)\n",
    "\n",
    "ax.scatter(points[:, 0], points[:, 1], alpha=0.5)\n",
    "ax.plot(sample_gmean.real, sample_gmean.imag, 'ro', label='gmean')\n",
    "ax.plot(sample_gmed[0], sample_gmed[1], 'co', label='gmed')\n",
    "ax.plot(sample_tmed[0], sample_tmed[1], 'yo', label='tmed')\n",
    "ax.set_xlim(1.5, 3.5)\n",
    "ax.set_ylim(1.5, 3.5)\n",
    "\n",
    "plt.legend()\n",
    "plt.show()"
   ]
  },
  {
   "cell_type": "markdown",
   "id": "f57904d6",
   "metadata": {},
   "source": [
    "### Other location depth notions\n",
    "\n",
    " - Simplicial depth\n",
    " - Oja depth\n",
    " - Projection depth\n",
    " - Spatial depth\n",
    " \n",
    " See e.g. https://www.csun.edu/~ctoth/Handbook/chap58.pdf, https://cran.r-project.org/web/packages/depth/depth.pdf\n"
   ]
  },
  {
   "cell_type": "code",
   "execution_count": null,
   "id": "6560d098",
   "metadata": {},
   "outputs": [],
   "source": [
    "for mvm in ['Tukey', 'Oja', 'Liu', 'Spatial', 'CWmed']:\n",
    "    print('{:7s}: {}'.format(mvm, mv_median(points, method=mvm)))"
   ]
  },
  {
   "cell_type": "markdown",
   "id": "certain-edition",
   "metadata": {},
   "source": [
    "TODO:\n",
    " - slice in arbitrary dimension to e.g. take median about n-th dimension\n",
    " - JAX acceleration of cdist\n",
    " - robstat as a packge"
   ]
  }
 ],
 "metadata": {
  "kernelspec": {
   "display_name": "Python 3",
   "language": "python",
   "name": "python3"
  },
  "language_info": {
   "codemirror_mode": {
    "name": "ipython",
    "version": 3
   },
   "file_extension": ".py",
   "mimetype": "text/x-python",
   "name": "python",
   "nbconvert_exporter": "python",
   "pygments_lexer": "ipython3",
   "version": "3.7.10"
  },
  "toc": {
   "base_numbering": 1,
   "nav_menu": {},
   "number_sections": true,
   "sideBar": true,
   "skip_h1_title": false,
   "title_cell": "Table of Contents",
   "title_sidebar": "Contents",
   "toc_cell": false,
   "toc_position": {},
   "toc_section_display": true,
   "toc_window_display": false
  }
 },
 "nbformat": 4,
 "nbformat_minor": 5
}
