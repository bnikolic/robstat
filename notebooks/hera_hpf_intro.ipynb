{
 "cells": [
  {
   "cell_type": "markdown",
   "id": "e2f35afc",
   "metadata": {},
   "source": [
    "<center><strong><font size=+3>Introduction to high-pass filtering of HERA data</font></center>\n",
    "<br><br>\n",
    "</center>\n",
    "<center><strong><font size=+2>Matyas Molnar and Bojan Nikolic</font><br></strong></center>\n",
    "<br><center><strong><font size=+1>Astrophysics Group, Cavendish Laboratory, University of Cambridge</font></strong></center>"
   ]
  },
  {
   "cell_type": "markdown",
   "id": "42723691",
   "metadata": {},
   "source": [
    "The aim of the game in this notebook is to apply a high-pass filter in delay space on HERA visibilities, and to transform back into the visibility domain for further averaging with robust statistical techniques. This will remove low-order modes (consisting mainly of foregrounds) and may better reconcile redundant and same-LST visibilities such that robust averaging may, in consequence, be more effective.\n",
    "\n",
    "The transformation to delay space is done on the individually calibrated visibilities, where no averaging across days nor baselines has been done. For this reason, the data has a substantial number of flags and there will not be any clear frequency bands with completely unflagged channels. An unevenly sampled Fourier transform is required, or the data needs to be interpolated.\n",
    "\n",
    "We explore all of these considerations from first principles, and show some illustrative results."
   ]
  },
  {
   "cell_type": "code",
   "execution_count": null,
   "id": "56158610",
   "metadata": {},
   "outputs": [],
   "source": [
    "import itertools\n",
    "import os\n",
    "\n",
    "import matplotlib as mpl\n",
    "import numpy as np\n",
    "from astropy.timeseries import LombScargle\n",
    "from matplotlib import pyplot as plt\n",
    "from scipy import signal\n",
    "from scipy.fft import fft, fftfreq, fftshift, ifft, ifftshift\n",
    "from scipy.signal import butter, convolve, hann, sosfilt, sosfreqz\n",
    "\n",
    "from robstat.ml import extrem_nans, nan_interp2d\n",
    "from robstat.robstat import geometric_median\n",
    "from robstat.stdstat import rsc_mean\n",
    "from robstat.utils import DATAPATH, flt_nan"
   ]
  },
  {
   "cell_type": "code",
   "execution_count": null,
   "id": "23587bed",
   "metadata": {},
   "outputs": [],
   "source": [
    "%matplotlib inline"
   ]
  },
  {
   "cell_type": "code",
   "execution_count": null,
   "id": "a995c4a8",
   "metadata": {},
   "outputs": [],
   "source": [
    "mpl.rcParams['figure.dpi'] = 175\n",
    "mpl.rcParams['figure.figsize'] = (5, 3)"
   ]
  },
  {
   "cell_type": "markdown",
   "id": "b476abdc",
   "metadata": {},
   "source": [
    "### Load HERA dataset"
   ]
  },
  {
   "cell_type": "code",
   "execution_count": null,
   "id": "d7350659",
   "metadata": {},
   "outputs": [],
   "source": [
    "xd_vis_file = os.path.join(DATAPATH, 'xd_vis_extd_rph.npz')\n",
    "sample_xd_data = np.load(xd_vis_file)"
   ]
  },
  {
   "cell_type": "code",
   "execution_count": null,
   "id": "2fff03bb",
   "metadata": {},
   "outputs": [],
   "source": [
    "xd_data = sample_xd_data['data'] # dimensions (days, freqs, times, bls)\n",
    "xd_flags = sample_xd_data['flags']\n",
    "xd_data[xd_flags] *= np.nan\n",
    "\n",
    "xd_redg = sample_xd_data['redg']\n",
    "xd_times = sample_xd_data['times']\n",
    "xd_pol = sample_xd_data['pol'].item()\n",
    "JDs = sample_xd_data['JDs']\n",
    "\n",
    "freqs = sample_xd_data['freqs']\n",
    "chans = sample_xd_data['chans']\n",
    "\n",
    "f_resolution = np.median(np.ediff1d(freqs))\n",
    "no_chans = chans.size"
   ]
  },
  {
   "cell_type": "code",
   "execution_count": null,
   "id": "49d164c7",
   "metadata": {},
   "outputs": [],
   "source": [
    "bl_grp = 0 # only look at 0th baseline group\n",
    "\n",
    "slct_bl_idxs = np.where(xd_redg[:, 0] == bl_grp)[0]\n",
    "flags = xd_flags[..., slct_bl_idxs]\n",
    "slct_red_bl = xd_redg[slct_bl_idxs[0], :][1:]\n",
    "xd_data_bls = xd_data[..., slct_bl_idxs]\n",
    "no_bls = slct_bl_idxs.size\n",
    "print('Looking at baselines redundant to ({}, {}, \\'{}\\')'.\\\n",
    "      format(*slct_red_bl, xd_pol))"
   ]
  },
  {
   "cell_type": "markdown",
   "id": "bf26afc9",
   "metadata": {},
   "source": [
    "### Data preprocessing"
   ]
  },
  {
   "cell_type": "code",
   "execution_count": null,
   "id": "c06a53c7",
   "metadata": {},
   "outputs": [],
   "source": [
    "# remove baselines with only nan entries\n",
    "nan_bls = np.where(np.isnan(xd_data_bls).all(axis=(0, 1, 2)))[0]\n",
    "flt_no_bls = no_bls - nan_bls.size\n",
    "flt_data = np.delete(xd_data_bls, nan_bls, axis=3)\n",
    "\n",
    "# remove frequencies at extremities with only nan entries\n",
    "nan_chans = extrem_nans(np.isnan(flt_data).all(axis=(0, 2, 3)))\n",
    "if nan_chans.size != 0:\n",
    "    flt_chans = np.delete(chans, nan_chans)\n",
    "    flt_freqs = np.delete(freqs, nan_chans)\n",
    "    flt_data = np.delete(flt_data, nan_chans, axis=1)"
   ]
  },
  {
   "cell_type": "code",
   "execution_count": null,
   "id": "6a647476",
   "metadata": {},
   "outputs": [],
   "source": [
    "# find data slice with fewest flags\n",
    "min_nan = np.argmin(np.isnan(flt_data).sum(axis=1))\n",
    "ok = np.unravel_index(min_nan, np.delete(flt_data.shape, 1))\n",
    "test_data = flt_data[ok[0], :, ok[1], ok[2]]\n",
    "nans = np.isnan(test_data)\n",
    "nan_chans = np.isnan(test_data).nonzero()[0]"
   ]
  },
  {
   "cell_type": "code",
   "execution_count": null,
   "id": "0322734f",
   "metadata": {},
   "outputs": [],
   "source": [
    "real_lab = r'$\\mathfrak{Re} \\; (V)$'\n",
    "imag_lab = r'$\\mathfrak{Im} \\; (V)$'\n",
    "\n",
    "fig, ax = plt.subplots()\n",
    "ax.scatter(flt_freqs, test_data.real, s=2, label=real_lab)\n",
    "ax.scatter(flt_freqs, test_data.imag, s=2, label=imag_lab)\n",
    "for i, nan_chan in enumerate(nan_chans):\n",
    "    if i == 0:\n",
    "        label = 'NaN chan'\n",
    "    else:\n",
    "        label = None\n",
    "    ax.axvline(flt_freqs[nan_chan], lw=1, ls='--', color='red', alpha=0.5, label=label)\n",
    "ax.legend(prop={'size': 6})\n",
    "ax.set_xlabel('Frequency')\n",
    "plt.tight_layout()\n",
    "plt.show()"
   ]
  },
  {
   "cell_type": "markdown",
   "id": "f65f23c3",
   "metadata": {},
   "source": [
    "### Unevenly sampled Fourier transform"
   ]
  },
  {
   "cell_type": "markdown",
   "id": "2da721c9",
   "metadata": {},
   "source": [
    "#### Lomb-Scargle periodogram"
   ]
  },
  {
   "cell_type": "markdown",
   "id": "cb69ec24",
   "metadata": {},
   "source": [
    "The Lomb-Scargle periodogram can be used for unevenly spaced observations, but only works for real-valued series. Here is an example of the returned power spectrum using visibility amplitudes for some sample data."
   ]
  },
  {
   "cell_type": "code",
   "execution_count": null,
   "id": "c58c5c3c",
   "metadata": {},
   "outputs": [],
   "source": [
    "dly_lim = 1/f_resolution/2\n",
    "frequency, power = LombScargle(flt_freqs[~nans], np.abs(test_data[~nans])).autopower(maximum_frequency=dly_lim)"
   ]
  },
  {
   "cell_type": "code",
   "execution_count": null,
   "id": "35fce9b0",
   "metadata": {},
   "outputs": [],
   "source": [
    "plt.plot(frequency, power)\n",
    "plt.yscale('log')\n",
    "plt.xlabel('Delay')\n",
    "plt.ylabel('Lomb-Scargle power')\n",
    "plt.tight_layout()\n",
    "plt.show()"
   ]
  },
  {
   "cell_type": "markdown",
   "id": "94375d5c",
   "metadata": {},
   "source": [
    "#### Interpolation aross freqs and time"
   ]
  },
  {
   "cell_type": "code",
   "execution_count": null,
   "id": "e1b9570b",
   "metadata": {},
   "outputs": [],
   "source": [
    "sum_nans = np.isnan(flt_data).sum(axis=(1, 2))\n",
    "ok = np.unravel_index(sum_nans.argmin(), sum_nans.shape)\n",
    "test_data_i = flt_data[ok[0], ..., ok[1]]"
   ]
  },
  {
   "cell_type": "code",
   "execution_count": null,
   "id": "3f810fc7",
   "metadata": {},
   "outputs": [],
   "source": [
    "# percentage of data flagged\n",
    "pct_flagged = round(np.isnan(flt_data).sum() / flt_data.size * 100, 3)\n",
    "print('{}% of the considered data is flagged.'.format(pct_flagged))"
   ]
  },
  {
   "cell_type": "code",
   "execution_count": null,
   "id": "23395440",
   "metadata": {},
   "outputs": [],
   "source": [
    "# cubic interpolation\n",
    "interp_data, nan_c_idxs, nan_t_idxs = nan_interp2d(test_data_i, kind='cubic', \\\n",
    "                                                   rtn_nan_idxs=True)\n",
    "interp_data = np.delete(interp_data, nan_c_idxs, axis=0)\n",
    "interp_data = np.delete(interp_data, nan_t_idxs, axis=1)\n",
    "\n",
    "flt_chans_i = np.delete(flt_chans, nan_c_idxs)\n",
    "flt_freqs_i = np.delete(flt_freqs, nan_c_idxs)\n",
    "flt_tints_i = np.delete(np.arange(xd_times.size), nan_t_idxs)"
   ]
  },
  {
   "cell_type": "code",
   "execution_count": null,
   "id": "1d6ff93c",
   "metadata": {},
   "outputs": [],
   "source": [
    "fig, ax = plt.subplots(nrows=2, figsize=(5, 5), sharex=True)\n",
    "ax[0].plot(flt_freqs, np.abs(test_data_i), lw=1, alpha=0.5)\n",
    "ax[1].plot(flt_freqs_i, np.abs(interp_data), lw=1, alpha=0.5)\n",
    "ax[1].set_xlabel('Frequency')\n",
    "plt.tight_layout()\n",
    "plt.show()"
   ]
  },
  {
   "cell_type": "code",
   "execution_count": null,
   "id": "94cc8232",
   "metadata": {},
   "outputs": [],
   "source": [
    "delay, pspec = signal.periodogram(interp_data, fs=1/f_resolution, \\\n",
    "    window='hann', scaling='spectrum', nfft=None, detrend=False, \\\n",
    "    return_onesided=False, axis=0)\n",
    "\n",
    "delay_sort = np.argsort(delay)\n",
    "delay = delay[delay_sort]\n",
    "pspec = pspec[delay_sort]\n",
    "\n",
    "uf_mean_pspec = pspec.mean(axis=1)"
   ]
  },
  {
   "cell_type": "code",
   "execution_count": null,
   "id": "f4ebd8b4",
   "metadata": {},
   "outputs": [],
   "source": [
    "plt.figure()\n",
    "plt.plot(delay, pspec, lw=1, alpha=0.5)\n",
    "plt.plot(delay, uf_mean_pspec, lw=1, color='blue')\n",
    "plt.yscale('log')\n",
    "plt.xlabel('Delay')\n",
    "plt.tight_layout()\n",
    "plt.show()"
   ]
  },
  {
   "cell_type": "markdown",
   "id": "81e1877c",
   "metadata": {},
   "source": [
    "#### High-pass filter with a transfer window in delay space"
   ]
  },
  {
   "cell_type": "markdown",
   "id": "62db5cc7",
   "metadata": {},
   "source": [
    "As if we were doing this from scratch. Do on evenly sampled data such that FFTs can be used here."
   ]
  },
  {
   "cell_type": "markdown",
   "id": "4e414e85",
   "metadata": {},
   "source": [
    "##### \"Ideal\" high-pass filter"
   ]
  },
  {
   "cell_type": "code",
   "execution_count": null,
   "id": "d8ada859",
   "metadata": {},
   "outputs": [],
   "source": [
    "delay_cut = 1.5e-6 # to avoid 1 us hump + other foregrounds & low-order Fourier effects\n",
    "dlys = fftshift(fftfreq(interp_data.shape[0], f_resolution))\n",
    "\n",
    "# rectangular filter\n",
    "inv_rect = np.ones(interp_data.shape[0])\n",
    "zero_filt = np.where(np.abs(dlys) <= delay_cut)\n",
    "inv_rect[zero_filt] = 0\n",
    "\n",
    "plt.figure()\n",
    "plt.plot(dlys, inv_rect)\n",
    "plt.xlabel('Delay')\n",
    "plt.tight_layout()\n",
    "plt.show()"
   ]
  },
  {
   "cell_type": "code",
   "execution_count": null,
   "id": "2ed64568",
   "metadata": {},
   "outputs": [],
   "source": [
    "ift_inv_rect = ifft(ifftshift(inv_rect))\n",
    "\n",
    "plt.figure()\n",
    "plt.plot(flt_freqs_i, ift_inv_rect.real, label=r'$\\mathfrak{Re}$')\n",
    "plt.plot(flt_freqs_i, ift_inv_rect.imag, label=r'$\\mathfrak{Im}$')\n",
    "plt.xlabel('Frequency')\n",
    "plt.title('IFFT of rectangular window function', size=8)\n",
    "plt.legend(prop={'size':6})\n",
    "plt.tight_layout()\n",
    "plt.show()"
   ]
  },
  {
   "cell_type": "code",
   "execution_count": null,
   "id": "74730c71",
   "metadata": {},
   "outputs": [],
   "source": [
    "ft = fftshift(fft(interp_data, axis=0), axes=0) # delay transform the data\n",
    "ft_flt = ft*inv_rect[:, np.newaxis] # apply the window function to zero the low order modes\n",
    "mod_data = ifft(ifftshift(ft_flt, axes=0), axis=0) # transform back to visibility"
   ]
  },
  {
   "cell_type": "code",
   "execution_count": null,
   "id": "02cae6a1",
   "metadata": {},
   "outputs": [],
   "source": [
    "plt.figure()\n",
    "plt.plot(dlys, np.abs(ft), lw=1, alpha=0.5)\n",
    "plt.yscale('log')\n",
    "plt.xlabel('Delay')\n",
    "plt.title('FFT of data', size=8)\n",
    "plt.tight_layout()\n",
    "plt.show()"
   ]
  },
  {
   "cell_type": "code",
   "execution_count": null,
   "id": "a763950e",
   "metadata": {},
   "outputs": [],
   "source": [
    "plt.plot(dlys, np.abs(ft_flt), lw=1, alpha=0.5)\n",
    "plt.yscale('log')\n",
    "plt.xlabel('Delay')\n",
    "plt.title('FFT of data with window applied', size=8)\n",
    "plt.tight_layout()\n",
    "plt.show()"
   ]
  },
  {
   "cell_type": "code",
   "execution_count": null,
   "id": "cdce7d1a",
   "metadata": {},
   "outputs": [],
   "source": [
    "plt.figure()\n",
    "plt.plot(flt_freqs_i, np.abs(mod_data), lw=1, alpha=0.5)\n",
    "plt.plot(flt_freqs_i, np.abs(mod_data.mean(axis=1)), lw=1.5, color='blue')\n",
    "plt.xlabel('Frequency channel')\n",
    "plt.title('High-pass filtered visibilities', size=8)\n",
    "plt.tight_layout()\n",
    "plt.show()"
   ]
  },
  {
   "cell_type": "markdown",
   "id": "981cc91c",
   "metadata": {},
   "source": [
    "The rectangular window function used here has sharp edges, which imparts structure back in the visibility domain as seen in the IFFT plot. A smoother function is required."
   ]
  },
  {
   "cell_type": "markdown",
   "id": "08eec2fa",
   "metadata": {},
   "source": [
    "##### Butterworth transfer window"
   ]
  },
  {
   "cell_type": "markdown",
   "id": "52a45ba4",
   "metadata": {},
   "source": [
    "Also known as the maximally flat magnitude filter - it has an as flat as possible frequency response in the passband.\n",
    "\n",
    "The “nth” Order Butterworth filter has frequency response:\n",
    "\n",
    "$$ H(j w) = \\frac{H_0}{\\sqrt{1 + \\left(\\frac{j w}{j w_c}\\right)^{2n}}} $$\n",
    "\n",
    "where $n$ is the order of the filter, $w_c$ is the cutoff frequency, $H_0$ is the gain at zero frequency. As $n \\rightarrow \\infty$, the gain becomes a rectangle function with frequencies below $w_c$ completely suppressed."
   ]
  },
  {
   "cell_type": "code",
   "execution_count": null,
   "id": "fed1da1d",
   "metadata": {},
   "outputs": [],
   "source": [
    "sos = signal.butter(5, 1.5e-6, 'high', analog=False, output='sos', fs=1/f_resolution)\n",
    "\n",
    "w, h = signal.sosfreqz(sos, worN=interp_data.shape[0], fs=1/f_resolution)"
   ]
  },
  {
   "cell_type": "code",
   "execution_count": null,
   "id": "ac581949",
   "metadata": {},
   "outputs": [],
   "source": [
    "fig, ax = plt.subplots(ncols=2)\n",
    "ax[0].plot(h.real, label=r'$\\mathfrak{Re}$')\n",
    "ax[0].plot(h.imag, label=r'$\\mathfrak{Im}$')\n",
    "ax[1].plot(np.abs(h), label='Amp')\n",
    "ax[1].plot(np.angle(h), label='Phase')\n",
    "ax[0].legend(prop={'size':6})\n",
    "ax[1].legend(prop={'size':6})\n",
    "plt.tight_layout()\n",
    "plt.show()"
   ]
  },
  {
   "cell_type": "markdown",
   "id": "08b15e7f",
   "metadata": {},
   "source": [
    "We create a transfer window in both the positive and negative delay regions."
   ]
  },
  {
   "cell_type": "code",
   "execution_count": null,
   "id": "595dc7a2",
   "metadata": {},
   "outputs": [],
   "source": [
    "cct_w = np.concatenate((-1*np.flip(w)[:-1], w))\n",
    "cct_h = np.concatenate((np.flip(h)[:-1], h))\n",
    "\n",
    "fig, ax = plt.subplots(ncols=2)\n",
    "ax[0].plot(cct_w, cct_h.real, label=r'$\\mathfrak{Re}$')\n",
    "ax[0].plot(cct_w, cct_h.imag, label=r'$\\mathfrak{Im}$')\n",
    "ax[1].plot(cct_w, np.abs(cct_h), label='Amp')\n",
    "ax[1].plot(cct_w, np.angle(cct_h), label='Phase')\n",
    "ax[0].set_xlabel('Delay')\n",
    "ax[1].set_xlabel('Delay')\n",
    "ax[0].legend(prop={'size':6})\n",
    "ax[1].legend(prop={'size':6})\n",
    "plt.tight_layout()\n",
    "plt.show()"
   ]
  },
  {
   "cell_type": "code",
   "execution_count": null,
   "id": "7b7dc5e2",
   "metadata": {},
   "outputs": [],
   "source": [
    "# need to resample to fit with shape of data array\n",
    "cct_w_mod = np.concatenate((-np.flip(w[::2][:-1]), np.array([0]), w[::2][:-1]))\n",
    "cct_h_mod = np.concatenate((np.flip(h[::2][:-1]), np.array([0]), h[::2][:-1]))"
   ]
  },
  {
   "cell_type": "code",
   "execution_count": null,
   "id": "5b7a81f8",
   "metadata": {},
   "outputs": [],
   "source": [
    "plt.figure()\n",
    "plt.plot(flt_freqs_i, ifft(fftshift(cct_h_mod)).real, label=r'$\\mathfrak{Re}$')\n",
    "plt.plot(flt_freqs_i, ifft(fftshift(cct_h_mod)).imag, label=r'$\\mathfrak{Im}$')\n",
    "plt.xlabel('Frequency')\n",
    "plt.legend(prop={'size':6})\n",
    "plt.tight_layout()\n",
    "plt.show()"
   ]
  },
  {
   "cell_type": "code",
   "execution_count": null,
   "id": "14b9b6d5",
   "metadata": {},
   "outputs": [],
   "source": [
    "ft = fftshift(fft(interp_data, axis=0), axes=0)\n",
    "ft_flt = ft * cct_h_mod[:, np.newaxis]\n",
    "mod_data = ifft(ifftshift(ft_flt, axes=0), axis=0)"
   ]
  },
  {
   "cell_type": "code",
   "execution_count": null,
   "id": "ea78ab37",
   "metadata": {},
   "outputs": [],
   "source": [
    "plt.figure()\n",
    "plt.plot(flt_freqs_i, np.abs(mod_data), lw=1, alpha=0.5)\n",
    "plt.plot(flt_freqs_i, np.abs(mod_data.mean(axis=1)), lw=1.5, color='blue')\n",
    "plt.xlabel('Frequency channel')\n",
    "plt.title('High-pass filtered visibilities', size=8)\n",
    "plt.tight_layout()\n",
    "plt.show()"
   ]
  },
  {
   "cell_type": "code",
   "execution_count": null,
   "id": "72f090d4",
   "metadata": {},
   "outputs": [],
   "source": [
    "plt.figure()\n",
    "plt.plot(dlys, np.abs(ft_flt), lw=1, alpha=0.5)\n",
    "plt.yscale('log')\n",
    "plt.xlabel('Delay')\n",
    "plt.title('FFT of data with window applied', size=8)\n",
    "plt.tight_layout()\n",
    "plt.show()"
   ]
  },
  {
   "cell_type": "markdown",
   "id": "e1b48d4f",
   "metadata": {},
   "source": [
    "### Robust statistics on delay filtered data"
   ]
  },
  {
   "cell_type": "markdown",
   "id": "e90c0aec",
   "metadata": {},
   "source": [
    "#### Compute location estimates in visibility domain of high-pass filtered data, then take periodogram"
   ]
  },
  {
   "cell_type": "code",
   "execution_count": null,
   "id": "daee9e53",
   "metadata": {},
   "outputs": [],
   "source": [
    "flt_no_chans = interp_data.shape[0]\n",
    "\n",
    "mad_sigma = 4.0 # sigma threshold for MAD-clipping, default is 4\n",
    "\n",
    "gmed_res = np.empty(flt_no_chans, dtype=complex)\n",
    "hmean_res = np.empty(flt_no_chans, dtype=complex)\n",
    "\n",
    "gmed_t = None\n",
    "for chan in range(flt_no_chans):\n",
    "    data_t = mod_data[chan, :]\n",
    "    gmed_t = geometric_median(data_t, init_guess=gmed_t, keep_res=True)\n",
    "    hmean_t = rsc_mean(data_t, sigma=mad_sigma)\n",
    "    \n",
    "    gmed_res[chan] = gmed_t\n",
    "    hmean_res[chan] = hmean_t"
   ]
  },
  {
   "cell_type": "code",
   "execution_count": null,
   "id": "db5c7367",
   "metadata": {},
   "outputs": [],
   "source": [
    "gmed_delay, gmed_pspec = signal.periodogram(gmed_res, fs=1/f_resolution, \\\n",
    "    window='hann', scaling='spectrum', nfft=None, detrend=False, \\\n",
    "    return_onesided=False)\n",
    "\n",
    "delay_sort = np.argsort(gmed_delay)\n",
    "gmed_delay = gmed_delay[delay_sort]\n",
    "gmed_pspec = gmed_pspec[delay_sort]\n",
    "\n",
    "hmean_delay, hmean_pspec = signal.periodogram(hmean_res, fs=1./f_resolution, \\\n",
    "    window='hann', scaling='spectrum', nfft=None, detrend=False, \\\n",
    "    return_onesided=False)\n",
    "\n",
    "delay_sort = np.argsort(hmean_delay)\n",
    "hmean_delay = hmean_delay[delay_sort]\n",
    "hmean_pspec = hmean_pspec[delay_sort]"
   ]
  },
  {
   "cell_type": "code",
   "execution_count": null,
   "id": "2b1f3e62",
   "metadata": {},
   "outputs": [],
   "source": [
    "plt.figure()\n",
    "plt.plot(gmed_delay, gmed_pspec, label='Geometric Median', alpha=0.8)\n",
    "plt.plot(gmed_delay, hmean_pspec, label='HERA Mean', alpha=0.8)\n",
    "plt.axvline(-delay_cut, ls='--', color='red', alpha=0.5, label='Cut off')\n",
    "plt.axvline(delay_cut, ls='--', color='red', alpha=0.5)\n",
    "plt.xlabel('Delay')\n",
    "plt.yscale('log')\n",
    "plt.legend(prop={'size': 6})\n",
    "plt.tight_layout()\n",
    "plt.show()"
   ]
  },
  {
   "cell_type": "code",
   "execution_count": null,
   "id": "f0c1929d",
   "metadata": {},
   "outputs": [],
   "source": [
    "# Comparing the PS results from geometric median and HERA mean location estimates\n",
    "resid = (gmed_pspec - hmean_pspec)*np.abs(cct_h_mod)\n",
    "print('Mean normalized adjusted residual between geometric mean and HERA mean: {}.'.\\\n",
    "      format(round(resid.mean(), 7)))\n",
    "\n",
    "plt.figure()\n",
    "plt.plot(gmed_delay, resid)\n",
    "plt.axvline(-delay_cut, ls='--', color='red', alpha=0.5, label='Cut off')\n",
    "plt.axvline(delay_cut, ls='--', color='red', alpha=0.5)\n",
    "plt.xlabel('Delay')\n",
    "plt.tight_layout()\n",
    "plt.show()"
   ]
  },
  {
   "cell_type": "code",
   "execution_count": null,
   "id": "02c65755",
   "metadata": {},
   "outputs": [],
   "source": [
    "hpf_region = np.logical_not(np.abs(dlys) <= delay_cut)\n",
    "\n",
    "cps_resid = np.mean(gmed_pspec[hpf_region] - uf_mean_pspec[hpf_region])\n",
    "print('Residual between HPF and UF PS (robust location averaging in visibility domain): '\\\n",
    "      '{:.5e}'.format(cps_resid))"
   ]
  },
  {
   "cell_type": "markdown",
   "id": "fe74511b",
   "metadata": {},
   "source": [
    "##### Compute CPS across all times for comparison"
   ]
  },
  {
   "cell_type": "code",
   "execution_count": null,
   "id": "91e71e2f",
   "metadata": {},
   "outputs": [],
   "source": [
    "tint_pairs = list(itertools.permutations(np.arange(interp_data.shape[1]), r=2))\n",
    "tint1 = [i[0] for i in tint_pairs]\n",
    "tint2 = [i[1] for i in tint_pairs]"
   ]
  },
  {
   "cell_type": "markdown",
   "id": "10476015",
   "metadata": {},
   "source": [
    "###### HPF data"
   ]
  },
  {
   "cell_type": "code",
   "execution_count": null,
   "id": "2fc22b9d",
   "metadata": {},
   "outputs": [],
   "source": [
    "delay, pspec = signal.csd(mod_data[:, tint1], mod_data[:, tint2], fs=1/f_resolution, \\\n",
    "    window='hann', scaling='spectrum', nfft=None, detrend=False, \\\n",
    "    return_onesided=False, axis=0)\n",
    "\n",
    "delay_sort = np.argsort(delay)\n",
    "delay = delay[delay_sort]\n",
    "pspec = pspec[delay_sort, :]\n",
    "\n",
    "hpf_mean_cpspec = np.abs(pspec.mean(axis=1))"
   ]
  },
  {
   "cell_type": "code",
   "execution_count": null,
   "id": "bb5cdb1c",
   "metadata": {},
   "outputs": [],
   "source": [
    "min_log = np.log10(np.min(hpf_mean_cpspec[hpf_region]))\n",
    "ymin = 10**(np.floor(min_log))\n",
    "\n",
    "max_log = np.log10(np.max(hpf_mean_cpspec[hpf_region]))\n",
    "ymax = 10**(np.ceil(max_log))\n",
    "\n",
    "plt.figure()\n",
    "plt.plot(delay, hpf_mean_cpspec, alpha=0.8)\n",
    "plt.ylim(ymin, ymax)\n",
    "plt.yscale('log')\n",
    "plt.xlabel('Delay')\n",
    "plt.tight_layout()\n",
    "plt.show()"
   ]
  },
  {
   "cell_type": "markdown",
   "id": "c66d4d96",
   "metadata": {},
   "source": [
    "###### Unfiltered data"
   ]
  },
  {
   "cell_type": "code",
   "execution_count": null,
   "id": "8539b173",
   "metadata": {},
   "outputs": [],
   "source": [
    "delay, pspec = signal.csd(interp_data[:, tint1], interp_data[:, tint2], fs=1/f_resolution, \\\n",
    "    window='hann', scaling='spectrum', nfft=None, detrend=False, \\\n",
    "    return_onesided=False, axis=0)\n",
    "\n",
    "delay_sort = np.argsort(delay)\n",
    "delay = delay[delay_sort]\n",
    "pspec = pspec[delay_sort, :]\n",
    "\n",
    "uf_mean_cpspec = np.abs(pspec.mean(axis=1))"
   ]
  },
  {
   "cell_type": "code",
   "execution_count": null,
   "id": "4f50fd72",
   "metadata": {},
   "outputs": [],
   "source": [
    "plt.figure()\n",
    "plt.plot(delay, uf_mean_cpspec)\n",
    "plt.yscale('log')\n",
    "plt.xlabel('Delay')\n",
    "plt.tight_layout()\n",
    "plt.show()"
   ]
  },
  {
   "cell_type": "code",
   "execution_count": null,
   "id": "dccb0157",
   "metadata": {},
   "outputs": [],
   "source": [
    "cps_resid = np.mean(hpf_mean_cpspec[hpf_region] - uf_mean_cpspec[hpf_region])\n",
    "print('Residual between HPF and UF mean CPS: {:.5e}'.format(cps_resid))"
   ]
  },
  {
   "cell_type": "code",
   "execution_count": null,
   "id": "d9487a78",
   "metadata": {},
   "outputs": [],
   "source": [
    "cps_resid = np.mean(gmed_pspec[hpf_region] - hpf_mean_cpspec[hpf_region])\n",
    "print('Residual between HPF PS (geometric median estimates) and HPF mean CPS: {:.5e}'.format(cps_resid))"
   ]
  },
  {
   "cell_type": "markdown",
   "id": "86ce300c",
   "metadata": {},
   "source": [
    "From these residuals, we conclude:\n",
    " - HPF decreases the PS for high delays\n",
    " - CPS approach is better than that which uses location estimates in visibility space"
   ]
  },
  {
   "cell_type": "markdown",
   "id": "6aa62a45",
   "metadata": {},
   "source": [
    "### FFT with unevenly sampled data"
   ]
  },
  {
   "cell_type": "markdown",
   "id": "925f632f",
   "metadata": {},
   "source": [
    "#### DFT"
   ]
  },
  {
   "cell_type": "code",
   "execution_count": null,
   "id": "6c859957",
   "metadata": {},
   "outputs": [],
   "source": [
    "u_test_data = np.delete(test_data_i, extrem_nans(np.isnan(test_data_i).all(axis=1)), axis=0)\n",
    "u_test_data = np.delete(u_test_data, extrem_nans(np.isnan(test_data_i).all(axis=0)), axis=1)"
   ]
  },
  {
   "cell_type": "code",
   "execution_count": null,
   "id": "c696858e",
   "metadata": {},
   "outputs": [],
   "source": [
    "u_test_data_t = u_test_data[:, 0] # sample tint\n",
    "\n",
    "plt.figure()\n",
    "plt.plot(flt_freqs_i, u_test_data_t.real, label=real_lab)\n",
    "plt.plot(flt_freqs_i, u_test_data_t.imag, label=imag_lab)\n",
    "plt.xlabel('Frequency')\n",
    "plt.legend(prop={'size': 6})\n",
    "plt.tight_layout()\n",
    "plt.show()"
   ]
  },
  {
   "cell_type": "code",
   "execution_count": null,
   "id": "098e9f9f",
   "metadata": {},
   "outputs": [],
   "source": [
    "# accelerate with JAX?\n",
    "def ndft(x, f, N=None, f_res=None):\n",
    "    '''Non-equispaced discrete Fourier transform'''\n",
    "    if x.min() <0 or x.max() > 1:\n",
    "        x = np.interp(x, (x.min(), x.max()), (-0.5, 0.5))\n",
    "    if N is None:\n",
    "        N = x.size\n",
    "    k = np.arange(N) - (N//2)\n",
    "    if f_res is None:\n",
    "        f_res = 1\n",
    "    frqs = fftshift(fftfreq(N, f_res))\n",
    "    return frqs, np.dot(f, np.exp((-2j * np.pi * k * x[:, np.newaxis])))\n",
    "\n",
    "\n",
    "def nidft(x, f, N=None, f_res=None, f_start=None):\n",
    "    '''Non-equispaced inverse discrete Fourier transform'''\n",
    "    if x.min() <0 or x.max() > 1:\n",
    "        x = np.interp(x, (x.min(), x.max()), (-0.5, 0.5))\n",
    "    if N is None:\n",
    "        N = x.size\n",
    "    k = np.arange(N) - (N//2)\n",
    "    if f_res is None:\n",
    "        f_res = 1\n",
    "    frqs = fftshift(fftfreq(N, f_res))\n",
    "    if f_start is not None:\n",
    "        frqs = np.interp(frqs, (frqs.min(), frqs.max()), (f_start, f_start+frqs.max()*2))\n",
    "    return frqs, np.dot(f, np.exp((2j * np.pi * k * x[:, np.newaxis]))) / N"
   ]
  },
  {
   "cell_type": "code",
   "execution_count": null,
   "id": "67bb9ba9",
   "metadata": {},
   "outputs": [],
   "source": [
    "ndft_dlys, ndft_t = ndft(flt_freqs_i[~np.isnan(u_test_data_t)], flt_nan(u_test_data_t), \\\n",
    "                         N=u_test_data_t.size, f_res=f_resolution)"
   ]
  },
  {
   "cell_type": "code",
   "execution_count": null,
   "id": "3c33012b",
   "metadata": {},
   "outputs": [],
   "source": [
    "plt.figure()\n",
    "plt.plot(ndft_dlys, np.abs(ndft_t))\n",
    "plt.yscale('log')\n",
    "plt.xlabel('Delay')\n",
    "plt.tight_layout()\n",
    "plt.show()"
   ]
  },
  {
   "cell_type": "code",
   "execution_count": null,
   "id": "097dcd1e",
   "metadata": {},
   "outputs": [],
   "source": [
    "nidft_freqs, nidft_t = nidft(ndft_dlys, ndft_t, N=None, \\\n",
    "                             f_res=np.median(np.ediff1d(ndft_dlys)), f_start=flt_freqs_i[0])"
   ]
  },
  {
   "cell_type": "code",
   "execution_count": null,
   "id": "4735cd5e",
   "metadata": {},
   "outputs": [],
   "source": [
    "plt.figure()\n",
    "plt.plot(nidft_freqs, nidft_t.real)\n",
    "plt.plot(nidft_freqs, nidft_t.imag)\n",
    "for nan_chan in nan_chans:\n",
    "    plt.axvline(flt_freqs[nan_chan], lw=1.5, ls='--', color='red', alpha=0.5, label='NaN chan')\n",
    "plt.xlabel('Delay')\n",
    "plt.tight_layout()\n",
    "plt.show()"
   ]
  },
  {
   "cell_type": "code",
   "execution_count": null,
   "id": "19fff238",
   "metadata": {},
   "outputs": [],
   "source": [
    "# check that NDFT and NIDFT work correctly\n",
    "# Butterworth transfer window after DFT"
   ]
  }
 ],
 "metadata": {
  "kernelspec": {
   "display_name": "Python 3 (ipykernel)",
   "language": "python",
   "name": "python3"
  },
  "language_info": {
   "codemirror_mode": {
    "name": "ipython",
    "version": 3
   },
   "file_extension": ".py",
   "mimetype": "text/x-python",
   "name": "python",
   "nbconvert_exporter": "python",
   "pygments_lexer": "ipython3",
   "version": "3.9.7"
  },
  "toc": {
   "base_numbering": 1,
   "nav_menu": {},
   "number_sections": true,
   "sideBar": true,
   "skip_h1_title": false,
   "title_cell": "Table of Contents",
   "title_sidebar": "Contents",
   "toc_cell": false,
   "toc_position": {},
   "toc_section_display": true,
   "toc_window_display": false
  }
 },
 "nbformat": 4,
 "nbformat_minor": 5
}
