{
 "cells": [
  {
   "cell_type": "markdown",
   "id": "4e929230",
   "metadata": {},
   "source": [
    "<center><strong><font size=+3>Outlier Detection of HERA Data with Robust Mahalanobis Distances</font></center>\n",
    "<br><br>\n",
    "</center>\n",
    "<center><strong><font size=+2>Matyas Molnar and Bojan Nikolic</font><br></strong></center>\n",
    "<br><center><strong><font size=+1>Astrophysics Group, Cavendish Laboratory, University of Cambridge</font></strong></center>"
   ]
  },
  {
   "cell_type": "code",
   "execution_count": null,
   "id": "8dec1b31",
   "metadata": {},
   "outputs": [],
   "source": [
    "import itertools\n",
    "import os\n",
    "\n",
    "import matplotlib as mpl\n",
    "import matplotlib.patches as patches\n",
    "import numpy as np\n",
    "import seaborn as sns\n",
    "from astropy.stats import mad_std\n",
    "from matplotlib import pyplot as plt\n",
    "from scipy import signal, special, stats\n",
    "from sklearn.covariance import MinCovDet\n",
    "\n",
    "from robstat.stdstat import mad_clip\n",
    "from robstat.utils import DATAPATH, decomposeCArray, flt_nan"
   ]
  },
  {
   "cell_type": "code",
   "execution_count": null,
   "id": "bde11ef7",
   "metadata": {},
   "outputs": [],
   "source": [
    "%matplotlib inline"
   ]
  },
  {
   "cell_type": "code",
   "execution_count": null,
   "id": "512fba2f",
   "metadata": {},
   "outputs": [],
   "source": [
    "plot_figs = True\n",
    "if plot_figs:\n",
    "    mpl.rcParams['figure.figsize'] = (12, 8)\n",
    "    mpl.rcParams['figure.dpi'] = 300\n",
    "else:\n",
    "    mpl.rcParams['figure.figsize'] = (5, 3)\n",
    "    mpl.rcParams['figure.dpi'] = 125"
   ]
  },
  {
   "cell_type": "code",
   "execution_count": null,
   "id": "a0ebf15a",
   "metadata": {},
   "outputs": [],
   "source": [
    "# parameters\n",
    "sigma = 5.0  # number of normal standard deviations for clipping\n",
    "min_N = 5  # minimum length of array to clip, below which no clipping is performed."
   ]
  },
  {
   "cell_type": "markdown",
   "id": "cba4ab47",
   "metadata": {},
   "source": [
    "### Load HERA visibility data"
   ]
  },
  {
   "cell_type": "code",
   "execution_count": null,
   "id": "9a8b17ab",
   "metadata": {},
   "outputs": [],
   "source": [
    "vis_file = os.path.join(DATAPATH, 'lstb_no_avg/idr2_lstb_14m_ee_1.40949.npz')\n",
    "vis_data = np.load(vis_file)"
   ]
  },
  {
   "cell_type": "code",
   "execution_count": null,
   "id": "841a1486",
   "metadata": {},
   "outputs": [],
   "source": [
    "data = vis_data['data']\n",
    "redg = vis_data['redg']\n",
    "pol = vis_data['pol'].item()\n",
    "\n",
    "flags = np.isnan(data)\n",
    "no_chans = data.shape[1]\n",
    "chans = np.arange(no_chans)\n",
    "freqs = np.linspace(1e8, 2e8, 1025)[:-1]\n",
    "\n",
    "# for cleaner file naming\n",
    "if not isinstance(sigma, int):\n",
    "    if sigma.is_integer():\n",
    "        sigma = int(sigma)"
   ]
  },
  {
   "cell_type": "markdown",
   "id": "5a060528",
   "metadata": {},
   "source": [
    "### Visualize outlier detection"
   ]
  },
  {
   "cell_type": "code",
   "execution_count": null,
   "id": "6abc8690",
   "metadata": {},
   "outputs": [],
   "source": [
    "# example data\n",
    "# good e.g. [:, 514, 34, 31] & [:, 766, 13, 4] bad e.g. [:, 782, 21, 60] & [:, 244, 38, 32]\n",
    "eg_data = data[:, 782, 21, 60]\n",
    "points = decomposeCArray(flt_nan(eg_data.flatten()))"
   ]
  },
  {
   "cell_type": "code",
   "execution_count": null,
   "id": "1aceb7a8",
   "metadata": {},
   "outputs": [],
   "source": [
    "robust_cov = MinCovDet().fit(points)\n",
    "\n",
    "# relate in terms of probabilities:\n",
    "# the probability that a normal deviate lies in the range between  \\mu - n*\\sigma and \\mu + n*\\sigma:\n",
    "chi2_p = special.erf(sigma/np.sqrt(2))\n",
    "# transform this probability to chi^2 quantile\n",
    "chi2_q = stats.chi2.ppf(chi2_p, df=points.shape[1])\n",
    "\n",
    "# # Fisher approximation:\n",
    "# chi2_q = 0.5 * (sigma + np.sqrt(2*points.shape[1] - 1))**2\n",
    "# chi2_p = stats.chi2.cdf(chi2_q, points.shape[1])\n",
    "\n",
    "# # if want to set probability first instead\n",
    "# chi2_p = 0.975\n",
    "# chi2_q = stats.chi2.ppf(chi2_p, df=points.shape[1])\n",
    "\n",
    "print('χ^2 quantile corresponding to {}σ (p = {:.7f}) is {:.7f}'.\\\n",
    "      format(sigma, chi2_p, chi2_q))\n",
    "\n",
    "rmd_outliers = np.where(robust_cov.mahalanobis(points) > chi2_q)[0]"
   ]
  },
  {
   "cell_type": "code",
   "execution_count": null,
   "id": "2bed3429",
   "metadata": {},
   "outputs": [],
   "source": [
    "real_lab = r'$\\mathfrak{Re} \\; (V)$'\n",
    "imag_lab = r'$\\mathfrak{Im} \\; (V)$'"
   ]
  },
  {
   "cell_type": "markdown",
   "id": "e28d39da",
   "metadata": {},
   "source": [
    "#### RMD"
   ]
  },
  {
   "cell_type": "code",
   "execution_count": null,
   "id": "5901bbc1",
   "metadata": {},
   "outputs": [],
   "source": [
    "# get RMD ellipse parameters from covariance matrix\n",
    "eig_vals, eig_vecs = np.linalg.eig(robust_cov.covariance_)\n",
    "radii = np.sqrt(eig_vals)\n",
    "lrg_ev = eig_vecs[np.argmax(eig_vals)]\n",
    "alpha = np.arctan2(eig_vals[0] - robust_cov.covariance_[0][0], robust_cov.covariance_[0][1])"
   ]
  },
  {
   "cell_type": "code",
   "execution_count": null,
   "id": "a05e5337",
   "metadata": {},
   "outputs": [],
   "source": [
    "fig, ax = plt.subplots(figsize=(7, 5))\n",
    "\n",
    "ax.set_facecolor('red')\n",
    "ax.patch.set_alpha(0.25)\n",
    "\n",
    "z = np.sqrt(chi2_q)\n",
    "ellipse = patches.Ellipse(xy=robust_cov.location_, width=2*z*radii[0], height=2*z*radii[1], \\\n",
    "                          angle=alpha*180/np.pi, edgecolor='None', fc='white', lw=2, ls='--', \n",
    "                          zorder=0)\n",
    "ax.add_patch(ellipse)\n",
    "\n",
    "inliers = np.delete(points, rmd_outliers, axis=0)\n",
    "sns.scatterplot(x=inliers[:, 0], y=inliers[:, 1], ax=ax, label='Inliers', alpha=0.8)\n",
    "sns.scatterplot(x=points[rmd_outliers, 0], y=points[rmd_outliers, 1], color='red', ax=ax, \\\n",
    "                label='Outliers', alpha=0.8, zorder=2)\n",
    "sns.scatterplot(x=[robust_cov.location_[0]], y=[robust_cov.location_[1]], color='darkorange', \\\n",
    "                ax=ax, label='MCD location', marker='+', zorder=2)\n",
    "\n",
    "# Create meshgrid of feature values\n",
    "xx, yy = np.meshgrid(np.linspace(plt.xlim()[0], plt.xlim()[1], 1001),\n",
    "                     np.linspace(plt.ylim()[0], plt.ylim()[1], 1001))\n",
    "zz = np.c_[xx.ravel(), yy.ravel()]\n",
    "\n",
    "# Calculate the MCD based Mahalanobis distances\n",
    "mahal_robust_cov = robust_cov.mahalanobis(zz)\n",
    "mahal_robust_cov = mahal_robust_cov.reshape(xx.shape)\n",
    "robust_contour = ax.contour(xx, yy, np.sqrt(mahal_robust_cov), cmap=plt.cm.YlOrBr_r, \\\n",
    "                            linestyles='--', zorder=0)\n",
    "ax.clabel(robust_contour, robust_contour.levels, inline=True, fontsize=10)\n",
    "thresh_contour = ax.contour(xx, yy, np.sqrt(mahal_robust_cov), [np.sqrt(chi2_q)], colors='red', \\\n",
    "                            linewidths=2, zorder=0)\n",
    "\n",
    "ax.annotate('Robust Mahalanobis Distance', xy=(0.62, 0.10), xycoords='axes fraction', \\\n",
    "            bbox=dict(boxstyle='round', facecolor='white'), size=10, color='darkorange')\n",
    "\n",
    "ax.annotate(r'$\\chi_{\\mathrm{thresh}}$ = '+'{0:.3f}'.format(np.sqrt(chi2_q)), xy=(0.62, 0.03), \\\n",
    "            xycoords='axes fraction', bbox=dict(boxstyle='round', facecolor='white'), size=10, color='red')\n",
    "\n",
    "ax.set_xlabel(real_lab)\n",
    "ax.set_ylabel(imag_lab)\n",
    "\n",
    "rmd_lims = [ax.get_xlim(), ax.get_ylim()]\n",
    "\n",
    "ax.legend(loc='upper right')\n",
    "plt.tight_layout()\n",
    "# plt.savefig('/Users/matyasmolnar/Dropbox/PhD/Papers/memo_mvo/Figures/rmd_eg_plot.pdf')\n",
    "plt.show()"
   ]
  },
  {
   "cell_type": "markdown",
   "id": "d2c6c83a",
   "metadata": {},
   "source": [
    "#### MAD-clipping "
   ]
  },
  {
   "cell_type": "code",
   "execution_count": null,
   "id": "489d2031",
   "metadata": {},
   "outputs": [],
   "source": [
    "_, f_r = mad_clip(points[:, 0], sigma=sigma, min_N=min_N)\n",
    "_, f_i = mad_clip(points[:, 1], sigma=sigma, min_N=min_N)\n",
    "\n",
    "mad_outliers = np.where(f_r + f_i)[0]"
   ]
  },
  {
   "cell_type": "code",
   "execution_count": null,
   "id": "b42cd985",
   "metadata": {},
   "outputs": [],
   "source": [
    "gap = 5\n",
    "\n",
    "fig, ax = plt.subplots(figsize=(7, 5))\n",
    "\n",
    "inliers = np.delete(points, mad_outliers, axis=0)\n",
    "sns.scatterplot(x=inliers[:, 0], y=inliers[:, 1], ax=ax, label='Inliers', alpha=0.8)\n",
    "sns.scatterplot(x=points[mad_outliers, 0], y=points[mad_outliers, 1], color='red', ax=ax, \\\n",
    "                label='Outliers', alpha=0.8)\n",
    "sns.scatterplot(x=[np.median(points[:, 0])], y=[np.median(points[:, 1])], color='darkgreen', \\\n",
    "                ax=ax, label='Marginal median', marker='+')\n",
    "\n",
    "mads = mad_std(points, axis=0)\n",
    "meds = np.median(points, axis=0)\n",
    "\n",
    "ax.vlines(x=meds[0]-sigma*mads[0], color='red', \\\n",
    "          ymin=meds[1]-sigma*mads[1], ymax=meds[1]+sigma*mads[1], lw=2)\n",
    "ax.vlines(x=meds[0]+sigma*mads[0], color='red', \\\n",
    "          ymin=meds[1]-sigma*mads[1], ymax=meds[1]+sigma*mads[1], lw=2)\n",
    "ax.hlines(y=meds[1]-sigma*mads[1], color='red', \\\n",
    "          xmin=meds[0]-sigma*mads[0], xmax=meds[0]+sigma*mads[0], lw=2)\n",
    "ax.hlines(y=meds[1]+sigma*mads[1], color='red', \\\n",
    "          xmin=meds[0]-sigma*mads[0], xmax=meds[0]+sigma*mads[0], lw=2, \\\n",
    "          label='MAD-clip')\n",
    "\n",
    "ax.axvspan(meds[0]-(sigma+gap)*mads[0], meds[0]-sigma*mads[0], alpha=0.25, color='red', lw=0)\n",
    "ax.axvspan(meds[0]+sigma*mads[0], meds[0]+(sigma+gap)*mads[0], alpha=0.25, color='red', lw=0)\n",
    "\n",
    "rect = patches.Rectangle((meds[0]-sigma*mads[0], meds[1]-(sigma+gap)*mads[1]), 2*sigma*mads[0], \\\n",
    "                         gap*mads[1], edgecolor='r', facecolor='red', \\\n",
    "                         alpha=0.25, lw=0)\n",
    "ax.add_patch(rect)\n",
    "\n",
    "rect = patches.Rectangle((meds[0]-sigma*mads[0], meds[1]+sigma*mads[1]), 2*sigma*mads[0], \\\n",
    "                         gap*mads[1], edgecolor='r', facecolor='red', \\\n",
    "                         alpha=0.25, lw=0)\n",
    "ax.add_patch(rect)\n",
    "\n",
    "ax.annotate(r'$\\mathrm{MAD}_{\\mathfrak{Re}} \\;$ = '+'{0:.3f}'.format(mads[0]), xy=(0.02, 0.10), \\\n",
    "            xycoords='axes fraction', bbox=dict(boxstyle='round', facecolor='white'), size=10, \\\n",
    "            color='darkgreen')\n",
    "\n",
    "ax.annotate(r'$\\mathrm{MAD}_{\\mathfrak{Im}}$ = '+'{0:.3f}'.format(mads[1]), xy=(0.02, 0.03), \\\n",
    "            xycoords='axes fraction', bbox=dict(boxstyle='round', facecolor='white'), size=10, \\\n",
    "            color='darkgreen')\n",
    "\n",
    "ax.annotate(r'$\\mathrm{marg \\; med} \\pm$' + '{}'.format(sigma) + '$\\; \\mathrm{MAD} $', xy=(0.74, 0.065), \\\n",
    "            xycoords='axes fraction', bbox=dict(boxstyle='round', facecolor='white'), size=10, \\\n",
    "            color='red')\n",
    "\n",
    "ax.set_xlabel(real_lab)\n",
    "ax.set_ylabel(imag_lab)\n",
    "\n",
    "ax.legend(loc='upper right')\n",
    "\n",
    "pad = 1.2\n",
    "ax.set_xlim(left=meds[0]-pad*sigma*mads[0], right=meds[0]+pad*sigma*mads[0])\n",
    "ax.set_ylim(bottom=meds[1]-pad*sigma*mads[1], top=meds[1]+pad*sigma*mads[1])\n",
    "# ax.set_xlim(left=rmd_lims[0][0], right=rmd_lims[0][1])\n",
    "# ax.set_ylim(bottom=rmd_lims[1][0], top=rmd_lims[1][1])\n",
    "\n",
    "plt.tight_layout()\n",
    "# plt.savefig('/Users/matyasmolnar/Dropbox/PhD/Papers/memo_mvo/Figures/mad_plot.pdf')\n",
    "plt.show()"
   ]
  },
  {
   "cell_type": "code",
   "execution_count": null,
   "id": "dbaa495f",
   "metadata": {},
   "outputs": [],
   "source": [
    "gap = 5\n",
    "\n",
    "fig, ax = plt.subplots(figsize=(7, 5))\n",
    "\n",
    "sns.scatterplot(x=points[:, 0], y=points[:, 1], ax=ax, alpha=0.8)\n",
    "sns.scatterplot(x=[np.median(points[:, 0])], y=[np.median(points[:, 1])], color='darkgreen', \\\n",
    "                ax=ax, label='Marginal median', marker='+', zorder=2)\n",
    "sns.scatterplot(x=[robust_cov.location_[0]], y=[robust_cov.location_[1]], color='darkorange', \\\n",
    "                ax=ax, label='MCD location', marker='+', zorder=2)\n",
    "\n",
    "ax.vlines(x=meds[0]-sigma*mads[0], color='darkgreen', linestyle='--', \n",
    "          ymin=meds[1]-sigma*mads[1], ymax=meds[1]+sigma*mads[1], zorder=0)\n",
    "ax.vlines(x=meds[0]+sigma*mads[0], color='darkgreen', linestyle='--', \n",
    "          ymin=meds[1]-sigma*mads[1], ymax=meds[1]+sigma*mads[1], zorder=0)\n",
    "ax.hlines(y=meds[1]-sigma*mads[1], color='darkgreen', linestyle='--', \n",
    "          xmin=meds[0]-sigma*mads[0], xmax=meds[0]+sigma*mads[0], zorder=0)\n",
    "ax.hlines(y=meds[1]+sigma*mads[1], color='darkgreen', linestyle='--', \n",
    "          xmin=meds[0]-sigma*mads[0], xmax=meds[0]+sigma*mads[0], \\\n",
    "          label='MAD-clip', zorder=0)\n",
    "\n",
    "ellipse = patches.Ellipse(xy=robust_cov.location_, width=2*z*radii[0], height=2*z*radii[1], \\\n",
    "                          angle=alpha*180/np.pi, edgecolor='darkorange', fc='None', lw=2, ls='--', \\\n",
    "                          zorder=0)\n",
    "ax.add_patch(ellipse)\n",
    "# for label, create dummy point out of view\n",
    "sns.lineplot(x=[-1000], y=[-1000], color='darkorange', ax=ax, lw=2, ls='--', label='RMD bound')\n",
    "\n",
    "ellipse = patches.Ellipse(xy=meds, width=2*sigma*mads[0], height=2*sigma*mads[1], \n",
    "                  edgecolor='purple', fc='None', lw=1, ls='--', alpha=0.3, zorder=0)\n",
    "ax.add_patch(ellipse)\n",
    "# for label, create dummy point out of view\n",
    "sns.lineplot(x=[-1000], y=[-1000], color='purple', ax=ax, lw=1, ls='--', label='Elliptical bound', alpha=0.3)\n",
    "\n",
    "ax.annotate(r'$\\mathrm{MAD}_{\\mathfrak{Re}} \\;$ = '+'{0:.3f}'.format(mads[0]), xy=(0.02, 0.10), \\\n",
    "            xycoords='axes fraction', bbox=dict(boxstyle='round', facecolor='white'), size=10, \\\n",
    "            color='darkgreen')\n",
    "\n",
    "ax.annotate(r'$\\mathrm{MAD}_{\\mathfrak{Im}}$ = '+'{0:.3f}'.format(mads[1]), xy=(0.02, 0.03), \\\n",
    "            xycoords='axes fraction', bbox=dict(boxstyle='round', facecolor='white'), size=10, \\\n",
    "            color='darkgreen')\n",
    "\n",
    "ax.annotate(r'$\\chi_{\\mathrm{thresh}}$ = '+'{0:.3f}'.format(np.sqrt(chi2_q)), xy=(0.8, 0.065), \\\n",
    "            xycoords='axes fraction', bbox=dict(boxstyle='round', facecolor='white'), size=10, \\\n",
    "            color='darkorange')\n",
    "\n",
    "ax.set_xlabel(real_lab)\n",
    "ax.set_ylabel(imag_lab)\n",
    "\n",
    "ax.legend(loc='upper right', prop={'size': 9}, framealpha=0.9)\n",
    "\n",
    "pad = 1.2\n",
    "ax.set_xlim(left=meds[0]-pad*sigma*mads[0], right=meds[0]+pad*sigma*mads[0])\n",
    "ax.set_ylim(bottom=meds[1]-pad*sigma*mads[1], top=meds[1]+pad*sigma*mads[1])\n",
    "# ax.set_xlim(left=rmd_lims[0][0], right=rmd_lims[0][1])\n",
    "# ax.set_ylim(bottom=rmd_lims[1][0], top=rmd_lims[1][1])\n",
    "\n",
    "plt.tight_layout()\n",
    "# plt.savefig('/Users/matyasmolnar/Dropbox/PhD/Papers/memo_mvo/Figures/rmd_mad_comp_bad.pdf')\n",
    "plt.show()"
   ]
  },
  {
   "cell_type": "markdown",
   "id": "37db3776",
   "metadata": {},
   "source": [
    "#### Comparison of non-contaminated areas"
   ]
  },
  {
   "cell_type": "code",
   "execution_count": null,
   "id": "19368a23",
   "metadata": {},
   "outputs": [],
   "source": [
    "mad_area = 4 * sigma**2 * mads[0] * mads[1]\n",
    "\n",
    "rmd_area = np.pi * z*radii[0] * z*radii[1]\n",
    "\n",
    "print('MAD-clip area: {:.2f}'.format(mad_area))\n",
    "print('RMD-bound area: {:.2f}'.format(rmd_area))\n",
    "print('Area ratio: {:.2f}%'.format(100 * rmd_area / mad_area))"
   ]
  },
  {
   "cell_type": "markdown",
   "id": "b25f7b91",
   "metadata": {},
   "source": [
    "### Outlier detection on unaveraged LST-binned HERA data"
   ]
  },
  {
   "cell_type": "markdown",
   "id": "dc44ca30",
   "metadata": {},
   "source": [
    "#### MAD-clipping"
   ]
  },
  {
   "cell_type": "code",
   "execution_count": null,
   "id": "8491756a",
   "metadata": {},
   "outputs": [],
   "source": [
    "mad_clip_f_fn = os.path.join(DATAPATH, 'loc_res_nrao', os.path.basename(os.path.basename(vis_file)).\\\n",
    "                             replace('.npz', '.mad_clip_f_{}sig.npz'.format(sigma)))\n",
    "\n",
    "if not os.path.exists(mad_clip_f_fn):\n",
    "    _, f_r = mad_clip(data.real, axis=0, sigma=sigma)\n",
    "    _, f_i = mad_clip(data.imag, axis=0, sigma=sigma)\n",
    "\n",
    "    mad_clip_f = f_r + f_i\n",
    "    mad_clip_f = mad_clip_f ^ flags\n",
    "    \n",
    "    np.savez(mad_clip_f_fn, flags=mad_clip_f)\n",
    "\n",
    "else:\n",
    "    mad_clip_f = np.load(mad_clip_f_fn)['flags']\n",
    "    \n",
    "# apply min_N condition\n",
    "mad_f_min_n = np.logical_not(flags).sum(axis=0) < min_N\n",
    "mad_f_min_n = np.expand_dims(mad_f_min_n, axis=0)\n",
    "mad_f_min_n = np.repeat(mad_f_min_n, flags.shape[0], axis=0)\n",
    "mad_clip_f[mad_f_min_n] = False\n",
    "\n",
    "print('Number of data point flagged from MAD-clipping: {:,}'.format(mad_clip_f.sum()))"
   ]
  },
  {
   "cell_type": "markdown",
   "id": "7bb7af77",
   "metadata": {},
   "source": [
    "#### RMD"
   ]
  },
  {
   "cell_type": "code",
   "execution_count": null,
   "id": "1ac953e3",
   "metadata": {},
   "outputs": [],
   "source": [
    "import multiprocess as multiprocessing\n",
    "\n",
    "# require a shared ctype array in order to fill in a numpy array in parallel\n",
    "\n",
    "def create_mp_array(arr):\n",
    "    shared_arr = multiprocessing.RawArray(np.ctypeslib.as_ctypes_type(arr.dtype), int(np.prod(arr.shape)))\n",
    "    new_arr = np.frombuffer(shared_arr, arr.dtype).reshape(arr.shape)  # shared_arr and new_arr the same memory\n",
    "    new_arr[...] = arr\n",
    "    return shared_arr, new_arr\n",
    "\n",
    "def mp_init(shared_arr_, sharred_arr_shape_, sharred_arr_dtype_):\n",
    "    global shared_arr, sharred_arr_shape, sharred_arr_dtype\n",
    "    shared_arr = shared_arr_\n",
    "    sharred_arr_shape = sharred_arr_shape_\n",
    "    sharred_arr_dtype = sharred_arr_dtype_\n",
    "\n",
    "def mp_iter(s):\n",
    "    d = data[:, s[0], s[1], s[2]]\n",
    "    if not np.isnan(d).all():\n",
    "        \n",
    "        isfinite = np.isfinite(d).nonzero()[0]\n",
    "        d = decomposeCArray(flt_nan(d))\n",
    "        robust_cov = MinCovDet(random_state=0).fit(d)\n",
    "        outliers = robust_cov.mahalanobis(d) > chi2_q\n",
    "\n",
    "        rmd_clip_f = np.frombuffer(shared_arr, dtype).reshape(shape)\n",
    "        rmd_clip_f[isfinite, s[0], s[1], s[2]] = outliers"
   ]
  },
  {
   "cell_type": "code",
   "execution_count": null,
   "id": "4fda62aa",
   "metadata": {},
   "outputs": [],
   "source": [
    "rmd_clip_f_fn = os.path.join(DATAPATH, 'loc_res_nrao', os.path.basename(os.path.basename(vis_file)).\\\n",
    "                             replace('.npz', '.rmd_clip_f_{}sig.npz'.format(sigma)))\n",
    "\n",
    "if not os.path.exists(rmd_clip_f_fn):\n",
    "    \n",
    "    rmd_clip_f = np.ones_like(data, dtype=bool)\n",
    "    d_shared, rmd_clip_f = create_mp_array(rmd_clip_f)\n",
    "    dtype = rmd_clip_f.dtype\n",
    "    shape = rmd_clip_f.shape\n",
    "\n",
    "    m_pool = multiprocessing.Pool(multiprocessing.cpu_count(), initializer=mp_init, \\\n",
    "                                  initargs=(d_shared, dtype, shape))\n",
    "    _ = m_pool.map(mp_iter, np.ndindex(data.shape[1:]))\n",
    "    m_pool.close()\n",
    "    m_pool.join()\n",
    "\n",
    "    rmd_clip_f = rmd_clip_f ^ flags\n",
    "    \n",
    "    np.savez(rmd_clip_f_fn, flags=rmd_clip_f)\n",
    "\n",
    "else:\n",
    "    rmd_clip_f = np.load(rmd_clip_f_fn)['flags']\n",
    "\n",
    "# apply min_N condition\n",
    "rmd_clip_f[mad_f_min_n] = False\n",
    "\n",
    "print('Number of data point flagged from RMD-clipping: {:,}'.format(rmd_clip_f.sum()))"
   ]
  },
  {
   "cell_type": "code",
   "execution_count": null,
   "id": "5fad9014",
   "metadata": {},
   "outputs": [],
   "source": [
    "fig, ax = plt.subplots(figsize=(7, 6), nrows=2, sharex=True)\n",
    "\n",
    "mad_im = mad_clip_f.sum(axis=(0, 3)).T\n",
    "rmd_im = rmd_clip_f.sum(axis=(0, 3)).T\n",
    "tot_arr = np.concatenate((mad_im, rmd_im))\n",
    "vmin = np.min(tot_arr)\n",
    "vmax = np.max(tot_arr)\n",
    "\n",
    "# # for vectorization of plot\n",
    "# ax[0].pcolormesh(mad_im, vmin=vmin, vmax=vmax)\n",
    "# ax[0].invert_yaxis()\n",
    "# im = ax[1].pcolormesh(rmd_im, vmin=vmin, vmax=vmax)\n",
    "# ax[1].invert_yaxis()\n",
    "\n",
    "ax[0].imshow(mad_im, aspect='auto', interpolation='nearest', vmin=vmin, vmax=vmax)\n",
    "im = ax[1].imshow(rmd_im, aspect='auto', interpolation='nearest', vmin=vmin, vmax=vmax)\n",
    "\n",
    "ax[1].set_xlabel('Frequency channel')\n",
    "ax[0].set_ylabel('Time integration')\n",
    "ax[1].set_ylabel('Time integration')\n",
    "\n",
    "fig.tight_layout()\n",
    "\n",
    "# add color bar\n",
    "fig.subplots_adjust(right=0.9)\n",
    "cbar_ax = fig.add_axes([0.925, 0.125, 0.025, 0.815])\n",
    "fig.colorbar(im, cax=cbar_ax)\n",
    "\n",
    "# plt.savefig('/Users/matyasmolnar/Dropbox/PhD/Papers/memo_mvo/Figures/no_flags.pdf')\n",
    "plt.show()"
   ]
  },
  {
   "cell_type": "code",
   "execution_count": null,
   "id": "6af48251",
   "metadata": {},
   "outputs": [],
   "source": [
    "print('RMD-clipping flags {:.2f} times more data point than MAD-clipping'.\\\n",
    "      format(rmd_clip_f.sum() / mad_clip_f.sum()))"
   ]
  },
  {
   "cell_type": "code",
   "execution_count": null,
   "id": "99842f63",
   "metadata": {},
   "outputs": [],
   "source": [
    "# # to find indices for plotting\n",
    "# rmd_idxs = np.logical_xor(rmd_clip_f, mad_clip_f).nonzero()\n",
    "# rnd_idx = np.random.randint(low=0, high=rmd_idxs[0].size)\n",
    "# r = [rmd_idxs[i][rnd_idx] for i in range(len(rmd_idxs))]"
   ]
  },
  {
   "cell_type": "markdown",
   "id": "44c34351",
   "metadata": {},
   "source": [
    "### Visibility & power spectrum results for clipped data"
   ]
  },
  {
   "cell_type": "code",
   "execution_count": null,
   "id": "b27791f0",
   "metadata": {},
   "outputs": [],
   "source": [
    "mad_data = data.copy()\n",
    "mad_data[mad_clip_f] *= np.nan"
   ]
  },
  {
   "cell_type": "code",
   "execution_count": null,
   "id": "ee159178",
   "metadata": {},
   "outputs": [],
   "source": [
    "rmd_data = data.copy()\n",
    "rmd_data[rmd_clip_f] *= np.nan"
   ]
  },
  {
   "cell_type": "code",
   "execution_count": null,
   "id": "89763dc8",
   "metadata": {},
   "outputs": [],
   "source": [
    "bl_grp = 0 # only look at 0th baseline group\n",
    "\n",
    "slct_bl_idxs = np.where(redg[:, 0] == bl_grp)[0]\n",
    "slct_red_bl = redg[slct_bl_idxs[0], :][1:]\n",
    "print('Looking at baselines redundant to ({}, {}, \\'{}\\')'.\\\n",
    "      format(*slct_red_bl, pol))"
   ]
  },
  {
   "cell_type": "code",
   "execution_count": null,
   "id": "40a59052",
   "metadata": {},
   "outputs": [],
   "source": [
    "mad_mean = np.nanmean(mad_data[..., slct_bl_idxs], axis=(0, 3))\n",
    "rmd_mean = np.nanmean(rmd_data[..., slct_bl_idxs], axis=(0, 3))"
   ]
  },
  {
   "cell_type": "code",
   "execution_count": null,
   "id": "87746aac",
   "metadata": {},
   "outputs": [],
   "source": [
    "fig, ax = plt.subplots(figsize=(7, 5), nrows=2, sharex=True)\n",
    "\n",
    "mad_im = np.abs(mad_mean).T\n",
    "rmd_im = np.abs(rmd_mean).T\n",
    "tot_arr = np.concatenate((mad_im, rmd_im))\n",
    "vmin = np.nanmin(tot_arr)\n",
    "vmax = np.nanmax(tot_arr)\n",
    "\n",
    "ax[0].imshow(mad_im, aspect='auto', interpolation='nearest', vmin=vmin, vmax=vmax)\n",
    "im = ax[1].imshow(rmd_im, aspect='auto', interpolation='nearest', vmin=vmin, vmax=vmax)\n",
    "\n",
    "ax[1].set_xlabel('Frequency channel')\n",
    "ax[0].set_ylabel('Time integration')\n",
    "ax[1].set_ylabel('Time integration')\n",
    "\n",
    "fig.tight_layout()\n",
    "\n",
    "# add color bar\n",
    "fig.subplots_adjust(right=0.9)\n",
    "cbar_ax = fig.add_axes([0.925, 0.15, 0.025, 0.75])\n",
    "fig.colorbar(im, cax=cbar_ax)\n",
    "cbar_ax.set_title(r'$\\left| V \\right|$')\n",
    "\n",
    "plt.show()"
   ]
  },
  {
   "cell_type": "code",
   "execution_count": null,
   "id": "dff79454",
   "metadata": {},
   "outputs": [],
   "source": [
    "fig, ax = plt.subplots(figsize=(7, 5), nrows=2, sharex=True)\n",
    "\n",
    "mad_im = np.angle(mad_mean).T\n",
    "rmd_im = np.angle(rmd_mean).T\n",
    "vmin = -np.pi\n",
    "vmax = np.pi\n",
    "\n",
    "ax[0].imshow(mad_im, aspect='auto', interpolation='nearest', vmin=vmin, vmax=vmax)\n",
    "im = ax[1].imshow(rmd_im, aspect='auto', interpolation='nearest', vmin=vmin, vmax=vmax)\n",
    "\n",
    "ax[1].set_xlabel('Frequency channel')\n",
    "ax[0].set_ylabel('Time integration')\n",
    "ax[1].set_ylabel('Time integration')\n",
    "\n",
    "fig.tight_layout()\n",
    "\n",
    "# add color bar\n",
    "fig.subplots_adjust(right=0.9)\n",
    "cbar_ax = fig.add_axes([0.925, 0.15, 0.025, 0.75])\n",
    "fig.colorbar(im, cax=cbar_ax)\n",
    "cbar_ax.set_title(r'$\\varphi$')\n",
    "\n",
    "plt.show()"
   ]
  },
  {
   "cell_type": "code",
   "execution_count": null,
   "id": "745f8239",
   "metadata": {},
   "outputs": [],
   "source": [
    "band_1 = [175, 334]\n",
    "band_2 = [515, 694]\n",
    "\n",
    "band_i = band_1 # select band here\n",
    "f_resolution = np.median(np.ediff1d(freqs))"
   ]
  },
  {
   "cell_type": "code",
   "execution_count": null,
   "id": "ab8404e9",
   "metadata": {},
   "outputs": [],
   "source": [
    "jd_mad_mean = np.nanmean(mad_data[:, band_i[0]:band_i[1]+1, :, slct_bl_idxs], axis=0)\n",
    "nan_bls = np.where(np.isnan(jd_mad_mean).all(axis=(0, 1)))[0]\n",
    "jd_mad_mean = np.delete(jd_mad_mean, nan_bls, axis=2)\n",
    "\n",
    "jd_rmd_mean = np.nanmean(rmd_data[:, band_i[0]:band_i[1]+1, :, slct_bl_idxs], axis=0)\n",
    "nan_bls = np.where(np.isnan(jd_rmd_mean).all(axis=(0, 1)))[0]\n",
    "rmd_mad_mean = np.delete(jd_rmd_mean, nan_bls, axis=2)"
   ]
  },
  {
   "cell_type": "code",
   "execution_count": null,
   "id": "0613da0c",
   "metadata": {},
   "outputs": [],
   "source": [
    "# cross-PS between all baseline pairs\n",
    "no_bls = jd_mad_mean.shape[2]\n",
    "bl_pairs = list(itertools.permutations(np.arange(no_bls), r=2))\n",
    "bls1 = [i[0] for i in bl_pairs]\n",
    "bls2 = [i[1] for i in bl_pairs]\n",
    "\n",
    "mad_delay, mad_pspec = signal.csd(jd_mad_mean[..., bls1], jd_mad_mean[..., bls2], \\\n",
    "    fs=1/f_resolution, window='hann', scaling='spectrum', nfft=None, detrend=False, \\\n",
    "    return_onesided=False, nperseg=jd_mad_mean.shape[0], axis=0)\n",
    "\n",
    "delay_sort = np.argsort(mad_delay)\n",
    "mad_delay = mad_delay[delay_sort]\n",
    "mad_pspec = mad_pspec[delay_sort, :]\n",
    "\n",
    "rmd_delay, rmd_pspec = signal.csd(jd_rmd_mean[..., bls1], jd_rmd_mean[..., bls2], \\\n",
    "    fs=1/f_resolution, window='hann', scaling='spectrum', nfft=None, detrend=False, \\\n",
    "    return_onesided=False, nperseg=jd_rmd_mean.shape[0], axis=0)\n",
    "\n",
    "delay_sort = np.argsort(rmd_delay)\n",
    "rmd_delay = rmd_delay[delay_sort]\n",
    "rmd_pspec = rmd_pspec[delay_sort, :]\n",
    "\n",
    "mad_pspec = np.nanmean(mad_pspec, axis=2)\n",
    "rmd_pspec = np.nanmean(rmd_pspec, axis=2)"
   ]
  },
  {
   "cell_type": "code",
   "execution_count": null,
   "id": "a019f67a",
   "metadata": {},
   "outputs": [],
   "source": [
    "fig, axes = plt.subplots(ncols=3, figsize=(7.5, 5), sharey=True)\n",
    "\n",
    "axes[0].plot(mad_delay, np.abs(mad_pspec), alpha=0.3)\n",
    "axes[0].plot(mad_delay, np.abs(mad_pspec.mean(axis=1)), alpha=1, color='orange')\n",
    "axes[0].set_ylabel('Power spectrum')\n",
    "\n",
    "axes[1].plot(rmd_delay, np.abs(rmd_pspec), alpha=0.3)\n",
    "axes[1].plot(rmd_delay, np.abs(rmd_pspec.mean(axis=1)), alpha=1, color='purple')\n",
    "\n",
    "# average over times\n",
    "axes[2].plot(mad_delay, np.abs(mad_pspec.mean(axis=1)), alpha=0.6, color='orange', \\\n",
    "             label='MAD-clipped')\n",
    "axes[2].plot(rmd_delay, np.abs(rmd_pspec.mean(axis=1)), alpha=0.6, color='purple', \\\n",
    "             label='RMD-clipped')\n",
    "\n",
    "for ax in axes:\n",
    "    ax.set_yscale('log')\n",
    "    ax.set_xlabel('Delay')\n",
    "    \n",
    "axes[0].set_title('MAD-clipped')\n",
    "axes[1].set_title('RMD-clipped')\n",
    "axes[2].set_title('Comparison')\n",
    "axes[2].legend(loc='best', prop={'size': 8})\n",
    "\n",
    "plt.tight_layout()\n",
    "plt.show()"
   ]
  },
  {
   "cell_type": "code",
   "execution_count": null,
   "id": "7f7518d8",
   "metadata": {},
   "outputs": [],
   "source": [
    "dly_lim = 1.25e-6\n",
    "high_dlys = np.where(np.abs(mad_delay) >= dly_lim)\n",
    "resid = (np.abs(mad_pspec.mean(axis=1)) - np.abs(rmd_pspec.mean(axis=1)))[high_dlys]\n",
    "log_resid = log_resid = (np.log10(np.abs(mad_pspec.mean(axis=1))) - \\\n",
    "                         np.log10(np.abs(rmd_pspec.mean(axis=1))))[high_dlys]\n",
    "print('Mean residual: {:4e}'.format(resid.mean()))\n",
    "print('Mean log residual: {:4e}'.format(log_resid.mean()))\n",
    "\n",
    "fig, ax = plt.subplots(figsize=(7.5, 5))\n",
    "ax.scatter(mad_delay[high_dlys], resid, s=4, alpha=0.8, label='MAD - RMD residual')\n",
    "ax.axhline(np.mean(resid), ls='--', color='orange', label='Mean residual')\n",
    "ax.axvspan(-dly_lim, dly_lim, alpha=0.4, color='grey')\n",
    "ax.ticklabel_format(axis='both', style='sci', scilimits=(0, 0))\n",
    "ax.set_xlabel('Delay')\n",
    "ax.set_ylabel('PS residual')\n",
    "ax.legend(loc='upper right', prop={'size': 8})\n",
    "\n",
    "plt.tight_layout()\n",
    "plt.show()"
   ]
  }
 ],
 "metadata": {
  "kernelspec": {
   "display_name": "robstat",
   "language": "python",
   "name": "robstat"
  },
  "language_info": {
   "codemirror_mode": {
    "name": "ipython",
    "version": 3
   },
   "file_extension": ".py",
   "mimetype": "text/x-python",
   "name": "python",
   "nbconvert_exporter": "python",
   "pygments_lexer": "ipython3",
   "version": "3.9.9"
  },
  "toc": {
   "base_numbering": 1,
   "nav_menu": {},
   "number_sections": true,
   "sideBar": true,
   "skip_h1_title": false,
   "title_cell": "Table of Contents",
   "title_sidebar": "Contents",
   "toc_cell": false,
   "toc_position": {},
   "toc_section_display": true,
   "toc_window_display": false
  },
  "varInspector": {
   "cols": {
    "lenName": 16,
    "lenType": 16,
    "lenVar": 40
   },
   "kernels_config": {
    "python": {
     "delete_cmd_postfix": "",
     "delete_cmd_prefix": "del ",
     "library": "var_list.py",
     "varRefreshCmd": "print(var_dic_list())"
    },
    "r": {
     "delete_cmd_postfix": ") ",
     "delete_cmd_prefix": "rm(",
     "library": "var_list.r",
     "varRefreshCmd": "cat(var_dic_list()) "
    }
   },
   "types_to_exclude": [
    "module",
    "function",
    "builtin_function_or_method",
    "instance",
    "_Feature"
   ],
   "window_display": false
  }
 },
 "nbformat": 4,
 "nbformat_minor": 5
}
