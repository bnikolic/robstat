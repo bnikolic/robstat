{
 "cells": [
  {
   "cell_type": "markdown",
   "id": "4e929230",
   "metadata": {},
   "source": [
    "<center><strong><font size=+3>Outlier Detection of HERA Data with Robust Mahalanobis Distances</font></center>\n",
    "<br><br>\n",
    "</center>\n",
    "<center><strong><font size=+2>Matyas Molnar and Bojan Nikolic</font><br></strong></center>\n",
    "<br><center><strong><font size=+1>Astrophysics Group, Cavendish Laboratory, University of Cambridge</font></strong></center>"
   ]
  },
  {
   "cell_type": "code",
   "execution_count": null,
   "id": "8dec1b31",
   "metadata": {},
   "outputs": [],
   "source": [
    "import os\n",
    "\n",
    "import matplotlib as mpl\n",
    "import numpy as np\n",
    "import seaborn as sns\n",
    "from matplotlib import pyplot as plt\n",
    "from scipy import special, stats\n",
    "from sklearn.covariance import MinCovDet\n",
    "\n",
    "from robstat.utils import DATAPATH, decomposeCArray, flt_nan"
   ]
  },
  {
   "cell_type": "code",
   "execution_count": null,
   "id": "bde11ef7",
   "metadata": {},
   "outputs": [],
   "source": [
    "%matplotlib inline"
   ]
  },
  {
   "cell_type": "code",
   "execution_count": null,
   "id": "512fba2f",
   "metadata": {},
   "outputs": [],
   "source": [
    "plot_figs = True\n",
    "if plot_figs:\n",
    "    mpl.rcParams['figure.figsize'] = (12, 8)\n",
    "    mpl.rcParams['figure.dpi'] = 300\n",
    "else:\n",
    "    mpl.rcParams['figure.figsize'] = (5, 3)\n",
    "    mpl.rcParams['figure.dpi'] = 125"
   ]
  },
  {
   "cell_type": "markdown",
   "id": "cba4ab47",
   "metadata": {},
   "source": [
    "### Load HERA visibility data"
   ]
  },
  {
   "cell_type": "code",
   "execution_count": null,
   "id": "9a8b17ab",
   "metadata": {},
   "outputs": [],
   "source": [
    "vis_file = os.path.join(DATAPATH, 'lstb_no_avg/idr2_lstb_14m_ee_1.40949.npz')\n",
    "vis_data = np.load(vis_file)"
   ]
  },
  {
   "cell_type": "code",
   "execution_count": null,
   "id": "841a1486",
   "metadata": {},
   "outputs": [],
   "source": [
    "data = vis_data['data']\n",
    "redg = vis_data['redg']\n",
    "pol = vis_data['pol'].item()\n",
    "\n",
    "flags = np.isnan(data)\n",
    "no_chans = data.shape[1]\n",
    "chans = np.arange(no_chans)\n",
    "freqs = np.linspace(1e8, 2e8, 1025)[:-1]\n",
    "new_no_tints = data.shape[2]"
   ]
  },
  {
   "cell_type": "markdown",
   "id": "5a060528",
   "metadata": {},
   "source": [
    "### Visualize outlier detection"
   ]
  },
  {
   "cell_type": "code",
   "execution_count": null,
   "id": "6abc8690",
   "metadata": {},
   "outputs": [],
   "source": [
    "# example data - combine 2 freq channels\n",
    "eg_data = data[:, 650:652, 0, 0]\n",
    "points = decomposeCArray(flt_nan(eg_data.flatten()))"
   ]
  },
  {
   "cell_type": "code",
   "execution_count": null,
   "id": "1aceb7a8",
   "metadata": {},
   "outputs": [],
   "source": [
    "robust_cov = MinCovDet().fit(points)\n",
    "chi2_quantile = 0.975\n",
    "chi2_thresh = stats.chi2.ppf(chi2_quantile, points.shape[1])\n",
    "outliers = np.where(robust_cov.mahalanobis(points) > chi2_thresh)[0]"
   ]
  },
  {
   "cell_type": "code",
   "execution_count": null,
   "id": "5a07cb57",
   "metadata": {},
   "outputs": [],
   "source": [
    "# to normal\n",
    "stats.norm.cdf(np.sqrt(2*chi2_thresh) - np.sqrt(2*points.shape[1] - 1))"
   ]
  },
  {
   "cell_type": "code",
   "execution_count": null,
   "id": "2bed3429",
   "metadata": {},
   "outputs": [],
   "source": [
    "real_lab = r'$\\mathfrak{Re} \\; (V)$'\n",
    "imag_lab = r'$\\mathfrak{Im} \\; (V)$'"
   ]
  },
  {
   "cell_type": "code",
   "execution_count": null,
   "id": "a05e5337",
   "metadata": {},
   "outputs": [],
   "source": [
    "fig, ax = plt.subplots(figsize=(7, 5))\n",
    "\n",
    "inliers = np.delete(points, outliers, axis=0)\n",
    "sns.scatterplot(x=inliers[:, 0], y=inliers[:, 1], ax=ax, label='Inliers')\n",
    "sns.scatterplot(x=points[outliers, 0], y=points[outliers, 1], color='red', ax=ax, \\\n",
    "                label='Outliers')\n",
    "sns.scatterplot(x=[robust_cov.location_[0]], y=[robust_cov.location_[1]], color='brown', \\\n",
    "                ax=ax, label='MCD location', marker='+')\n",
    "\n",
    "# Create meshgrid of feature values\n",
    "xx, yy = np.meshgrid(np.linspace(plt.xlim()[0], plt.xlim()[1], 1001),\n",
    "                     np.linspace(plt.ylim()[0], plt.ylim()[1], 1001))\n",
    "zz = np.c_[xx.ravel(), yy.ravel()]\n",
    "\n",
    "# Calculate the MCD based Mahalanobis distances\n",
    "mahal_robust_cov = robust_cov.mahalanobis(zz)\n",
    "mahal_robust_cov = mahal_robust_cov.reshape(xx.shape)\n",
    "robust_contour = ax.contour(xx, yy, np.sqrt(mahal_robust_cov), cmap=plt.cm.YlOrBr_r, \\\n",
    "                            linestyles='--')\n",
    "\n",
    "ax.clabel(robust_contour, robust_contour.levels, inline=True, fontsize=10)\n",
    "thresh_contour = ax.contour(xx, yy, np.sqrt(mahal_robust_cov), [np.sqrt(chi2_thresh)], colors='red')\n",
    "\n",
    "ax.annotate('Robust Mahalanobis Distance', xy=(0.64, 0.10), xycoords='axes fraction', \\\n",
    "            bbox=dict(boxstyle='round', facecolor='white'), size=10, color='orange')\n",
    "\n",
    "ax.annotate(r'$\\chi_{\\mathrm{thresh}}$ = '+'{0:.3f}'.format(np.sqrt(chi2_thresh)), xy=(0.64, 0.03), \\\n",
    "            xycoords='axes fraction', bbox=dict(boxstyle='round', facecolor='white'), size=10, color='red')\n",
    "\n",
    "ax.set_xlabel(real_lab)\n",
    "ax.set_ylabel(imag_lab)\n",
    "\n",
    "rmd_lims = [ax.get_xlim(), ax.get_ylim()]\n",
    "\n",
    "plt.legend()\n",
    "plt.tight_layout()\n",
    "\n",
    "# plt.savefig('/Users/matyasmolnar/Dropbox/PhD/Papers/memo_mvo/Figures/contour_plot.pdf')\n",
    "plt.show()"
   ]
  },
  {
   "cell_type": "markdown",
   "id": "d2c6c83a",
   "metadata": {},
   "source": [
    "#### MAD-clipping "
   ]
  },
  {
   "cell_type": "code",
   "execution_count": null,
   "id": "c6b540d4",
   "metadata": {},
   "outputs": [],
   "source": [
    "from astropy.stats import mad_std\n",
    "import matplotlib.patches as patches\n",
    "\n",
    "from robstat.stdstat import mad_clip"
   ]
  },
  {
   "cell_type": "code",
   "execution_count": null,
   "id": "489d2031",
   "metadata": {},
   "outputs": [],
   "source": [
    "sigma = 4.0\n",
    "\n",
    "_, f_r = mad_clip(points[:, 0], sigma=4)\n",
    "_, f_i = mad_clip(points[:, 0], sigma=4)\n",
    "\n",
    "outliers = np.where(f_r + f_i)[0]"
   ]
  },
  {
   "cell_type": "code",
   "execution_count": null,
   "id": "b42cd985",
   "metadata": {},
   "outputs": [],
   "source": [
    "gap = 5\n",
    "\n",
    "fig, ax = plt.subplots(figsize=(7, 5))\n",
    "\n",
    "inliers = np.delete(points, outliers, axis=0)\n",
    "sns.scatterplot(x=inliers[:, 0], y=inliers[:, 1], ax=ax, label='Inliers')\n",
    "sns.scatterplot(x=points[outliers, 0], y=points[outliers, 1], color='red', ax=ax, \\\n",
    "                label='Outliers')\n",
    "sns.scatterplot(x=[np.median(points[:, 0])], y=[np.median(points[:, 1])], color='brown', \\\n",
    "                ax=ax, label='Marginal Median', marker='+')\n",
    "\n",
    "mads = mad_std(points, axis=0)\n",
    "meds = np.median(points, axis=0)\n",
    "\n",
    "ax.axvspan(meds[0]-(sigma+gap)*mads[0], meds[0]-sigma*mads[0], alpha=0.25, color='red', lw=0)\n",
    "ax.axvspan(meds[0]+sigma*mads[0], meds[0]+(sigma+gap)*mads[0], alpha=0.25, color='red', lw=0)\n",
    "\n",
    "rect = patches.Rectangle((meds[0]-sigma*mads[0], meds[1]-(sigma+gap)*mads[1]), 2*sigma*mads[0], \\\n",
    "                         gap*mads[1], linewidth=1, edgecolor='r', facecolor='red', \\\n",
    "                         alpha=0.25, lw=0)\n",
    "ax.add_patch(rect)\n",
    "\n",
    "rect = patches.Rectangle((meds[0]-sigma*mads[0], meds[1]+sigma*mads[1]), 2*sigma*mads[0], \\\n",
    "                         gap*mads[1], linewidth=1, edgecolor='r', facecolor='red', \\\n",
    "                         alpha=0.25, lw=0)\n",
    "ax.add_patch(rect)\n",
    "\n",
    "ax.annotate(r'$\\mathrm{MAD}_{\\mathfrak{Re}} \\;$ = '+'{0:.3f}'.format(mads[0]), xy=(0.02, 0.10), \\\n",
    "            xycoords='axes fraction', bbox=dict(boxstyle='round', facecolor='white'), size=10, \\\n",
    "            color='orange')\n",
    "\n",
    "ax.annotate(r'$\\mathrm{MAD}_{\\mathfrak{Im}}$ = '+'{0:.3f}'.format(mads[1]), xy=(0.02, 0.03), \\\n",
    "            xycoords='axes fraction', bbox=dict(boxstyle='round', facecolor='white'), size=10, \\\n",
    "            color='orange')\n",
    "\n",
    "ax.annotate(r'$ \\mathrm{med} \\pm 4 \\times \\mathrm{MAD} $', xy=(0.8, 0.065), \\\n",
    "            xycoords='axes fraction', bbox=dict(boxstyle='round', facecolor='white'), size=10, \\\n",
    "            color='red')\n",
    "\n",
    "ax.set_xlabel(real_lab)\n",
    "ax.set_ylabel(imag_lab)\n",
    "\n",
    "# pad = 1.5\n",
    "# ax.set_xlim(left=meds[0]-pad*sigma*mads[0], right=meds[0]+pad*sigma*mads[0])\n",
    "# ax.set_ylim(bottom=meds[1]-pad*sigma*mads[1], top=meds[1]+pad*sigma*mads[1])\n",
    "ax.set_xlim(left=rmd_lims[0][0], right=rmd_lims[0][1])\n",
    "ax.set_ylim(bottom=rmd_lims[1][0], top=rmd_lims[1][1])\n",
    "\n",
    "ax.legend(loc='upper right')\n",
    "plt.tight_layout()\n",
    "\n",
    "plt.show()"
   ]
  },
  {
   "cell_type": "code",
   "execution_count": null,
   "id": "b9f6e175",
   "metadata": {},
   "outputs": [],
   "source": [
    "_, f_r = mad_clip(data.real, axis=0, sigma=4)\n",
    "_, f_i = mad_clip(data.imag, axis=0, sigma=4)\n",
    "\n",
    "mad_clip_f = f_r + f_i\n",
    "mad_clip_f = mad_clip_f ^ flags"
   ]
  },
  {
   "cell_type": "code",
   "execution_count": null,
   "id": "f4d940f8",
   "metadata": {},
   "outputs": [],
   "source": [
    "mad_clip_f.sum()"
   ]
  },
  {
   "cell_type": "markdown",
   "id": "7bb7af77",
   "metadata": {},
   "source": [
    "#### rMD-clipping "
   ]
  },
  {
   "cell_type": "code",
   "execution_count": null,
   "id": "36f9d7aa",
   "metadata": {},
   "outputs": [],
   "source": [
    "# the probability that a normal deviate lies in the range between mu - n*sigma and mu + n*sigma\n",
    "chi2_quantile = special.erf(sigma/np.sqrt(2))\n",
    "chi2_thresh = stats.chi2.ppf(chi2_quantile, 2)\n",
    "print('chi^2 quantile corresponding to {}*sigma is {:.7f}'.format(sigma, chi2_quantile))"
   ]
  },
  {
   "cell_type": "code",
   "execution_count": null,
   "id": "1ac953e3",
   "metadata": {},
   "outputs": [],
   "source": [
    "import multiprocess as multiprocessing\n",
    "\n",
    "# require a shared ctype array in order to fill in a numpy array in parallel\n",
    "\n",
    "def create_mp_array(arr):\n",
    "    shared_arr = multiprocessing.RawArray(np.ctypeslib.as_ctypes_type(arr.dtype), int(np.prod(arr.shape)))\n",
    "    new_arr = np.frombuffer(shared_arr, arr.dtype).reshape(arr.shape)  # shared_arr and new_arr the same memory\n",
    "    new_arr[...] = arr\n",
    "    return shared_arr, new_arr\n",
    "\n",
    "def mp_init(shared_arr_, sharred_arr_shape_, sharred_arr_dtype_):\n",
    "    global shared_arr, sharred_arr_shape, sharred_arr_dtype\n",
    "    shared_arr = shared_arr_\n",
    "    sharred_arr_shape = sharred_arr_shape_\n",
    "    sharred_arr_dtype = sharred_arr_dtype_\n",
    "\n",
    "def mp_iter(s):\n",
    "    d = data[:, s[0], s[1], s[2]]\n",
    "    if not np.isnan(d).all():\n",
    "        \n",
    "        isfinite = np.isfinite(d).nonzero()[0]\n",
    "        d = decomposeCArray(flt_nan(d))\n",
    "        robust_cov = MinCovDet(random_state=0).fit(d)\n",
    "        outliers = robust_cov.mahalanobis(d) > chi2_thresh\n",
    "\n",
    "        rmd_clip_f = np.frombuffer(shared_arr, dtype).reshape(shape)\n",
    "        rmd_clip_f[isfinite, s[0], s[1], s[2]] = outliers"
   ]
  },
  {
   "cell_type": "code",
   "execution_count": null,
   "id": "b4c48dd5",
   "metadata": {},
   "outputs": [],
   "source": [
    "rmd_clip_f = np.ones_like(data, dtype=bool)\n",
    "d_shared, rmd_clip_f = create_mp_array(rmd_clip_f)\n",
    "dtype = rmd_clip_f.dtype\n",
    "shape = rmd_clip_f.shape\n",
    "\n",
    "m_pool = multiprocessing.Pool(multiprocessing.cpu_count(), initializer=mp_init, \\\n",
    "                              initargs=(d_shared, dtype, shape))\n",
    "_ = m_pool.map(mp_iter, np.ndindex(data.shape[1:]))\n",
    "m_pool.close()\n",
    "m_pool.join()\n",
    "\n",
    "rmd_clip_f = rmd_clip_f ^ flags"
   ]
  },
  {
   "cell_type": "code",
   "execution_count": null,
   "id": "12374bc6",
   "metadata": {},
   "outputs": [],
   "source": [
    "fig, ax = plt.subplots(figsize=(5, 5), nrows=2, sharex=True)\n",
    "\n",
    "mad_im = mad_clip_f.sum(axis=(0, 3)).T\n",
    "rmd_im = rmd_clip_f.sum(axis=(0, 3)).T\n",
    "tot_arr = np.concatenate((mad_im, rmd_im))\n",
    "vmin = None#np.min(tot_arr)\n",
    "vmax = None#np.max(tot_arr)\n",
    "\n",
    "ax[0].imshow(mad_im, aspect='auto', interpolation='none', vmin=vmin, vmax=vmax)\n",
    "ax[1].imshow(rmd_im, aspect='auto', interpolation='none', vmin=vmin, vmax=vmax)\n",
    "\n",
    "plt.tight_layout()\n",
    "plt.show()"
   ]
  }
 ],
 "metadata": {
  "kernelspec": {
   "display_name": "Python 3 (ipykernel)",
   "language": "python",
   "name": "python3"
  },
  "language_info": {
   "codemirror_mode": {
    "name": "ipython",
    "version": 3
   },
   "file_extension": ".py",
   "mimetype": "text/x-python",
   "name": "python",
   "nbconvert_exporter": "python",
   "pygments_lexer": "ipython3",
   "version": "3.9.9"
  },
  "toc": {
   "base_numbering": 1,
   "nav_menu": {},
   "number_sections": true,
   "sideBar": true,
   "skip_h1_title": false,
   "title_cell": "Table of Contents",
   "title_sidebar": "Contents",
   "toc_cell": false,
   "toc_position": {},
   "toc_section_display": true,
   "toc_window_display": false
  },
  "varInspector": {
   "cols": {
    "lenName": 16,
    "lenType": 16,
    "lenVar": 40
   },
   "kernels_config": {
    "python": {
     "delete_cmd_postfix": "",
     "delete_cmd_prefix": "del ",
     "library": "var_list.py",
     "varRefreshCmd": "print(var_dic_list())"
    },
    "r": {
     "delete_cmd_postfix": ") ",
     "delete_cmd_prefix": "rm(",
     "library": "var_list.r",
     "varRefreshCmd": "cat(var_dic_list()) "
    }
   },
   "types_to_exclude": [
    "module",
    "function",
    "builtin_function_or_method",
    "instance",
    "_Feature"
   ],
   "window_display": false
  }
 },
 "nbformat": 4,
 "nbformat_minor": 5
}
