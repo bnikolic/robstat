{
 "cells": [
  {
   "cell_type": "markdown",
   "id": "d82b8866",
   "metadata": {},
   "source": [
    "<center><strong><font size=+3>High-pass filtering of HERA data with hera_cal</font></center>\n",
    "<br><br>\n",
    "</center>\n",
    "<center><strong><font size=+2>Matyas Molnar and Bojan Nikolic</font><br></strong></center>\n",
    "<br><center><strong><font size=+1>Astrophysics Group, Cavendish Laboratory, University of Cambridge</font></strong></center>"
   ]
  },
  {
   "cell_type": "markdown",
   "id": "5c29f0a7",
   "metadata": {},
   "source": [
    "High-pass filtering using the functions in [hera_cal](https://github.com/HERA-Team/hera_cal) and [uvtools](https://github.com/HERA-Team/uvtools). We use the DAYENU or CLEAN filter, which removes smooth foregrounds for intensity mapping power spectra ([Ewall-Wice et al. 2020](https://ui.adsabs.harvard.edu/abs/2021MNRAS.500.5195E/abstract))."
   ]
  },
  {
   "cell_type": "code",
   "execution_count": null,
   "id": "1048e8b0",
   "metadata": {},
   "outputs": [],
   "source": [
    "import multiprocess as multiprocessing\n",
    "import os\n",
    "\n",
    "import matplotlib as mpl\n",
    "import numpy as np\n",
    "from matplotlib import pyplot as plt\n",
    "from scipy import fft, signal\n",
    "\n",
    "try:\n",
    "    import hera_cal\n",
    "    import uvtools\n",
    "except:\n",
    "    raise ImportError('Notebook requires the hera_cal and uvtools packages.')\n",
    "\n",
    "from robstat.ml import extrem_nans\n",
    "from robstat.utils import DATAPATH"
   ]
  },
  {
   "cell_type": "code",
   "execution_count": null,
   "id": "47f78052",
   "metadata": {},
   "outputs": [],
   "source": [
    "%matplotlib inline"
   ]
  },
  {
   "cell_type": "code",
   "execution_count": null,
   "id": "fe5707f1",
   "metadata": {},
   "outputs": [],
   "source": [
    "mpl.rcParams['figure.dpi'] = 175\n",
    "mpl.rcParams['figure.figsize'] = (5, 3)\n",
    "\n",
    "mpl.rc('font',**{'family':'serif','serif':['cm']})\n",
    "mpl.rc('text', usetex=True)\n",
    "mpl.rc('text.latex', preamble=r'\\usepackage{amssymb} \\usepackage{amsmath}')"
   ]
  },
  {
   "cell_type": "markdown",
   "id": "bb88fd0c",
   "metadata": {},
   "source": [
    "### Load visibility data"
   ]
  },
  {
   "cell_type": "code",
   "execution_count": null,
   "id": "33594b7b",
   "metadata": {},
   "outputs": [],
   "source": [
    "# xd_vis_file = os.path.join(DATAPATH, 'xd_vis_extd_rph.npz')\n",
    "xd_vis_file = os.path.join(DATAPATH, 'lstb_no_avg/idr2_lstb_14m_ee_1.40949.npz')\n",
    "sample_xd_data = np.load(xd_vis_file)"
   ]
  },
  {
   "cell_type": "code",
   "execution_count": null,
   "id": "698d09d9",
   "metadata": {},
   "outputs": [],
   "source": [
    "xd_data = sample_xd_data['data'] # dimensions (days, freqs, times, bls)\n",
    "\n",
    "xd_redg = sample_xd_data['redg']\n",
    "xd_pol = sample_xd_data['pol'].item()\n",
    "JDs = sample_xd_data['JDs']\n",
    "\n",
    "if 'lstb_no_avg' in xd_vis_file:\n",
    "    xd_flags = np.isnan(xd_data)\n",
    "    chans = np.arange(xd_data.shape[1])\n",
    "    freqs = np.linspace(1e8, 2e8, 1025)[:-1]\n",
    "else:\n",
    "    xd_flags = sample_xd_data['flags']\n",
    "    freqs = sample_xd_data['freqs']\n",
    "    chans = sample_xd_data['chans']\n",
    "\n",
    "f_resolution = np.median(np.ediff1d(freqs))\n",
    "no_chans = chans.size\n",
    "no_days = xd_data.shape[0]\n",
    "no_tints = xd_data.shape[2]"
   ]
  },
  {
   "cell_type": "code",
   "execution_count": null,
   "id": "2cadcb41",
   "metadata": {},
   "outputs": [],
   "source": [
    "bl_grp = 0 # only look at 0th baseline group\n",
    "\n",
    "slct_bl_idxs = np.where(xd_redg[:, 0] == bl_grp)[0]\n",
    "flags = xd_flags[..., slct_bl_idxs]\n",
    "slct_red_bl = xd_redg[slct_bl_idxs[0], :][1:]\n",
    "xd_data_bls = xd_data[..., slct_bl_idxs]\n",
    "no_bls = slct_bl_idxs.size\n",
    "print('Looking at baselines redundant to ({}, {}, \\'{}\\')'.\\\n",
    "      format(*slct_red_bl, xd_pol))"
   ]
  },
  {
   "cell_type": "markdown",
   "id": "45eea7f2",
   "metadata": {},
   "source": [
    "### Example on test data"
   ]
  },
  {
   "cell_type": "markdown",
   "id": "8ba601da",
   "metadata": {},
   "source": [
    "#### Format and select test data"
   ]
  },
  {
   "cell_type": "code",
   "execution_count": null,
   "id": "77a840bf",
   "metadata": {},
   "outputs": [],
   "source": [
    "test_data = xd_data_bls[0, ..., 0].copy()\n",
    "test_flags = flags[0, ..., 0]\n",
    "\n",
    "min_nan_idx = np.argmin(test_flags.astype(float).sum(axis=0))\n",
    "test_data = test_data[:, min_nan_idx]\n",
    "test_flags = test_flags[:, min_nan_idx]\n",
    "\n",
    "v = np.logical_not(test_flags) # valid entries"
   ]
  },
  {
   "cell_type": "code",
   "execution_count": null,
   "id": "f73be188",
   "metadata": {},
   "outputs": [],
   "source": [
    "real_lab = r'$\\mathfrak{Re} \\; (V)$'\n",
    "imag_lab = r'$\\mathfrak{Im} \\; (V)$'\n",
    "\n",
    "fig, ax = plt.subplots()\n",
    "ax.scatter(freqs[v], test_data.real[v], s=0.5, alpha=0.5, label=real_lab)\n",
    "ax.scatter(freqs[v], test_data.imag[v], s=0.5, alpha=0.5, label=imag_lab)\n",
    "for i, nan_chan in enumerate(chans[~v]):\n",
    "    if i == 0:\n",
    "        label = 'NaN chan'\n",
    "    else:\n",
    "        label = None\n",
    "    ax.axvline(freqs[np.where(chans==nan_chan)], lw=0.1, ls='--', color='red', alpha=0.5, label=label)\n",
    "ax.legend(loc='upper right', prop={'size': 6})\n",
    "ax.set_xlabel('Frequency')\n",
    "plt.tight_layout()\n",
    "plt.show()"
   ]
  },
  {
   "cell_type": "markdown",
   "id": "aa9550ab",
   "metadata": {},
   "source": [
    "#### Apply high pass fourier filter"
   ]
  },
  {
   "cell_type": "code",
   "execution_count": null,
   "id": "92456a7e",
   "metadata": {},
   "outputs": [],
   "source": [
    "# parameters\n",
    "filter_centers = [0.] # center of rectangular fourier regions to filter\n",
    "filter_half_widths = [1e-6] # half-width of rectangular fourier regions to filter\n",
    "mode = 'clean'"
   ]
  },
  {
   "cell_type": "code",
   "execution_count": null,
   "id": "a3788116",
   "metadata": {},
   "outputs": [],
   "source": [
    "test_data[np.isnan(test_data)] = 0. # data should not have any nans\n",
    "wgts = np.logical_not(test_flags).astype(float) # real weights where flagged data has 0 weight\n",
    "\n",
    "filter_kwargs = dict()\n",
    "if mode != 'clean':\n",
    "    filter_kwargs['max_contiguous_edge_flags'] = no_chans\n",
    "\n",
    "d_mdl, d_res, info = uvtools.dspec.fourier_filter(freqs, test_data, wgts, \\\n",
    "    filter_centers, filter_half_widths, mode, filter_dims=1, skip_wgt=0., zero_residual_flags=True, \\\n",
    "    **filter_kwargs)"
   ]
  },
  {
   "cell_type": "code",
   "execution_count": null,
   "id": "051dad8e",
   "metadata": {},
   "outputs": [],
   "source": [
    "d_mdl_n = d_mdl.copy()\n",
    "d_res_n = d_res.copy()\n",
    "d_mdl_n[~v] *= np.nan\n",
    "d_res_n[~v] *= np.nan\n",
    "\n",
    "fig, ax = plt.subplots()\n",
    "ax.scatter(freqs[v], test_data[v].real, s=0.5, label=real_lab, alpha=0.5)\n",
    "ax.scatter(freqs[v], test_data[v].imag, s=0.5, label=imag_lab, alpha=0.5)\n",
    "ax.plot(freqs, d_mdl_n.real, lw=1)\n",
    "ax.plot(freqs, d_mdl_n.imag, lw=1)\n",
    "for i, nan_chan in enumerate(chans[~v]):\n",
    "    if i == 0:\n",
    "        label = 'NaN chan'\n",
    "    else:\n",
    "        label = None\n",
    "    ax.axvline(freqs[np.where(chans==nan_chan)], lw=0.1, ls='--', color='red', alpha=0.5, label=label)\n",
    "ax.legend(loc='upper right', prop={'size': 6})\n",
    "ax.set_xlabel('Frequency')\n",
    "ax.set_title('Model visibilities', size=8)\n",
    "plt.tight_layout()\n",
    "plt.show()"
   ]
  },
  {
   "cell_type": "code",
   "execution_count": null,
   "id": "a34c0b10",
   "metadata": {},
   "outputs": [],
   "source": [
    "fig, ax = plt.subplots()\n",
    "ax.plot(freqs, d_res_n.real, label=real_lab, alpha=0.7, lw=1)\n",
    "ax.plot(freqs, d_res_n.imag, label=imag_lab, alpha=0.7, lw=1)\n",
    "ax.legend(loc='upper right', prop={'size': 6})\n",
    "ax.set_xlabel('Frequency')\n",
    "ax.set_title('HPF visibilities', size=8)\n",
    "plt.tight_layout()\n",
    "plt.show()"
   ]
  },
  {
   "cell_type": "markdown",
   "id": "705035e0",
   "metadata": {},
   "source": [
    "#### Choosing a gap free band"
   ]
  },
  {
   "cell_type": "code",
   "execution_count": null,
   "id": "b54e24b1",
   "metadata": {},
   "outputs": [],
   "source": [
    "gc = np.split(np.where(v)[0], np.where(np.diff(np.where(v)[0]) != 1)[0]+1)\n",
    "lgap = sorted(gc, key=len, reverse=True)[0][1:]\n",
    "print('Looking at channels {}-{}'.format(chans[lgap][0], chans[lgap][-1]))"
   ]
  },
  {
   "cell_type": "code",
   "execution_count": null,
   "id": "7cb5dd3b",
   "metadata": {},
   "outputs": [],
   "source": [
    "fig, ax = plt.subplots()\n",
    "ax.plot(freqs[lgap], d_mdl[lgap].real)\n",
    "ax.plot(freqs[lgap], d_mdl[lgap].imag)\n",
    "ax.scatter(freqs[lgap], test_data[lgap].real, s=1, alpha=0.7, label=real_lab)\n",
    "ax.scatter(freqs[lgap], test_data[lgap].imag, s=1, alpha=0.7, label=imag_lab)\n",
    "ax.set_xlabel('Frequency')\n",
    "ax.set_title('Model visibilities - selected range', size=8)\n",
    "ax.legend(loc='best', prop={'size': 6})\n",
    "plt.tight_layout()\n",
    "plt.show()"
   ]
  },
  {
   "cell_type": "code",
   "execution_count": null,
   "id": "f2c278c5",
   "metadata": {},
   "outputs": [],
   "source": [
    "fig, ax = plt.subplots()\n",
    "dlys = fft.fftshift(fft.fftfreq(lgap.size, f_resolution))\n",
    "ax.plot(dlys, np.abs(fft.fftshift(fft.fft(test_data[lgap]))), alpha=0.8, label='Data')\n",
    "ax.plot(dlys, np.abs(fft.fftshift(fft.fft(d_res[lgap]))), alpha=0.8, label='HPF')\n",
    "ax.set_xlabel('Delay')\n",
    "ax.set_ylabel('FFT')\n",
    "ax.set_yscale('log')\n",
    "ax.legend(loc='best', prop={'size': 6})\n",
    "plt.tight_layout()\n",
    "plt.show()"
   ]
  },
  {
   "cell_type": "markdown",
   "id": "9dfed500",
   "metadata": {},
   "source": [
    "We note that at low delays, FFTs have a high variance - power spectra are better estimators of power."
   ]
  },
  {
   "cell_type": "code",
   "execution_count": null,
   "id": "7a0782d4",
   "metadata": {},
   "outputs": [],
   "source": [
    "dlys, pspec = signal.periodogram(test_data[lgap], fs=1/f_resolution, \\\n",
    "    window='hann', scaling='spectrum', nfft=None, detrend=False, \\\n",
    "    return_onesided=False)\n",
    "\n",
    "delay_sort = np.argsort(dlys)\n",
    "dlys = dlys[delay_sort]\n",
    "td_pspec = pspec[delay_sort]\n",
    "\n",
    "dlys, pspec = signal.periodogram(d_res[lgap], fs=1/f_resolution, \\\n",
    "    window='hann', scaling='spectrum', nfft=None, detrend=False, \\\n",
    "    return_onesided=False)\n",
    "\n",
    "delay_sort = np.argsort(dlys)\n",
    "dlys = dlys[delay_sort]\n",
    "dr_pspec = pspec[delay_sort]"
   ]
  },
  {
   "cell_type": "code",
   "execution_count": null,
   "id": "4f56c53a",
   "metadata": {},
   "outputs": [],
   "source": [
    "fig, ax = plt.subplots()\n",
    "ax.plot(dlys, td_pspec, alpha=0.8, label='Data')\n",
    "ax.plot(dlys, dr_pspec, alpha=0.8, label='HPF')\n",
    "ax.set_ylabel('Power spectrum')\n",
    "ax.set_yscale('log')\n",
    "ax.set_xlabel('Delay')\n",
    "ax.legend(loc='best', prop={'size': 6})\n",
    "plt.tight_layout()\n",
    "plt.show()"
   ]
  },
  {
   "cell_type": "markdown",
   "id": "70fa0900",
   "metadata": {},
   "source": [
    "### HPF 2D array"
   ]
  },
  {
   "cell_type": "code",
   "execution_count": null,
   "id": "3703c32f",
   "metadata": {},
   "outputs": [],
   "source": [
    "# with trimming of flagged edges\n",
    "\n",
    "wgts = np.logical_not(flags).astype(float) # real weights where flagged data has 0 weight\n",
    "\n",
    "sidxs = (0, 0) # sample indices for example case\n",
    "\n",
    "data_2d = xd_data[sidxs[0], ..., sidxs[1]]\n",
    "ex_nans = extrem_nans(np.isnan(data_2d).all(axis=1))\n",
    "s_idxs, e_idxs = np.split(ex_nans, np.where(np.ediff1d(ex_nans) > 1)[0]+1)\n",
    "s = s_idxs.max() + 1\n",
    "e = e_idxs.min()\n",
    "\n",
    "data_2d_tr = data_2d[s:e, :].copy()\n",
    "flags_2d = xd_flags[sidxs[0], s:e, :, sidxs[1]]\n",
    "data_2d_tr[flags_2d] = 0.\n",
    "wgts = np.logical_not(flags_2d).astype(float)\n",
    "freqs_tr = freqs[s:e]\n",
    "\n",
    "d_mdl_tr, d_res_tr, info = uvtools.dspec.fourier_filter(freqs_tr, data_2d_tr, wgts, \\\n",
    "    filter_centers, filter_half_widths, mode, filter_dims=0, skip_wgt=0., \\\n",
    "    zero_residual_flags=True, **filter_kwargs)\n",
    "\n",
    "d_mdl_tr[flags_2d] *= np.nan\n",
    "d_res_tr[flags_2d] *= np.nan\n",
    "\n",
    "d_mdl = np.empty_like(data_2d)*np.nan\n",
    "d_res = d_mdl.copy()\n",
    "d_mdl[s:e, :] = d_mdl_tr\n",
    "d_res[s:e, :] = d_res_tr"
   ]
  },
  {
   "cell_type": "code",
   "execution_count": null,
   "id": "e47f84e3",
   "metadata": {},
   "outputs": [],
   "source": [
    "fig, ax = plt.subplots(ncols=3)\n",
    "ax[0].imshow(np.abs(data_2d), aspect='auto', interpolation='none')\n",
    "ax[1].imshow(np.abs(d_mdl), aspect='auto', interpolation='none')\n",
    "ax[2].imshow(np.abs(d_res), aspect='auto', interpolation='none')\n",
    "ax[1].yaxis.set_ticklabels([])\n",
    "ax[2].yaxis.set_ticklabels([])\n",
    "plt.tight_layout()\n",
    "plt.show()"
   ]
  },
  {
   "cell_type": "markdown",
   "id": "e1d081f5",
   "metadata": {},
   "source": [
    "### HPF filter entire dataset & save"
   ]
  },
  {
   "cell_type": "code",
   "execution_count": null,
   "id": "4a7f3a75",
   "metadata": {},
   "outputs": [],
   "source": [
    "mp = True # turn on multiprocessing\n",
    "\n",
    "hpf_vis_file = os.path.join(DATAPATH, xd_vis_file.replace('.npz', '_hpf.npz'))\n",
    "\n",
    "if not os.path.exists(hpf_vis_file):\n",
    "\n",
    "    def bl_iter(bl):\n",
    "        hpf_data_d = np.empty((no_days, no_chans, no_tints), dtype=complex)\n",
    "        for day in range(no_days):\n",
    "            data = xd_data_bls[day, ..., bl]\n",
    "            flgs = flags[day, ..., bl]\n",
    "\n",
    "            if flgs.all():\n",
    "                d_res_d = np.empty_like(data) * np.nan\n",
    "            else:\n",
    "                ex_nans = extrem_nans(np.isnan(data).all(axis=1))\n",
    "                s_idxs, e_idxs = np.split(ex_nans, np.where(np.ediff1d(ex_nans) > 1)[0]+1)\n",
    "                s = s_idxs.max() + 1\n",
    "                e = e_idxs.min()\n",
    "                \n",
    "                data_tr = data[s:e, :].copy()\n",
    "                flgs_tr = flgs[s:e, :]\n",
    "                data_tr[flgs_tr] = 0.\n",
    "                wgts = np.logical_not(flgs_tr).astype(float)\n",
    "                freqs_tr = freqs[s:e]\n",
    "\n",
    "                _, d_res_tr, info = uvtools.dspec.fourier_filter(freqs_tr, data_tr, wgts, filter_centers, \\\n",
    "                    filter_half_widths, mode, filter_dims=0, skip_wgt=0., zero_residual_flags=True, \\\n",
    "                    **filter_kwargs)\n",
    "\n",
    "                d_res_tr[flgs_tr] *= np.nan\n",
    "\n",
    "                d_res_d = np.empty_like(data)*np.nan\n",
    "                d_res_d[s:e, :] = d_res_tr\n",
    "\n",
    "            hpf_data_d[day, ...] = d_res_d\n",
    "\n",
    "        return  hpf_data_d[..., np.newaxis]\n",
    "    \n",
    "    if mp:\n",
    "        m_pool = multiprocessing.Pool(min(multiprocessing.cpu_count(), no_bls))\n",
    "        pool_res = m_pool.map(bl_iter, range(no_bls))\n",
    "        m_pool.close()\n",
    "        m_pool.join()\n",
    "    else:\n",
    "        pool_res = list(map(bl_iter, range(no_bls)))\n",
    "        \n",
    "    hpf_data = np.concatenate(pool_res, axis=3)\n",
    "\n",
    "    hpf_data[flags] *= np.nan\n",
    "    \n",
    "    keys = list(sample_xd_data.keys())\n",
    "    keys.remove('data')\n",
    "    antpos_in = 'antpos' in keys\n",
    "    if antpos_in:\n",
    "        keys.remove('antpos')\n",
    "    metadata = {k: sample_xd_data[k] for k in keys}\n",
    "    if antpos_in:\n",
    "        metadata['antpos'] = np.load(xd_vis_file, allow_pickle=True)['antpos'].item()\n",
    "\n",
    "    np.savez(hpf_vis_file, data=hpf_data, **metadata)\n",
    "    \n",
    "else:\n",
    "    hpf_data = np.load(hpf_vis_file)['data']"
   ]
  },
  {
   "cell_type": "code",
   "execution_count": null,
   "id": "9d2ce259",
   "metadata": {},
   "outputs": [],
   "source": [
    "# look at the PS of some sample HPF data\n",
    "d = hpf_data[0, lgap, :, 0]\n",
    "d[np.isnan(d)] = 0\n",
    "\n",
    "dlys, pspec = signal.periodogram(d, fs=1/f_resolution, \\\n",
    "    window='hann', scaling='spectrum', nfft=None, detrend=False, \\\n",
    "    return_onesided=False, axis=0)\n",
    "\n",
    "delay_sort = np.argsort(dlys)\n",
    "dlys = dlys[delay_sort]\n",
    "dr_pspec = pspec[delay_sort]"
   ]
  },
  {
   "cell_type": "code",
   "execution_count": null,
   "id": "9178a486",
   "metadata": {},
   "outputs": [],
   "source": [
    "fig, ax = plt.subplots()\n",
    "ax.plot(dlys, np.abs(dr_pspec), alpha=0.8, label='HPF')\n",
    "ax.set_ylabel('Power spectrum')\n",
    "ax.set_yscale('log')\n",
    "ax.set_xlabel('Delay')\n",
    "plt.tight_layout()\n",
    "plt.show()"
   ]
  }
 ],
 "metadata": {
  "kernelspec": {
   "display_name": "Python 3 (ipykernel)",
   "language": "python",
   "name": "python3"
  },
  "language_info": {
   "codemirror_mode": {
    "name": "ipython",
    "version": 3
   },
   "file_extension": ".py",
   "mimetype": "text/x-python",
   "name": "python",
   "nbconvert_exporter": "python",
   "pygments_lexer": "ipython3",
   "version": "3.9.12"
  },
  "toc": {
   "base_numbering": 1,
   "nav_menu": {},
   "number_sections": true,
   "sideBar": true,
   "skip_h1_title": false,
   "title_cell": "Table of Contents",
   "title_sidebar": "Contents",
   "toc_cell": false,
   "toc_position": {},
   "toc_section_display": true,
   "toc_window_display": false
  },
  "varInspector": {
   "cols": {
    "lenName": 16,
    "lenType": 16,
    "lenVar": 40
   },
   "kernels_config": {
    "python": {
     "delete_cmd_postfix": "",
     "delete_cmd_prefix": "del ",
     "library": "var_list.py",
     "varRefreshCmd": "print(var_dic_list())"
    },
    "r": {
     "delete_cmd_postfix": ") ",
     "delete_cmd_prefix": "rm(",
     "library": "var_list.r",
     "varRefreshCmd": "cat(var_dic_list()) "
    }
   },
   "types_to_exclude": [
    "module",
    "function",
    "builtin_function_or_method",
    "instance",
    "_Feature"
   ],
   "window_display": false
  }
 },
 "nbformat": 4,
 "nbformat_minor": 5
}
