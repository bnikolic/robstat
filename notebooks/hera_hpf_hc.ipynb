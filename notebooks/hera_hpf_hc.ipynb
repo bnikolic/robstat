{
 "cells": [
  {
   "cell_type": "markdown",
   "id": "d82b8866",
   "metadata": {},
   "source": [
    "<center><strong><font size=+3>High-pass filtering of HERA data with hera_cal</font></center>\n",
    "<br><br>\n",
    "</center>\n",
    "<center><strong><font size=+2>Matyas Molnar and Bojan Nikolic</font><br></strong></center>\n",
    "<br><center><strong><font size=+1>Astrophysics Group, Cavendish Laboratory, University of Cambridge</font></strong></center>"
   ]
  },
  {
   "cell_type": "markdown",
   "id": "5c29f0a7",
   "metadata": {},
   "source": [
    "High-pass filtering using the functions in [hera_cal](https://github.com/HERA-Team/hera_cal) and [uvtools](https://github.com/HERA-Team/uvtools). We use the DAYENU filter, which removes smooth foregrounds for intensity mapping power spectra ([Ewall-Wice et al. 2020](https://ui.adsabs.harvard.edu/abs/2021MNRAS.500.5195E/abstract))."
   ]
  },
  {
   "cell_type": "code",
   "execution_count": null,
   "id": "1048e8b0",
   "metadata": {},
   "outputs": [],
   "source": [
    "import multiprocessing\n",
    "import os\n",
    "\n",
    "import matplotlib as mpl\n",
    "import numpy as np\n",
    "from matplotlib import pyplot as plt\n",
    "from scipy import fft, signal\n",
    "\n",
    "try:\n",
    "    import hera_cal\n",
    "    import uvtools\n",
    "except:\n",
    "    raise ImportError('Notebook requires the hera_cal and uvtools packages.')\n",
    "\n",
    "from robstat.ml import extrem_nans\n",
    "from robstat.robstat import geometric_median\n",
    "from robstat.stdstat import rsc_mean\n",
    "from robstat.utils import DATAPATH"
   ]
  },
  {
   "cell_type": "code",
   "execution_count": null,
   "id": "47f78052",
   "metadata": {},
   "outputs": [],
   "source": [
    "%matplotlib inline"
   ]
  },
  {
   "cell_type": "code",
   "execution_count": null,
   "id": "fe5707f1",
   "metadata": {},
   "outputs": [],
   "source": [
    "mpl.rcParams['figure.dpi'] = 175\n",
    "mpl.rcParams['figure.figsize'] = (5, 3)"
   ]
  },
  {
   "cell_type": "markdown",
   "id": "bb88fd0c",
   "metadata": {},
   "source": [
    "### Load visibility data"
   ]
  },
  {
   "cell_type": "code",
   "execution_count": null,
   "id": "33594b7b",
   "metadata": {},
   "outputs": [],
   "source": [
    "xd_vis_file = os.path.join(DATAPATH, 'xd_vis_rph.npz')\n",
    "sample_xd_data = np.load(xd_vis_file)"
   ]
  },
  {
   "cell_type": "code",
   "execution_count": null,
   "id": "698d09d9",
   "metadata": {},
   "outputs": [],
   "source": [
    "xd_data = sample_xd_data['data'] # dimensions (days, freqs, times, bls)\n",
    "xd_flags = sample_xd_data['flags']\n",
    "\n",
    "xd_redg = sample_xd_data['redg']\n",
    "xd_times = sample_xd_data['times']\n",
    "xd_pol = sample_xd_data['pol'].item()\n",
    "JDs = sample_xd_data['JDs']\n",
    "\n",
    "freqs = sample_xd_data['freqs']\n",
    "chans = sample_xd_data['chans']\n",
    "\n",
    "f_resolution = np.median(np.ediff1d(freqs))\n",
    "no_chans = chans.size\n",
    "no_days = JDs.size\n",
    "no_tints = xd_times.size"
   ]
  },
  {
   "cell_type": "code",
   "execution_count": null,
   "id": "2cadcb41",
   "metadata": {},
   "outputs": [],
   "source": [
    "bl_grp = 0 # only look at 0th baseline group\n",
    "\n",
    "slct_bl_idxs = np.where(xd_redg[:, 0] == bl_grp)[0]\n",
    "flags = xd_flags[..., slct_bl_idxs]\n",
    "slct_red_bl = xd_redg[slct_bl_idxs[0], :][1:]\n",
    "xd_data_bls = xd_data[..., slct_bl_idxs]\n",
    "no_bls = slct_bl_idxs.size\n",
    "print('Looking at baselines redundant to ({}, {}, \\'{}\\')'.\\\n",
    "      format(*slct_red_bl, xd_pol))"
   ]
  },
  {
   "cell_type": "markdown",
   "id": "45eea7f2",
   "metadata": {},
   "source": [
    "### Example on test data"
   ]
  },
  {
   "cell_type": "markdown",
   "id": "8ba601da",
   "metadata": {},
   "source": [
    "#### Format and select test data"
   ]
  },
  {
   "cell_type": "code",
   "execution_count": null,
   "id": "77a840bf",
   "metadata": {},
   "outputs": [],
   "source": [
    "test_data = xd_data_bls[0, ..., 0]\n",
    "test_flags = flags[0, ..., 0]\n",
    "\n",
    "min_nan_idx = np.argmin(test_flags.astype(float).sum(axis=0))\n",
    "test_data = test_data[:, min_nan_idx]\n",
    "test_flags = test_flags[:, min_nan_idx]\n",
    "\n",
    "v = np.logical_not(test_flags) # valid entries"
   ]
  },
  {
   "cell_type": "code",
   "execution_count": null,
   "id": "f73be188",
   "metadata": {},
   "outputs": [],
   "source": [
    "real_lab = r'$\\mathfrak{Re} \\; (V)$'\n",
    "imag_lab = r'$\\mathfrak{Im} \\; (V)$'\n",
    "\n",
    "fig, ax = plt.subplots()\n",
    "ax.scatter(freqs[v], test_data.real[v], s=0.5, alpha=0.5, label=real_lab)\n",
    "ax.scatter(freqs[v], test_data.imag[v], s=0.5, alpha=0.5, label=imag_lab)\n",
    "for i, nan_chan in enumerate(chans[~v]):\n",
    "    if i == 0:\n",
    "        label = 'NaN chan'\n",
    "    else:\n",
    "        label = None\n",
    "    ax.axvline(freqs[np.where(chans==nan_chan)], lw=0.1, ls='--', color='red', alpha=0.5, label=label)\n",
    "ax.legend(loc='upper right', prop={'size': 6})\n",
    "ax.set_xlabel('Frequency')\n",
    "plt.tight_layout()\n",
    "plt.show()"
   ]
  },
  {
   "cell_type": "markdown",
   "id": "aa9550ab",
   "metadata": {},
   "source": [
    "#### Apply DAYENU fourier filter"
   ]
  },
  {
   "cell_type": "code",
   "execution_count": null,
   "id": "a3788116",
   "metadata": {},
   "outputs": [],
   "source": [
    "wgts = np.logical_not(test_flags).astype(float) # real weights where flagged data has 0 weight\n",
    "filter_centers = [0.] # center of rectangular fourier regions to filter\n",
    "filter_half_widths = [1e-6] # half-width of rectangular fourier regions to filter\n",
    "mode = 'dayenu_dpss_leastsq'\n",
    "\n",
    "d_mdl, d_res, info = uvtools.dspec.fourier_filter(freqs, test_data, wgts, filter_centers, \\\n",
    "    filter_half_widths, mode, filter_dims=1, skip_wgt=0., zero_residual_flags=True, \\\n",
    "    max_contiguous_edge_flags=200)"
   ]
  },
  {
   "cell_type": "code",
   "execution_count": null,
   "id": "051dad8e",
   "metadata": {},
   "outputs": [],
   "source": [
    "d_mdl_n = d_mdl.copy()\n",
    "d_res_n = d_res.copy()\n",
    "d_mdl_n[~v] *= np.nan\n",
    "d_res_n[~v] *= np.nan\n",
    "\n",
    "fig, ax = plt.subplots()\n",
    "ax.scatter(freqs[v], test_data[v].real, s=0.5, label=real_lab, alpha=0.5)\n",
    "ax.scatter(freqs[v], test_data[v].imag, s=0.5, label=imag_lab, alpha=0.5)\n",
    "ax.plot(freqs, d_mdl_n.real, lw=1)\n",
    "ax.plot(freqs, d_mdl_n.imag, lw=1)\n",
    "for i, nan_chan in enumerate(chans[~v]):\n",
    "    if i == 0:\n",
    "        label = 'NaN chan'\n",
    "    else:\n",
    "        label = None\n",
    "    ax.axvline(freqs[np.where(chans==nan_chan)], lw=0.1, ls='--', color='red', alpha=0.5, label=label)\n",
    "ax.legend(loc='upper right', prop={'size': 6})\n",
    "ax.set_xlabel('Frequency')\n",
    "ax.set_title('Model visibilities', size=8)\n",
    "plt.tight_layout()\n",
    "plt.show()"
   ]
  },
  {
   "cell_type": "code",
   "execution_count": null,
   "id": "a34c0b10",
   "metadata": {},
   "outputs": [],
   "source": [
    "fig, ax = plt.subplots()\n",
    "ax.plot(freqs, d_res_n.real, label=real_lab, alpha=0.7, lw=1)\n",
    "ax.plot(freqs, d_res_n.imag, label=imag_lab, alpha=0.7, lw=1)\n",
    "ax.legend(loc='upper right', prop={'size': 6})\n",
    "ax.set_xlabel('Frequency')\n",
    "ax.set_title('HPF visibilities', size=8)\n",
    "plt.tight_layout()\n",
    "plt.show()"
   ]
  },
  {
   "cell_type": "markdown",
   "id": "705035e0",
   "metadata": {},
   "source": [
    "#### Choosing a gap free band"
   ]
  },
  {
   "cell_type": "code",
   "execution_count": null,
   "id": "b54e24b1",
   "metadata": {},
   "outputs": [],
   "source": [
    "gc = np.split(np.where(v)[0], np.where(np.diff(np.where(v)[0]) != 1)[0]+1)\n",
    "lgap = sorted(gc, key=len, reverse=True)[0][1:]\n",
    "print('Looking at channels {}-{}'.format(chans[lgap][0], chans[lgap][-1]))"
   ]
  },
  {
   "cell_type": "code",
   "execution_count": null,
   "id": "7cb5dd3b",
   "metadata": {},
   "outputs": [],
   "source": [
    "fig, ax = plt.subplots()\n",
    "ax.plot(freqs[lgap], d_mdl[lgap].real)\n",
    "ax.plot(freqs[lgap], d_mdl[lgap].imag)\n",
    "ax.scatter(freqs[lgap], test_data[lgap].real, s=1, alpha=0.7, label=real_lab)\n",
    "ax.scatter(freqs[lgap], test_data[lgap].imag, s=1, alpha=0.7, label=imag_lab)\n",
    "ax.set_xlabel('Frequency')\n",
    "ax.set_title('Model visibilities - selected range', size=8)\n",
    "ax.legend(loc='best', prop={'size': 6})\n",
    "plt.tight_layout()\n",
    "plt.show()"
   ]
  },
  {
   "cell_type": "code",
   "execution_count": null,
   "id": "f2c278c5",
   "metadata": {},
   "outputs": [],
   "source": [
    "fig, ax = plt.subplots()\n",
    "dlys = fft.fftshift(fft.fftfreq(lgap.size, f_resolution))\n",
    "ax.plot(dlys, np.abs(fft.fftshift(fft.fft(test_data[lgap]))), alpha=0.8, label='Data')\n",
    "ax.plot(dlys, np.abs(fft.fftshift(fft.fft(d_res[lgap]))), alpha=0.8, label='HPF')\n",
    "ax.set_xlabel('Delay')\n",
    "ax.set_ylabel('FFT')\n",
    "ax.set_yscale('log')\n",
    "ax.legend(loc='best', prop={'size': 6})\n",
    "plt.tight_layout()\n",
    "plt.show()"
   ]
  },
  {
   "cell_type": "markdown",
   "id": "9dfed500",
   "metadata": {},
   "source": [
    "We note that at low delays, FFTs have a high variance - power spectra are better estimators of power."
   ]
  },
  {
   "cell_type": "code",
   "execution_count": null,
   "id": "7a0782d4",
   "metadata": {},
   "outputs": [],
   "source": [
    "dlys, pspec = signal.periodogram(test_data[lgap], fs=1/f_resolution, \\\n",
    "    window='hann', scaling='spectrum', nfft=None, detrend=False, \\\n",
    "    return_onesided=False)\n",
    "\n",
    "delay_sort = np.argsort(dlys)\n",
    "dlys = dlys[delay_sort]\n",
    "td_pspec = pspec[delay_sort]\n",
    "\n",
    "dlys, pspec = signal.periodogram(d_res[lgap], fs=1/f_resolution, \\\n",
    "    window='hann', scaling='spectrum', nfft=None, detrend=False, \\\n",
    "    return_onesided=False)\n",
    "\n",
    "delay_sort = np.argsort(dlys)\n",
    "dlys = dlys[delay_sort]\n",
    "dr_pspec = pspec[delay_sort]"
   ]
  },
  {
   "cell_type": "code",
   "execution_count": null,
   "id": "4f56c53a",
   "metadata": {},
   "outputs": [],
   "source": [
    "fig, ax = plt.subplots()\n",
    "ax.plot(dlys, td_pspec, alpha=0.8, label='Data')\n",
    "ax.plot(dlys, dr_pspec, alpha=0.8, label='HPF')\n",
    "ax.set_ylabel('Power spectrum')\n",
    "ax.set_yscale('log')\n",
    "ax.set_xlabel('Delay')\n",
    "ax.legend(loc='best', prop={'size': 6})\n",
    "plt.tight_layout()\n",
    "plt.show()"
   ]
  },
  {
   "cell_type": "markdown",
   "id": "70fa0900",
   "metadata": {},
   "source": [
    "### HPF 2D array"
   ]
  },
  {
   "cell_type": "code",
   "execution_count": null,
   "id": "57ed5768",
   "metadata": {},
   "outputs": [],
   "source": [
    "wgts = np.logical_not(flags).astype(float) # real weights where flagged data has 0 weight\n",
    "filter_centers = [0.] # center of rectangular fourier regions to filter\n",
    "filter_half_widths = [1e-6] # half-width of rectangular fourier regions to filter\n",
    "mode = 'dayenu_dpss_leastsq'\n",
    "\n",
    "data_2d = xd_data[0, ..., 0]\n",
    "flags_2d = xd_flags[0, ..., 0]\n",
    "wgts = np.logical_not(flags_2d).astype(float)\n",
    "\n",
    "d_mdl, d_res, _ = uvtools.dspec.fourier_filter(freqs, data_2d, wgts, filter_centers, \\\n",
    "    filter_half_widths, mode, filter_dims=0, skip_wgt=0.1, zero_residual_flags=True, \\\n",
    "    max_contiguous_edge_flags=500)\n",
    "\n",
    "d_mdl[flags_2d] *= np.nan\n",
    "d_res[flags_2d] *= np.nan\n",
    "data_2d[flags_2d] *= np.nan"
   ]
  },
  {
   "cell_type": "code",
   "execution_count": null,
   "id": "e47f84e3",
   "metadata": {},
   "outputs": [],
   "source": [
    "fig, ax = plt.subplots(ncols=3)\n",
    "ax[0].imshow(np.abs(data_2d), aspect='auto', interpolation='none')\n",
    "ax[1].imshow(np.abs(d_mdl), aspect='auto', interpolation='none')\n",
    "ax[2].imshow(np.abs(d_res), aspect='auto', interpolation='none')\n",
    "ax[1].yaxis.set_ticklabels([])\n",
    "ax[2].yaxis.set_ticklabels([])\n",
    "plt.tight_layout()\n",
    "plt.show()"
   ]
  },
  {
   "cell_type": "markdown",
   "id": "e1d081f5",
   "metadata": {},
   "source": [
    "### HPF filter entire dataset & save"
   ]
  },
  {
   "cell_type": "code",
   "execution_count": null,
   "id": "4a7f3a75",
   "metadata": {},
   "outputs": [],
   "source": [
    "hpf_vis_file = os.path.join(DATAPATH, os.path.basename(xd_vis_file).replace('.npz', '_hpf.npz'))\n",
    "\n",
    "if not os.path.exists(hpf_vis_file):\n",
    "\n",
    "    filter_centers = [0.] # center of rectangular fourier regions to filter\n",
    "    filter_half_widths = [1e-6] # half-width of rectangular fourier regions to filter\n",
    "    mode = 'dayenu_dpss_leastsq'\n",
    "\n",
    "    def bl_iter(bl):\n",
    "        hpf_data_d = np.empty((no_days, no_chans, no_tints), dtype=complex)\n",
    "        for day in range(no_days):\n",
    "            data = xd_data_bls[day, ..., bl]\n",
    "            flgs = flags[day, ..., bl]\n",
    "\n",
    "            if flags[day, ..., bl].all():\n",
    "                d_res_d = np.empty_like(data) * np.nan\n",
    "            else:\n",
    "                wgts = np.logical_not(flgs).astype(float)\n",
    "\n",
    "                _, d_res_d, _ = uvtools.dspec.fourier_filter(freqs, data, wgts, filter_centers, \\\n",
    "                    filter_half_widths, mode, filter_dims=0, skip_wgt=0.1, zero_residual_flags=True, \\\n",
    "                    max_contiguous_edge_flags=500)\n",
    "\n",
    "            hpf_data_d[day, ...] = d_res_d\n",
    "\n",
    "        return  hpf_data_d[..., np.newaxis]\n",
    "\n",
    "    m_pool = multiprocessing.Pool(min(multiprocessing.cpu_count(), no_bls))\n",
    "    hpf_data = np.concatenate(m_pool.map(bl_iter, range(no_bls)), axis=3)\n",
    "\n",
    "    hpf_data[flags] *= np.nan\n",
    "    \n",
    "    keys = list(sample_xd_data.keys())\n",
    "    keys.remove('data')\n",
    "    keys.remove('antpos')\n",
    "    metadata = {k: sample_xd_data[k] for k in keys}\n",
    "    metadata['antpos'] = np.load(xd_vis_file, allow_pickle=True)['antpos'].item()\n",
    "\n",
    "    np.savez(hpf_vis_file, data=hpf_data, **metadata)\n",
    "    \n",
    "else:\n",
    "    hpf_data = np.load(hpf_vis_file)['data']"
   ]
  },
  {
   "cell_type": "code",
   "execution_count": null,
   "id": "9d2ce259",
   "metadata": {},
   "outputs": [],
   "source": [
    "# look at the PS of some sample HPF data\n",
    "d = hpf_data[0, lgap, :, 0]\n",
    "d[np.isnan(d)] = 0\n",
    "\n",
    "dlys, pspec = signal.periodogram(d, fs=1/f_resolution, \\\n",
    "    window='hann', scaling='spectrum', nfft=None, detrend=False, \\\n",
    "    return_onesided=False, axis=0)\n",
    "\n",
    "delay_sort = np.argsort(dlys)\n",
    "dlys = dlys[delay_sort]\n",
    "dr_pspec = pspec[delay_sort]"
   ]
  },
  {
   "cell_type": "code",
   "execution_count": null,
   "id": "9178a486",
   "metadata": {},
   "outputs": [],
   "source": [
    "fig, ax = plt.subplots()\n",
    "ax.plot(dlys, np.abs(dr_pspec), alpha=0.8, label='HPF')\n",
    "ax.set_ylabel('Power spectrum')\n",
    "ax.set_yscale('log')\n",
    "ax.set_xlabel('Delay')\n",
    "plt.tight_layout()\n",
    "plt.show()"
   ]
  },
  {
   "cell_type": "code",
   "execution_count": null,
   "id": "eb3a67b8",
   "metadata": {},
   "outputs": [],
   "source": [
    "# TODO\n",
    "# write up HPF of multidimensional dataset as a script that can be run at NRAO\n",
    "# investigate acceleration of HPF - does multiprocessing help here?"
   ]
  }
 ],
 "metadata": {
  "kernelspec": {
   "display_name": "robstat",
   "language": "python",
   "name": "robstat"
  },
  "language_info": {
   "codemirror_mode": {
    "name": "ipython",
    "version": 3
   },
   "file_extension": ".py",
   "mimetype": "text/x-python",
   "name": "python",
   "nbconvert_exporter": "python",
   "pygments_lexer": "ipython3",
   "version": "3.9.7"
  },
  "toc": {
   "base_numbering": 1,
   "nav_menu": {},
   "number_sections": true,
   "sideBar": true,
   "skip_h1_title": false,
   "title_cell": "Table of Contents",
   "title_sidebar": "Contents",
   "toc_cell": false,
   "toc_position": {},
   "toc_section_display": true,
   "toc_window_display": false
  }
 },
 "nbformat": 4,
 "nbformat_minor": 5
}
