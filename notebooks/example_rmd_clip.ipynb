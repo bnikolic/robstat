{
 "cells": [
  {
   "cell_type": "markdown",
   "id": "1b372482",
   "metadata": {},
   "source": [
    "<center><strong><font size=+3>Speeding up RMD-clipping</font></center>\n",
    "<br><br>\n",
    "</center>\n",
    "<center><strong><font size=+2>Matyas Molnar and Bojan Nikolic</font><br></strong></center>\n",
    "<br><center><strong><font size=+1>Astrophysics Group, Cavendish Laboratory, University of Cambridge</font></strong></center>"
   ]
  },
  {
   "cell_type": "code",
   "execution_count": null,
   "id": "86ea4d06",
   "metadata": {},
   "outputs": [],
   "source": [
    "import os\n",
    "\n",
    "import matplotlib as mpl\n",
    "import matplotlib.patches as patches\n",
    "import numpy as np\n",
    "import seaborn as sns\n",
    "from matplotlib import pyplot as plt\n",
    "from scipy import special, stats\n",
    "from sklearn.covariance import MinCovDet\n",
    "\n",
    "from robstat.stdstat import mad_clip\n",
    "from robstat.utils import DATAPATH, decomposeCArray, flt_nan"
   ]
  },
  {
   "cell_type": "code",
   "execution_count": null,
   "id": "a888961b",
   "metadata": {},
   "outputs": [],
   "source": [
    "%matplotlib inline"
   ]
  },
  {
   "cell_type": "code",
   "execution_count": null,
   "id": "0e9bc7f9",
   "metadata": {},
   "outputs": [],
   "source": [
    "mpl.rcParams['figure.figsize'] = (5, 3)\n",
    "mpl.rcParams['figure.dpi'] = 125\n",
    "\n",
    "mpl.rc('font',**{'family':'serif','serif':['cm']})\n",
    "mpl.rc('text', usetex=True)\n",
    "mpl.rc('text.latex', preamble=r'\\usepackage{amssymb} \\usepackage{amsmath}')"
   ]
  },
  {
   "cell_type": "code",
   "execution_count": null,
   "id": "fc9fb244",
   "metadata": {},
   "outputs": [],
   "source": [
    "vis_file = os.path.join(DATAPATH, 'sample_vis_data.npz')\n",
    "vis_data = np.load(vis_file)"
   ]
  },
  {
   "cell_type": "code",
   "execution_count": null,
   "id": "2126b030",
   "metadata": {},
   "outputs": [],
   "source": [
    "data = vis_data['data']\n",
    "flags = np.isnan(data)\n",
    "redg = vis_data['redg']\n",
    "pol = vis_data['pol']\n",
    "lsts = vis_data['lsts']\n",
    "JDs = vis_data['JDs']\n",
    "chans = vis_data['chans']\n",
    "freqs = vis_data['freqs']"
   ]
  },
  {
   "cell_type": "code",
   "execution_count": null,
   "id": "018e7d67",
   "metadata": {},
   "outputs": [],
   "source": [
    "# parameters\n",
    "sigma = 5.0  # number of normal standard deviations for clipping\n",
    "min_N = 5  # minimum length of array to clip, below which no clipping is performed."
   ]
  },
  {
   "cell_type": "code",
   "execution_count": null,
   "id": "af452b29",
   "metadata": {},
   "outputs": [],
   "source": [
    "eg_data = data[:, 0, 0, 0]\n",
    "points = decomposeCArray(flt_nan(eg_data.flatten()))"
   ]
  },
  {
   "cell_type": "code",
   "execution_count": null,
   "id": "1e16b378",
   "metadata": {},
   "outputs": [],
   "source": [
    "# relate in terms of probabilities:\n",
    "# the probability that a normal deviate lies in the range between  \\mu - n*\\sigma and \\mu + n*\\sigma:\n",
    "chi2_p = special.erf(sigma/np.sqrt(2))\n",
    "# transform this probability to chi^2 quantile\n",
    "chi2_q = stats.chi2.ppf(chi2_p, df=points.shape[1])\n",
    "\n",
    "print('χ^2 quantile corresponding to {}σ (p = {:.7f}) is {:.7f}'.\\\n",
    "      format(sigma, chi2_p, chi2_q))"
   ]
  },
  {
   "cell_type": "code",
   "execution_count": null,
   "id": "12b08956",
   "metadata": {},
   "outputs": [],
   "source": [
    "robust_cov = MinCovDet(random_state=0).fit(points)\n",
    "rmd_outliers = np.where(robust_cov.mahalanobis(points) > chi2_q)[0]"
   ]
  },
  {
   "cell_type": "code",
   "execution_count": null,
   "id": "1d8ce010",
   "metadata": {},
   "outputs": [],
   "source": [
    "%%timeit\n",
    "# RMD-clipping speed\n",
    "robust_cov = MinCovDet(random_state=0).fit(points)\n",
    "rmd_outliers = np.where(robust_cov.mahalanobis(points) > chi2_q)[0]"
   ]
  },
  {
   "cell_type": "code",
   "execution_count": null,
   "id": "135aab4d",
   "metadata": {},
   "outputs": [],
   "source": [
    "%%timeit\n",
    "# MAD-clipping speed, for comparison.\n",
    "# Note that MAD-clipping can be vectorized, while RMD-clipping needs to be looped (see later)\n",
    "_, f_r = mad_clip(points[:, 0], sigma=sigma, min_N=min_N)\n",
    "_, f_i = mad_clip(points[:, 1], sigma=sigma, min_N=min_N)\n",
    "\n",
    "mad_outliers = np.where(f_r + f_i)[0]"
   ]
  },
  {
   "cell_type": "code",
   "execution_count": null,
   "id": "9f469f5a",
   "metadata": {},
   "outputs": [],
   "source": [
    "# get RMD ellipse parameters from covariance matrix\n",
    "eig_vals, eig_vecs = np.linalg.eig(robust_cov.covariance_)\n",
    "radii = np.sqrt(eig_vals)\n",
    "lrg_ev = eig_vecs[np.argmax(eig_vals)]\n",
    "alpha = np.arctan2(eig_vals[0] - robust_cov.covariance_[0][0], robust_cov.covariance_[0][1])"
   ]
  },
  {
   "cell_type": "code",
   "execution_count": null,
   "id": "c794b281",
   "metadata": {},
   "outputs": [],
   "source": [
    "real_lab = r'$\\mathfrak{Re} (V)$'\n",
    "imag_lab = r'$\\mathfrak{Im} (V)$'\n",
    "\n",
    "\n",
    "fig, ax = plt.subplots(figsize=(7, 5))\n",
    "\n",
    "ax.set_facecolor('red')\n",
    "ax.patch.set_alpha(0.25)\n",
    "\n",
    "z = np.sqrt(chi2_q)\n",
    "ellipse = patches.Ellipse(xy=robust_cov.location_, width=2*z*radii[0], height=2*z*radii[1], \\\n",
    "                          angle=alpha*180/np.pi, edgecolor='None', fc='white', lw=2, ls='--', \n",
    "                          zorder=0)\n",
    "ax.add_patch(ellipse)\n",
    "\n",
    "inliers = np.delete(points, rmd_outliers, axis=0)\n",
    "sns.scatterplot(x=inliers[:, 0], y=inliers[:, 1], ax=ax, label='Inliers', alpha=0.8)\n",
    "sns.scatterplot(x=points[rmd_outliers, 0], y=points[rmd_outliers, 1], color='red', ax=ax, \\\n",
    "                label='Outliers', alpha=0.8, zorder=2)\n",
    "sns.scatterplot(x=[robust_cov.location_[0]], y=[robust_cov.location_[1]], color='darkorange', \\\n",
    "                ax=ax, label='MCD location', marker='+', zorder=2)\n",
    "\n",
    "# Create meshgrid of feature values\n",
    "xx, yy = np.meshgrid(np.linspace(plt.xlim()[0], plt.xlim()[1], 1001),\n",
    "                     np.linspace(plt.ylim()[0], plt.ylim()[1], 1001))\n",
    "zz = np.c_[xx.ravel(), yy.ravel()]\n",
    "\n",
    "# Calculate the MCD based Mahalanobis distances\n",
    "mahal_robust_cov = robust_cov.mahalanobis(zz)\n",
    "mahal_robust_cov = mahal_robust_cov.reshape(xx.shape)\n",
    "robust_contour = ax.contour(xx, yy, np.sqrt(mahal_robust_cov), cmap=plt.cm.YlOrBr_r, \\\n",
    "                            linestyles='--', zorder=0)\n",
    "ax.clabel(robust_contour, robust_contour.levels, inline=True, fontsize=10)\n",
    "thresh_contour = ax.contour(xx, yy, np.sqrt(mahal_robust_cov), [np.sqrt(chi2_q)], colors='red', \\\n",
    "                            linewidths=2, zorder=0)\n",
    "\n",
    "ax.annotate('Robust Mahalanobis Distance', xy=(0.62, 0.10), xycoords='axes fraction', \\\n",
    "            bbox=dict(boxstyle='round', facecolor='white'), size=10, color='darkorange')\n",
    "\n",
    "ax.annotate(r'$\\chi_{\\mathrm{thresh}} =$'+' {0:.3f}'.format(np.sqrt(chi2_q)), xy=(0.62, 0.03), \\\n",
    "            xycoords='axes fraction', bbox=dict(boxstyle='round', facecolor='white'), size=10, color='red')\n",
    "\n",
    "ax.set_xlabel(real_lab)\n",
    "ax.set_ylabel(imag_lab)\n",
    "\n",
    "rmd_lims = [ax.get_xlim(), ax.get_ylim()]\n",
    "\n",
    "ax.legend(loc='upper right')\n",
    "\n",
    "fig.tight_layout()\n",
    "plt.show()"
   ]
  },
  {
   "cell_type": "markdown",
   "id": "f325aac8",
   "metadata": {},
   "source": [
    "### Run RMD for all data"
   ]
  },
  {
   "cell_type": "code",
   "execution_count": null,
   "id": "c9143318",
   "metadata": {},
   "outputs": [],
   "source": [
    "import multiprocess as multiprocessing\n",
    "\n",
    "# require a shared ctype array in order to fill in a numpy array in parallel\n",
    "\n",
    "def create_mp_array(arr):\n",
    "    shared_arr = multiprocessing.RawArray(np.ctypeslib.as_ctypes_type(arr.dtype), int(np.prod(arr.shape)))\n",
    "    new_arr = np.frombuffer(shared_arr, arr.dtype).reshape(arr.shape)  # shared_arr and new_arr the same memory\n",
    "    new_arr[...] = arr\n",
    "    return shared_arr, new_arr\n",
    "\n",
    "def mp_init(shared_arr_, sharred_arr_shape_, sharred_arr_dtype_):\n",
    "    global shared_arr, sharred_arr_shape, sharred_arr_dtype\n",
    "    shared_arr = shared_arr_\n",
    "    sharred_arr_shape = sharred_arr_shape_\n",
    "    sharred_arr_dtype = sharred_arr_dtype_\n",
    "\n",
    "def mp_iter(s):\n",
    "    d = data[:, s[0], s[1], s[2]]\n",
    "    if not np.isnan(d).all():\n",
    "        \n",
    "        isfinite = np.isfinite(d).nonzero()[0]\n",
    "        d = decomposeCArray(flt_nan(d))\n",
    "        robust_cov = MinCovDet(random_state=0).fit(d)\n",
    "        outliers = robust_cov.mahalanobis(d) > chi2_q\n",
    "\n",
    "        rmd_clip_f = np.frombuffer(shared_arr, dtype).reshape(shape)\n",
    "        rmd_clip_f[isfinite, s[0], s[1], s[2]] = outliers"
   ]
  },
  {
   "cell_type": "code",
   "execution_count": null,
   "id": "362e24ec",
   "metadata": {},
   "outputs": [],
   "source": [
    "rmd_clip_f_fn = os.path.join(DATAPATH, 'rmd_clip_test.npz')\n",
    "\n",
    "if not os.path.exists(rmd_clip_f_fn):\n",
    "    \n",
    "    rmd_clip_f = np.ones_like(data, dtype=bool)\n",
    "    d_shared, rmd_clip_f = create_mp_array(rmd_clip_f)\n",
    "    dtype = rmd_clip_f.dtype\n",
    "    shape = rmd_clip_f.shape\n",
    "\n",
    "    m_pool = multiprocessing.Pool(multiprocessing.cpu_count(), initializer=mp_init, \\\n",
    "                                  initargs=(d_shared, dtype, shape))\n",
    "    _ = m_pool.map(mp_iter, np.ndindex(data.shape[1:]))\n",
    "    m_pool.close()\n",
    "    m_pool.join()\n",
    "\n",
    "    rmd_clip_f = rmd_clip_f ^ flags\n",
    "    \n",
    "    np.savez(rmd_clip_f_fn, flags=rmd_clip_f)\n",
    "\n",
    "else:\n",
    "    rmd_clip_f = np.load(rmd_clip_f_fn)['flags']\n",
    "\n",
    "# apply min_N condition\n",
    "mad_f_min_n = np.logical_not(flags).sum(axis=0) < min_N\n",
    "mad_f_min_n = np.expand_dims(mad_f_min_n, axis=0)\n",
    "mad_f_min_n = np.repeat(mad_f_min_n, flags.shape[0], axis=0)\n",
    "rmd_clip_f[mad_f_min_n] = False\n",
    "\n",
    "print('Number of data point flagged from RMD-clipping: {:,}'.format(rmd_clip_f.sum()))"
   ]
  },
  {
   "cell_type": "markdown",
   "id": "ffa34285",
   "metadata": {},
   "source": [
    "### Run MAD-clipping for all data (for comparison)"
   ]
  },
  {
   "cell_type": "code",
   "execution_count": null,
   "id": "9656bbd7",
   "metadata": {},
   "outputs": [],
   "source": [
    "mad_clip_f_fn = os.path.join(DATAPATH, 'mad_clip_test.npz')\n",
    "\n",
    "if not os.path.exists(mad_clip_f_fn):\n",
    "    _, f_r = mad_clip(data.real, axis=0, sigma=sigma)\n",
    "    _, f_i = mad_clip(data.imag, axis=0, sigma=sigma)\n",
    "\n",
    "    mad_clip_f = f_r + f_i\n",
    "    mad_clip_f = mad_clip_f ^ flags\n",
    "    \n",
    "    np.savez(mad_clip_f_fn, flags=mad_clip_f)\n",
    "\n",
    "else:\n",
    "    mad_clip_f = np.load(mad_clip_f_fn)['flags']\n",
    "    \n",
    "# apply min_N condition\n",
    "mad_clip_f[mad_f_min_n] = False\n",
    "\n",
    "print('Number of data point flagged from MAD-clipping: {:,}'.format(mad_clip_f.sum()))"
   ]
  }
 ],
 "metadata": {
  "kernelspec": {
   "display_name": "robstat",
   "language": "python",
   "name": "robstat"
  },
  "language_info": {
   "codemirror_mode": {
    "name": "ipython",
    "version": 3
   },
   "file_extension": ".py",
   "mimetype": "text/x-python",
   "name": "python",
   "nbconvert_exporter": "python",
   "pygments_lexer": "ipython3",
   "version": "3.9.13"
  }
 },
 "nbformat": 4,
 "nbformat_minor": 5
}
